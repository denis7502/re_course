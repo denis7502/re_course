{
 "cells": [
  {
   "cell_type": "code",
   "execution_count": 1,
   "metadata": {
    "collapsed": false,
    "pycharm": {
     "name": "#%%\n"
    }
   },
   "outputs": [],
   "source": [
    "import chess\n",
    "import torch\n",
    "\n",
    "from chess_app.environment import ChessInterface\n",
    "from chess_app.chess_exceptions import NotEnoughMovesExceptions\n",
    "from re_algoritms.agents import RandomAgent, QAgent\n",
    "from chess_app.dataset.loader import loaderChessPos, tanstsovVecLoader\n",
    "import chess.svg\n",
    "from tqdm import tqdm\n"
   ]
  },
  {
   "cell_type": "code",
   "execution_count": null,
   "outputs": [],
   "source": [
    "\n",
    "def is_checkmate(board, state):\n",
    "    board.set_fen(state)\n",
    "    return board.is_checkmate()\n"
   ],
   "metadata": {
    "collapsed": false,
    "pycharm": {
     "name": "#%%\n"
    }
   }
  },
  {
   "cell_type": "code",
   "execution_count": null,
   "outputs": [],
   "source": [
    "from re_algoritms.dqn import GrandMasterNet\n",
    "from re_algoritms.agents import DQNAgent\n",
    "\n",
    "board = chess.Board()\n",
    "\n",
    "lr = 1e-2\n",
    "gamma = 0.7\n",
    "n_epochs = 100\n",
    "\n",
    "policy_net = GrandMasterNet(\n",
    "    board_vec_dim=68,\n",
    "    moves_vec_dim=5\n",
    ")\n",
    "player = DQNAgent(\n",
    "    lr=lr, gamma=gamma, model=policy_net\n",
    ")\n",
    "loader = tanstsovVecLoader(r'chess_app\\dataset\\result.json', r'chess_app\\dataset\\settings.json')\n",
    "loader.createDf()\n",
    "frac = 0.4\n",
    "dataset = loader.getAllData(frac=frac)\n",
    "fen_strings = dataset.iloc[:, 0]\n",
    "dataset = dataset.iloc[:, 1:]"
   ],
   "metadata": {
    "collapsed": false,
    "pycharm": {
     "name": "#%%\n"
    }
   }
  },
  {
   "cell_type": "code",
   "execution_count": null,
   "outputs": [],
   "source": [
    "dataset"
   ],
   "metadata": {
    "collapsed": false,
    "pycharm": {
     "name": "#%%\n"
    }
   }
  },
  {
   "cell_type": "code",
   "execution_count": null,
   "outputs": [],
   "source": [
    "for array, fen_string in zip(dataset.to_numpy(), fen_strings):\n",
    "    # print(_)\n",
    "    print(array, fen_string)\n",
    "    break"
   ],
   "metadata": {
    "collapsed": false,
    "pycharm": {
     "name": "#%%\n"
    }
   }
  },
  {
   "cell_type": "code",
   "execution_count": null,
   "outputs": [],
   "source": [
    "import wandb\n",
    "\n",
    "wandb.init(\n",
    "    project='chess-rl',\n",
    "    config={\n",
    "        'epochs': n_epochs,\n",
    "        'lr': lr,\n",
    "        'gamma': gamma,\n",
    "        'frac': frac,\n",
    "        'dataset_len': len(fen_strings)\n",
    "    }\n",
    ")\n",
    "\n",
    "wandb.run.name = f'BoardNet: {3}, MovesNet: {2}, OutputNet: {2}, activation: leaky-relu, lr={lr}, gamma={gamma}'\n",
    "\n",
    "wandb.define_metric(\"loss\", summary=\"min\")\n",
    "wandb.define_metric(\"loss_epoch\", summary=\"min\")\n",
    "\n",
    "wandb.define_metric(\"win_rate\", summary=\"max\")\n",
    "wandb.define_metric(\"win_rate_epoch\", summary=\"max\")\n",
    "\n",
    "wandb.define_metric(\"lose_rate\", summary=\"min\")\n",
    "wandb.define_metric(\"lose_rate_epoch\", summary=\"min\")\n",
    "\n",
    "wandb.define_metric('stalemate_rate', summary=\"min\")\n",
    "wandb.define_metric('stalemate_rate_epoch', summary=\"min\")\n",
    "\n",
    "wandb.watch(player.policy_net, log='all', log_freq=10)"
   ],
   "metadata": {
    "collapsed": false,
    "pycharm": {
     "name": "#%%\n"
    }
   }
  },
  {
   "cell_type": "code",
   "execution_count": null,
   "outputs": [],
   "source": [
    "def check_gradients(model):\n",
    "    for params in model.parameters():\n",
    "        if params.grad is not None:\n",
    "            print(f'Mean: {torch.mean(params.grad.data.view(-1).detach())}')\n",
    "            print(f'STD: { torch.std(params.grad.data.view(-1).detach())}')\n",
    "            break"
   ],
   "metadata": {
    "collapsed": false,
    "pycharm": {
     "name": "#%%\n"
    }
   }
  },
  {
   "cell_type": "code",
   "execution_count": null,
   "outputs": [],
   "source": [
    "bc_win = 0\n",
    "wh_win = 0\n",
    "stockfish = ChessInterface(verbose=True, engine_path=r\"./chess_app/src/stockfish_15_x64_avx2.exe\")\n",
    "metrics_l = []\n",
    "metrics_w = []\n",
    "losses = []\n",
    "\n",
    "\n",
    "loss = None\n",
    "\n",
    "player.reset_actions()\n",
    "player.policy_net.train()\n",
    "for epoch in range(n_epochs):\n",
    "    print(f'\\nEpoch num: {epoch}\\n')\n",
    "    count_w_l = [0, 0, 0]\n",
    "    for num, (array, fen_string) in enumerate(zip(dataset.to_numpy(), fen_strings)):\n",
    "        # print(f'Party №{num + 857}')\n",
    "        # print(fen_string)\n",
    "        # init necessary for game\n",
    "        new_state = fen_string\n",
    "        new_array = array\n",
    "\n",
    "        black_win = False\n",
    "        white_win = False\n",
    "        stalemate = False\n",
    "        too_much_moves = False\n",
    "\n",
    "        stockfish.set_board_fen(new_state)\n",
    "        all_rewards = list()\n",
    "\n",
    "        for _ in range(4):\n",
    "            # player make move\n",
    "            stockfish.set_board_fen(new_state)\n",
    "            try:\n",
    "                player_move, move_num = player.return_move(\n",
    "                    new_array,\n",
    "                    stockfish.get_top_steps() # todo\n",
    "                )\n",
    "\n",
    "                stockfish.player_move(player_move)\n",
    "                new_state = stockfish.get_board_fen()\n",
    "\n",
    "                all_rewards.append(0)\n",
    "                # print(f'\\tPlayer move: {player_move}, num of move: {move_num}')\n",
    "                if is_checkmate(board, new_state):\n",
    "                    white_win = True\n",
    "                    break\n",
    "            except NotEnoughMovesExceptions:\n",
    "                # print('NotEnoughMovesExceptions')\n",
    "                if len(all_rewards) < 1:\n",
    "                    all_rewards.append(-1)\n",
    "                else:\n",
    "                    all_rewards[-1] = 1\n",
    "                black_win = True\n",
    "                break\n",
    "\n",
    "            # environment make move\n",
    "            try:\n",
    "                machine_move = stockfish.env_move()\n",
    "                new_state = stockfish.get_board_fen()\n",
    "                # print(f'\\tMachine move: {machine_move}')\n",
    "                new_array = loader.extractPos(new_state, -1, -1)\n",
    "                new_array = list(new_array.values())[3:]\n",
    "\n",
    "                if is_checkmate(board, new_state):\n",
    "                    black_win = True\n",
    "                    break\n",
    "\n",
    "            except ValueError as err:\n",
    "                # print('Произошел пат!!!!!!!!!!!!!')\n",
    "                stalemate = True\n",
    "                count_w_l[2] += 1\n",
    "                break\n",
    "\n",
    "        else:\n",
    "            # print('> 4 ходов')\n",
    "            count_w_l[2] += 1\n",
    "            too_much_moves = True\n",
    "\n",
    "\n",
    "        if black_win is True:\n",
    "            reward = -1\n",
    "            count_w_l[1] += 1\n",
    "        elif stalemate is True:\n",
    "            reward = - 0.1\n",
    "        elif too_much_moves is True:\n",
    "            reward = 0.2\n",
    "        else:\n",
    "            reward = 1\n",
    "            count_w_l[0] += 1\n",
    "\n",
    "        all_rewards[-1] = reward\n",
    "        loss = player.update_policy(all_rewards)\n",
    "        if num % 20 == 0:\n",
    "            print(f'Loss value: {loss}, num of party: {num}')\n",
    "            print(f'Win rate: {count_w_l[0]}')\n",
    "            print(f'Lose rate: {count_w_l[1]}')\n",
    "            print(f'Stalemate rate: {count_w_l[2]}')\n",
    "\n",
    "            wandb.log({\n",
    "                'loss': loss,\n",
    "                'win_rate': count_w_l[0]/ len(fen_strings),\n",
    "                'lose_rate': count_w_l[1]/ len(fen_strings),\n",
    "                'stalemate_rate': count_w_l[2]/ len(fen_strings)\n",
    "             })\n",
    "\n",
    "            losses.append(loss)\n",
    "    wandb.log({\n",
    "        'loss_epoch': loss,\n",
    "        'win_rate_epoch': count_w_l[0]/ len(fen_strings),\n",
    "        'lose_rate_epoch': count_w_l[1]/ len(fen_strings),\n",
    "        'stalemate_rate_epoch': count_w_l[2]/ len(fen_strings)\n",
    "    })\n",
    "\n",
    "    metrics_l.append(count_w_l[1]/len(fen_strings))\n",
    "    metrics_w.append(count_w_l[0]/len(fen_strings))\n",
    "    print(f'Winrate {count_w_l[0]} \\t Loserate {count_w_l[1]}')\n",
    "    torch.save(player.policy_net.state_dict(), 'weight.pth')\n"
   ],
   "metadata": {
    "collapsed": false,
    "pycharm": {
     "name": "#%%\n"
    }
   }
  },
  {
   "cell_type": "code",
   "execution_count": null,
   "outputs": [],
   "source": [
    "for param in policy_net.parameters():\n",
    "    print(param.grad)"
   ],
   "metadata": {
    "collapsed": false,
    "pycharm": {
     "name": "#%%\n"
    }
   }
  },
  {
   "cell_type": "code",
   "execution_count": null,
   "outputs": [],
   "source": [],
   "metadata": {
    "collapsed": false,
    "pycharm": {
     "name": "#%%\n"
    }
   }
  },
  {
   "cell_type": "markdown",
   "metadata": {
    "collapsed": false,
    "pycharm": {
     "name": "#%% md\n"
    }
   },
   "source": []
  }
 ],
 "metadata": {
  "kernelspec": {
   "display_name": "Python 3.8.10 ('.course_re': venv)",
   "language": "python",
   "name": "python3"
  },
  "language_info": {
   "codemirror_mode": {
    "name": "ipython",
    "version": 3
   },
   "file_extension": ".py",
   "mimetype": "text/x-python",
   "name": "python",
   "nbconvert_exporter": "python",
   "pygments_lexer": "ipython3",
   "version": "3.8.10"
  },
  "vscode": {
   "interpreter": {
    "hash": "cf1539642ed891428415602806b8f5bad9b8d9b38358d499da812ad12d2a3cac"
   }
  }
 },
 "nbformat": 4,
 "nbformat_minor": 0
}