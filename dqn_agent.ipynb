{
 "cells": [
  {
   "cell_type": "code",
   "execution_count": 9,
   "metadata": {
    "collapsed": false,
    "pycharm": {
     "name": "#%%\n"
    }
   },
   "outputs": [],
   "source": [
    "import chess\n",
    "import torch\n",
    "\n",
    "from chess_app.environment import ChessInterface\n",
    "from chess_app.chess_exceptions import NotEnoughMovesExceptions\n",
    "from re_algoritms.agents import RandomAgent, QAgent\n",
    "from chess_app.dataset.loader import loaderChessPos, tanstsovVecLoader\n",
    "import chess.svg\n",
    "from tqdm import tqdm\n"
   ]
  },
  {
   "cell_type": "code",
   "execution_count": 10,
   "metadata": {
    "collapsed": false,
    "pycharm": {
     "name": "#%%\n"
    }
   },
   "outputs": [],
   "source": [
    "\n",
    "def is_checkmate(board, state):\n",
    "    board.set_fen(state)\n",
    "    return board.is_checkmate()\n"
   ]
  },
  {
   "cell_type": "code",
   "execution_count": 11,
   "metadata": {
    "collapsed": false,
    "pycharm": {
     "name": "#%%\n"
    }
   },
   "outputs": [],
   "source": [
    "from re_algoritms.dqn import GrandMasterNet\n",
    "from re_algoritms.agents import DQNAgent\n",
    "\n",
    "board = chess.Board()\n",
    "\n",
    "lr = 1e-2\n",
    "gamma = 0.96\n",
    "n_epochs = 100\n",
    "\n",
    "stalemate_reward = 0.8\n",
    "\n",
    "policy_net = GrandMasterNet(\n",
    "    board_vec_dim=68,\n",
    "    moves_vec_dim=5\n",
    ")\n",
    "player = DQNAgent(\n",
    "    lr=lr, gamma=gamma, model=policy_net\n",
    ")\n",
    "loader = tanstsovVecLoader(r'chess_app\\dataset\\result.json', r'chess_app\\dataset\\settings.json')\n",
    "loader.createDf()\n",
    "frac = 0.4\n",
    "dataset = loader.getAllData(frac=frac)\n",
    "fen_strings = dataset.iloc[:, 0]\n",
    "dataset = dataset.iloc[:, 1:]"
   ]
  },
  {
   "cell_type": "code",
   "execution_count": 12,
   "outputs": [
    {
     "data": {
      "text/plain": "      white_king_castle  white_queen_castle  black_king_castle  \\\n203                   0                   0                  0   \n797                   0                   0                  0   \n2129                  0                   0                  0   \n8671                  0                   0                  0   \n9336                  0                   0                  0   \n...                 ...                 ...                ...   \n2910                  0                   0                  0   \n3722                  0                   0                  0   \n8806                  0                   0                  0   \n4975                  0                   0                  0   \n8078                  0                   0                  0   \n\n      black_queen_castle  a8  b8  c8  d8  e8  f8  ...  g2  h2  a1  b1  c1  d1  \\\n203                    0   0   0   0   0   0   0  ...   0   0   0   0   0   7   \n797                    0   0   1   0   0   0   0  ...   0   0   0   0   0   0   \n2129                   0   0   0   0   0   0   0  ...   0   0   0   0   0   0   \n8671                   0   9   0   0   0   0   7  ...   0   0   0   0   1   0   \n9336                   0   0   0   0   0   0   9  ...   5   5   0   0   0   0   \n...                  ...  ..  ..  ..  ..  ..  ..  ...  ..  ..  ..  ..  ..  ..   \n2910                   0   9   0   0   8   0   0  ...   0   5   3   0   4  10   \n3722                   0   0   0  10   0   7  10  ...   0   0   0   0   0   4   \n8806                   0   9   0   0   0   0   0  ...   5   5   0   0   0   0   \n4975                   0   0   0  12   0   0   0  ...   0   0   0   0   0   0   \n8078                   0   9   0  10   8   7  10  ...   5   5   0   0   0   3   \n\n      e1  f1  g1  h1  \n203    8   0   0   0  \n797    0   0   0   0  \n2129   0   0   0   0  \n8671   0   0   0   3  \n9336   0   0   1   0  \n...   ..  ..  ..  ..  \n2910   0   3   1   0  \n3722   4   0   0   0  \n8806   3   0   1   0  \n4975   0   0   4   1  \n8078   0   0   1   0  \n\n[962 rows x 68 columns]",
      "text/html": "<div>\n<style scoped>\n    .dataframe tbody tr th:only-of-type {\n        vertical-align: middle;\n    }\n\n    .dataframe tbody tr th {\n        vertical-align: top;\n    }\n\n    .dataframe thead th {\n        text-align: right;\n    }\n</style>\n<table border=\"1\" class=\"dataframe\">\n  <thead>\n    <tr style=\"text-align: right;\">\n      <th></th>\n      <th>white_king_castle</th>\n      <th>white_queen_castle</th>\n      <th>black_king_castle</th>\n      <th>black_queen_castle</th>\n      <th>a8</th>\n      <th>b8</th>\n      <th>c8</th>\n      <th>d8</th>\n      <th>e8</th>\n      <th>f8</th>\n      <th>...</th>\n      <th>g2</th>\n      <th>h2</th>\n      <th>a1</th>\n      <th>b1</th>\n      <th>c1</th>\n      <th>d1</th>\n      <th>e1</th>\n      <th>f1</th>\n      <th>g1</th>\n      <th>h1</th>\n    </tr>\n  </thead>\n  <tbody>\n    <tr>\n      <th>203</th>\n      <td>0</td>\n      <td>0</td>\n      <td>0</td>\n      <td>0</td>\n      <td>0</td>\n      <td>0</td>\n      <td>0</td>\n      <td>0</td>\n      <td>0</td>\n      <td>0</td>\n      <td>...</td>\n      <td>0</td>\n      <td>0</td>\n      <td>0</td>\n      <td>0</td>\n      <td>0</td>\n      <td>7</td>\n      <td>8</td>\n      <td>0</td>\n      <td>0</td>\n      <td>0</td>\n    </tr>\n    <tr>\n      <th>797</th>\n      <td>0</td>\n      <td>0</td>\n      <td>0</td>\n      <td>0</td>\n      <td>0</td>\n      <td>1</td>\n      <td>0</td>\n      <td>0</td>\n      <td>0</td>\n      <td>0</td>\n      <td>...</td>\n      <td>0</td>\n      <td>0</td>\n      <td>0</td>\n      <td>0</td>\n      <td>0</td>\n      <td>0</td>\n      <td>0</td>\n      <td>0</td>\n      <td>0</td>\n      <td>0</td>\n    </tr>\n    <tr>\n      <th>2129</th>\n      <td>0</td>\n      <td>0</td>\n      <td>0</td>\n      <td>0</td>\n      <td>0</td>\n      <td>0</td>\n      <td>0</td>\n      <td>0</td>\n      <td>0</td>\n      <td>0</td>\n      <td>...</td>\n      <td>0</td>\n      <td>0</td>\n      <td>0</td>\n      <td>0</td>\n      <td>0</td>\n      <td>0</td>\n      <td>0</td>\n      <td>0</td>\n      <td>0</td>\n      <td>0</td>\n    </tr>\n    <tr>\n      <th>8671</th>\n      <td>0</td>\n      <td>0</td>\n      <td>0</td>\n      <td>0</td>\n      <td>9</td>\n      <td>0</td>\n      <td>0</td>\n      <td>0</td>\n      <td>0</td>\n      <td>7</td>\n      <td>...</td>\n      <td>0</td>\n      <td>0</td>\n      <td>0</td>\n      <td>0</td>\n      <td>1</td>\n      <td>0</td>\n      <td>0</td>\n      <td>0</td>\n      <td>0</td>\n      <td>3</td>\n    </tr>\n    <tr>\n      <th>9336</th>\n      <td>0</td>\n      <td>0</td>\n      <td>0</td>\n      <td>0</td>\n      <td>0</td>\n      <td>0</td>\n      <td>0</td>\n      <td>0</td>\n      <td>0</td>\n      <td>9</td>\n      <td>...</td>\n      <td>5</td>\n      <td>5</td>\n      <td>0</td>\n      <td>0</td>\n      <td>0</td>\n      <td>0</td>\n      <td>0</td>\n      <td>0</td>\n      <td>1</td>\n      <td>0</td>\n    </tr>\n    <tr>\n      <th>...</th>\n      <td>...</td>\n      <td>...</td>\n      <td>...</td>\n      <td>...</td>\n      <td>...</td>\n      <td>...</td>\n      <td>...</td>\n      <td>...</td>\n      <td>...</td>\n      <td>...</td>\n      <td>...</td>\n      <td>...</td>\n      <td>...</td>\n      <td>...</td>\n      <td>...</td>\n      <td>...</td>\n      <td>...</td>\n      <td>...</td>\n      <td>...</td>\n      <td>...</td>\n      <td>...</td>\n    </tr>\n    <tr>\n      <th>2910</th>\n      <td>0</td>\n      <td>0</td>\n      <td>0</td>\n      <td>0</td>\n      <td>9</td>\n      <td>0</td>\n      <td>0</td>\n      <td>8</td>\n      <td>0</td>\n      <td>0</td>\n      <td>...</td>\n      <td>0</td>\n      <td>5</td>\n      <td>3</td>\n      <td>0</td>\n      <td>4</td>\n      <td>10</td>\n      <td>0</td>\n      <td>3</td>\n      <td>1</td>\n      <td>0</td>\n    </tr>\n    <tr>\n      <th>3722</th>\n      <td>0</td>\n      <td>0</td>\n      <td>0</td>\n      <td>0</td>\n      <td>0</td>\n      <td>0</td>\n      <td>10</td>\n      <td>0</td>\n      <td>7</td>\n      <td>10</td>\n      <td>...</td>\n      <td>0</td>\n      <td>0</td>\n      <td>0</td>\n      <td>0</td>\n      <td>0</td>\n      <td>4</td>\n      <td>4</td>\n      <td>0</td>\n      <td>0</td>\n      <td>0</td>\n    </tr>\n    <tr>\n      <th>8806</th>\n      <td>0</td>\n      <td>0</td>\n      <td>0</td>\n      <td>0</td>\n      <td>9</td>\n      <td>0</td>\n      <td>0</td>\n      <td>0</td>\n      <td>0</td>\n      <td>0</td>\n      <td>...</td>\n      <td>5</td>\n      <td>5</td>\n      <td>0</td>\n      <td>0</td>\n      <td>0</td>\n      <td>0</td>\n      <td>3</td>\n      <td>0</td>\n      <td>1</td>\n      <td>0</td>\n    </tr>\n    <tr>\n      <th>4975</th>\n      <td>0</td>\n      <td>0</td>\n      <td>0</td>\n      <td>0</td>\n      <td>0</td>\n      <td>0</td>\n      <td>12</td>\n      <td>0</td>\n      <td>0</td>\n      <td>0</td>\n      <td>...</td>\n      <td>0</td>\n      <td>0</td>\n      <td>0</td>\n      <td>0</td>\n      <td>0</td>\n      <td>0</td>\n      <td>0</td>\n      <td>0</td>\n      <td>4</td>\n      <td>1</td>\n    </tr>\n    <tr>\n      <th>8078</th>\n      <td>0</td>\n      <td>0</td>\n      <td>0</td>\n      <td>0</td>\n      <td>9</td>\n      <td>0</td>\n      <td>10</td>\n      <td>8</td>\n      <td>7</td>\n      <td>10</td>\n      <td>...</td>\n      <td>5</td>\n      <td>5</td>\n      <td>0</td>\n      <td>0</td>\n      <td>0</td>\n      <td>3</td>\n      <td>0</td>\n      <td>0</td>\n      <td>1</td>\n      <td>0</td>\n    </tr>\n  </tbody>\n</table>\n<p>962 rows × 68 columns</p>\n</div>"
     },
     "execution_count": 12,
     "metadata": {},
     "output_type": "execute_result"
    }
   ],
   "source": [
    "dataset"
   ],
   "metadata": {
    "collapsed": false,
    "pycharm": {
     "name": "#%%\n"
    }
   }
  },
  {
   "cell_type": "code",
   "execution_count": 13,
   "metadata": {
    "collapsed": false,
    "pycharm": {
     "name": "#%%\n"
    }
   },
   "outputs": [
    {
     "name": "stdout",
     "output_type": "stream",
     "text": [
      "[0 0 0 0 0 0 0 0 0 0 0 0 0 0 0 0 0 0 0 2 0 0 0 0 0 0 0 0 0 0 0 0 0 0 0 0 0\n",
      " 0 0 0 0 0 0 0 0 1 0 0 0 0 0 0 0 0 0 0 0 0 0 0 0 0 0 7 8 0 0 0] 8/7Q/8/8/8/1K6/8/3kq3 w - - 0 1\n"
     ]
    }
   ],
   "source": [
    "for array, fen_string in zip(dataset.to_numpy(), fen_strings):\n",
    "    # print(_)\n",
    "    print(array, fen_string)\n",
    "    break"
   ]
  },
  {
   "cell_type": "code",
   "execution_count": 14,
   "outputs": [
    {
     "data": {
      "text/plain": "<IPython.core.display.HTML object>",
      "text/html": "Finishing last run (ID:1aksq0el) before initializing another..."
     },
     "metadata": {},
     "output_type": "display_data"
    },
    {
     "data": {
      "text/plain": "<IPython.core.display.HTML object>",
      "text/html": "Waiting for W&B process to finish... <strong style=\"color:green\">(success).</strong>"
     },
     "metadata": {},
     "output_type": "display_data"
    },
    {
     "data": {
      "text/plain": "VBox(children=(Label(value='0.001 MB of 0.001 MB uploaded (0.000 MB deduped)\\r'), FloatProgress(value=1.0, max…",
      "application/vnd.jupyter.widget-view+json": {
       "version_major": 2,
       "version_minor": 0,
       "model_id": "9f48d9278b3c45b19dc9f41f6de0b040"
      }
     },
     "metadata": {},
     "output_type": "display_data"
    },
    {
     "data": {
      "text/plain": "<IPython.core.display.HTML object>",
      "text/html": "<style>\n    table.wandb td:nth-child(1) { padding: 0 10px; text-align: left ; width: auto;} td:nth-child(2) {text-align: left ; width: 100%}\n    .wandb-row { display: flex; flex-direction: row; flex-wrap: wrap; justify-content: flex-start; width: 100% }\n    .wandb-col { display: flex; flex-direction: column; flex-basis: 100%; flex: 1; padding: 10px; }\n    </style>\n<div class=\"wandb-row\"><div class=\"wandb-col\"><h3>Run history:</h3><br/><table class=\"wandb\"><tr><td>lose_rate</td><td>▁▄█</td></tr><tr><td>loss</td><td>█▁▆</td></tr><tr><td>move_num</td><td>▁▁█</td></tr><tr><td>stalemate_rate</td><td>▁▅█</td></tr><tr><td>win_rate</td><td>▁▆█</td></tr></table><br/></div><div class=\"wandb-col\"><h3>Run summary:</h3><br/><table class=\"wandb\"><tr><td>move_num</td><td>1</td></tr></table><br/></div></div>"
     },
     "metadata": {},
     "output_type": "display_data"
    },
    {
     "data": {
      "text/plain": "<IPython.core.display.HTML object>",
      "text/html": "Synced <strong style=\"color:#cdcd00\">lilac-plant-15</strong>: <a href=\"https://wandb.ai/ai_community/chess-rl/runs/1aksq0el\" target=\"_blank\">https://wandb.ai/ai_community/chess-rl/runs/1aksq0el</a><br/>Synced 5 W&B file(s), 0 media file(s), 0 artifact file(s) and 0 other file(s)"
     },
     "metadata": {},
     "output_type": "display_data"
    },
    {
     "data": {
      "text/plain": "<IPython.core.display.HTML object>",
      "text/html": "Find logs at: <code>.\\wandb\\run-20221226_003248-1aksq0el\\logs</code>"
     },
     "metadata": {},
     "output_type": "display_data"
    },
    {
     "data": {
      "text/plain": "<IPython.core.display.HTML object>",
      "text/html": "Successfully finished last run (ID:1aksq0el). Initializing new run:<br/>"
     },
     "metadata": {},
     "output_type": "display_data"
    },
    {
     "data": {
      "text/plain": "VBox(children=(Label(value='Waiting for wandb.init()...\\r'), FloatProgress(value=0.016666666666666666, max=1.0…",
      "application/vnd.jupyter.widget-view+json": {
       "version_major": 2,
       "version_minor": 0,
       "model_id": "5e2f744aa29c4870b478214a065b5aca"
      }
     },
     "metadata": {},
     "output_type": "display_data"
    },
    {
     "data": {
      "text/plain": "<IPython.core.display.HTML object>",
      "text/html": "Tracking run with wandb version 0.13.7"
     },
     "metadata": {},
     "output_type": "display_data"
    },
    {
     "data": {
      "text/plain": "<IPython.core.display.HTML object>",
      "text/html": "Run data is saved locally in <code>E:\\re_course\\wandb\\run-20221226_003601-3qxn0yt6</code>"
     },
     "metadata": {},
     "output_type": "display_data"
    },
    {
     "data": {
      "text/plain": "<IPython.core.display.HTML object>",
      "text/html": "Syncing run <strong><a href=\"https://wandb.ai/ai_community/chess-rl/runs/3qxn0yt6\" target=\"_blank\">dark-glitter-16</a></strong> to <a href=\"https://wandb.ai/ai_community/chess-rl\" target=\"_blank\">Weights & Biases</a> (<a href=\"https://wandb.me/run\" target=\"_blank\">docs</a>)<br/>"
     },
     "metadata": {},
     "output_type": "display_data"
    },
    {
     "data": {
      "text/plain": "[]"
     },
     "execution_count": 14,
     "metadata": {},
     "output_type": "execute_result"
    }
   ],
   "source": [
    "import wandb\n",
    "\n",
    "wandb.init(\n",
    "    project='chess-rl',\n",
    "    config={\n",
    "        'epochs': n_epochs,\n",
    "        'lr': lr,\n",
    "        'gamma': gamma,\n",
    "        'frac': frac,\n",
    "        'dataset_len': len(fen_strings)\n",
    "    }\n",
    ")\n",
    "\n",
    "wandb.run.name = f'BoardNet: {3}, MovesNet: {2}, OutputNet: {2}, activation: leaky-relu, lr={lr}, gamma={gamma}, shuffle, stalemate_reward={stalemate_reward}, 1 - loss'\n",
    "\n",
    "wandb.define_metric(\"loss\", summary=\"min\")\n",
    "wandb.define_metric(\"loss_epoch\", summary=\"min\")\n",
    "\n",
    "wandb.define_metric('move_num')\n",
    "\n",
    "wandb.define_metric(\"win_rate\", summary=\"max\")\n",
    "wandb.define_metric(\"win_rate_epoch\", summary=\"max\")\n",
    "\n",
    "wandb.define_metric(\"lose_rate\", summary=\"min\")\n",
    "wandb.define_metric(\"lose_rate_epoch\", summary=\"min\")\n",
    "\n",
    "wandb.define_metric('stalemate_rate', summary=\"min\")\n",
    "wandb.define_metric('stalemate_rate_epoch', summary=\"min\")\n",
    "\n",
    "wandb.watch(player.policy_net, log='all', log_freq=10)"
   ],
   "metadata": {
    "collapsed": false,
    "pycharm": {
     "name": "#%%\n"
    }
   }
  },
  {
   "cell_type": "code",
   "execution_count": 15,
   "outputs": [],
   "source": [
    "def check_gradients(model):\n",
    "    for params in model.parameters():\n",
    "        if params.grad is not None:\n",
    "            print(f'Mean: {torch.mean(params.grad.data.view(-1).detach())}')\n",
    "            print(f'STD: { torch.std(params.grad.data.view(-1).detach())}')\n",
    "            break"
   ],
   "metadata": {
    "collapsed": false,
    "pycharm": {
     "name": "#%%\n"
    }
   }
  },
  {
   "cell_type": "code",
   "execution_count": 16,
   "metadata": {
    "collapsed": false,
    "pycharm": {
     "name": "#%%\n"
    }
   },
   "outputs": [
    {
     "name": "stdout",
     "output_type": "stream",
     "text": [
      "\n",
      "Epoch num: 0\n",
      "\n",
      "Num of move: tensor([3])\n",
      "Loss value: 5.721584320068359, num of party: 0\n",
      "Win rate: 0\n",
      "Lose rate: 0\n",
      "Stalemate rate: 1\n",
      "Num of move: tensor([0])\n",
      "Loss value: 4.528450965881348, num of party: 20\n",
      "Win rate: 4\n",
      "Lose rate: 2\n",
      "Stalemate rate: 15\n",
      "Num of move: tensor([3])\n",
      "Loss value: 3.1421751976013184, num of party: 40\n",
      "Win rate: 6\n",
      "Lose rate: 9\n",
      "Stalemate rate: 26\n",
      "Num of move: tensor([2])\n",
      "Loss value: -0.9144361019134521, num of party: 60\n",
      "Win rate: 9\n",
      "Lose rate: 17\n",
      "Stalemate rate: 35\n",
      "Num of move: tensor([4])\n",
      "Loss value: 5.824033737182617, num of party: 80\n",
      "Win rate: 11\n",
      "Lose rate: 23\n",
      "Stalemate rate: 47\n",
      "Num of move: tensor([3])\n",
      "Loss value: 1.0000042915344238, num of party: 100\n",
      "Win rate: 14\n",
      "Lose rate: 29\n",
      "Stalemate rate: 58\n",
      "Num of move: tensor([3])\n",
      "Loss value: 1.0000003576278687, num of party: 120\n",
      "Win rate: 17\n",
      "Lose rate: 31\n",
      "Stalemate rate: 73\n",
      "Num of move: tensor([3])\n",
      "Loss value: 1.0000001192092896, num of party: 140\n",
      "Win rate: 20\n",
      "Lose rate: 35\n",
      "Stalemate rate: 86\n",
      "Num of move: tensor([3])\n",
      "Loss value: 1.0000003576278687, num of party: 160\n",
      "Win rate: 22\n",
      "Lose rate: 37\n",
      "Stalemate rate: 102\n",
      "Num of move: tensor([3])\n",
      "Loss value: 1.0000001192092896, num of party: 180\n",
      "Win rate: 25\n",
      "Lose rate: 41\n",
      "Stalemate rate: 115\n",
      "Num of move: tensor([3])\n",
      "Loss value: 1.0000003576278687, num of party: 200\n",
      "Win rate: 26\n",
      "Lose rate: 46\n",
      "Stalemate rate: 129\n",
      "Num of move: tensor([3])\n",
      "Loss value: 1.0000003576278687, num of party: 220\n",
      "Win rate: 29\n",
      "Lose rate: 47\n",
      "Stalemate rate: 145\n",
      "Num of move: tensor([3])\n",
      "Loss value: 1.0000003576278687, num of party: 240\n",
      "Win rate: 35\n",
      "Lose rate: 52\n",
      "Stalemate rate: 154\n",
      "Num of move: tensor([3])\n",
      "Loss value: 0.9999989867210388, num of party: 260\n",
      "Win rate: 36\n",
      "Lose rate: 56\n",
      "Stalemate rate: 169\n",
      "Num of move: tensor([3])\n",
      "Loss value: 1.0000003576278687, num of party: 280\n",
      "Win rate: 38\n",
      "Lose rate: 62\n",
      "Stalemate rate: 181\n",
      "Num of move: tensor([3])\n",
      "Loss value: 1.0000004768371582, num of party: 300\n",
      "Win rate: 41\n",
      "Lose rate: 65\n",
      "Stalemate rate: 195\n",
      "Num of move: tensor([3])\n",
      "Loss value: 1.0000003576278687, num of party: 320\n",
      "Win rate: 43\n",
      "Lose rate: 72\n",
      "Stalemate rate: 206\n",
      "Num of move: tensor([3])\n",
      "Loss value: 0.9999989867210388, num of party: 340\n",
      "Win rate: 46\n",
      "Lose rate: 80\n",
      "Stalemate rate: 215\n",
      "Num of move: tensor([3])\n",
      "Loss value: 1.0000003576278687, num of party: 360\n",
      "Win rate: 48\n",
      "Lose rate: 89\n",
      "Stalemate rate: 224\n",
      "Num of move: tensor([3])\n",
      "Loss value: 1.0000017881393433, num of party: 380\n",
      "Win rate: 53\n",
      "Lose rate: 90\n",
      "Stalemate rate: 238\n",
      "Num of move: tensor([3])\n",
      "Loss value: 1.0000003576278687, num of party: 400\n",
      "Win rate: 56\n",
      "Lose rate: 94\n",
      "Stalemate rate: 251\n",
      "Num of move: tensor([3])\n",
      "Loss value: 1.0000003576278687, num of party: 420\n",
      "Win rate: 58\n",
      "Lose rate: 102\n",
      "Stalemate rate: 261\n",
      "Num of move: tensor([3])\n",
      "Loss value: 0.9999998807907104, num of party: 440\n",
      "Win rate: 62\n",
      "Lose rate: 107\n",
      "Stalemate rate: 272\n",
      "Num of move: tensor([3])\n",
      "Loss value: 0.9999998807907104, num of party: 460\n",
      "Win rate: 62\n",
      "Lose rate: 116\n",
      "Stalemate rate: 283\n",
      "Num of move: tensor([3])\n",
      "Loss value: 1.0000003576278687, num of party: 480\n",
      "Win rate: 64\n",
      "Lose rate: 124\n",
      "Stalemate rate: 293\n",
      "Num of move: tensor([3])\n",
      "Loss value: 0.9999995231628418, num of party: 500\n",
      "Win rate: 64\n",
      "Lose rate: 134\n",
      "Stalemate rate: 303\n",
      "Num of move: tensor([3])\n",
      "Loss value: 0.9999989867210388, num of party: 520\n",
      "Win rate: 66\n",
      "Lose rate: 138\n",
      "Stalemate rate: 317\n",
      "Num of move: tensor([3])\n",
      "Loss value: 1.0000003576278687, num of party: 540\n",
      "Win rate: 68\n",
      "Lose rate: 144\n",
      "Stalemate rate: 329\n",
      "Num of move: tensor([3])\n",
      "Loss value: 0.9999998807907104, num of party: 560\n",
      "Win rate: 69\n",
      "Lose rate: 152\n",
      "Stalemate rate: 340\n",
      "Num of move: tensor([3])\n",
      "Loss value: 1.0000003576278687, num of party: 580\n",
      "Win rate: 72\n",
      "Lose rate: 156\n",
      "Stalemate rate: 353\n",
      "Num of move: tensor([3])\n",
      "Loss value: 1.0000003576278687, num of party: 600\n",
      "Win rate: 73\n",
      "Lose rate: 161\n",
      "Stalemate rate: 367\n",
      "Num of move: tensor([3])\n",
      "Loss value: 1.000001072883606, num of party: 620\n",
      "Win rate: 79\n",
      "Lose rate: 167\n",
      "Stalemate rate: 375\n",
      "Num of move: tensor([3])\n",
      "Loss value: 1.0000003576278687, num of party: 640\n",
      "Win rate: 81\n",
      "Lose rate: 171\n",
      "Stalemate rate: 389\n",
      "Num of move: tensor([3])\n",
      "Loss value: 1.0000003576278687, num of party: 660\n",
      "Win rate: 84\n",
      "Lose rate: 177\n",
      "Stalemate rate: 400\n",
      "Num of move: tensor([3])\n",
      "Loss value: 1.0000001192092896, num of party: 680\n",
      "Win rate: 87\n",
      "Lose rate: 180\n",
      "Stalemate rate: 414\n",
      "Num of move: tensor([3])\n",
      "Loss value: 0.9999995231628418, num of party: 700\n",
      "Win rate: 88\n",
      "Lose rate: 189\n",
      "Stalemate rate: 424\n",
      "Num of move: tensor([3])\n",
      "Loss value: 0.9999995231628418, num of party: 720\n",
      "Win rate: 91\n",
      "Lose rate: 193\n",
      "Stalemate rate: 437\n",
      "Num of move: tensor([3])\n",
      "Loss value: 1.0000003576278687, num of party: 740\n",
      "Win rate: 92\n",
      "Lose rate: 195\n",
      "Stalemate rate: 454\n",
      "Num of move: tensor([3])\n",
      "Loss value: 1.0000003576278687, num of party: 760\n",
      "Win rate: 92\n",
      "Lose rate: 197\n",
      "Stalemate rate: 472\n",
      "Num of move: tensor([3])\n",
      "Loss value: 1.000001072883606, num of party: 780\n",
      "Win rate: 94\n",
      "Lose rate: 202\n",
      "Stalemate rate: 485\n",
      "Num of move: tensor([3])\n",
      "Loss value: 1.0000003576278687, num of party: 800\n",
      "Win rate: 96\n",
      "Lose rate: 209\n",
      "Stalemate rate: 496\n",
      "Num of move: tensor([3])\n",
      "Loss value: 1.0000003576278687, num of party: 820\n",
      "Win rate: 100\n",
      "Lose rate: 212\n",
      "Stalemate rate: 509\n",
      "Num of move: tensor([3])\n",
      "Loss value: 1.0000003576278687, num of party: 840\n",
      "Win rate: 104\n",
      "Lose rate: 214\n",
      "Stalemate rate: 523\n",
      "Num of move: tensor([3])\n",
      "Loss value: 1.0000003576278687, num of party: 860\n",
      "Win rate: 104\n",
      "Lose rate: 221\n",
      "Stalemate rate: 536\n",
      "Num of move: tensor([3])\n",
      "Loss value: 1.0000003576278687, num of party: 880\n",
      "Win rate: 106\n",
      "Lose rate: 225\n",
      "Stalemate rate: 550\n",
      "Num of move: tensor([3])\n",
      "Loss value: 1.0000003576278687, num of party: 900\n",
      "Win rate: 106\n",
      "Lose rate: 231\n",
      "Stalemate rate: 564\n",
      "Num of move: tensor([3])\n",
      "Loss value: 0.9999998807907104, num of party: 920\n",
      "Win rate: 107\n",
      "Lose rate: 241\n",
      "Stalemate rate: 573\n",
      "Num of move: tensor([3])\n",
      "Loss value: 1.0000003576278687, num of party: 940\n",
      "Win rate: 108\n",
      "Lose rate: 246\n",
      "Stalemate rate: 587\n",
      "Num of move: tensor([3])\n",
      "Loss value: 0.9999995231628418, num of party: 960\n",
      "Win rate: 109\n",
      "Lose rate: 251\n",
      "Stalemate rate: 601\n",
      "Winrate 109 \t Loserate 251\n",
      "\n",
      "Epoch num: 1\n",
      "\n",
      "Num of move: tensor([3])\n",
      "Loss value: 0.9999989867210388, num of party: 0\n",
      "Win rate: 0\n",
      "Lose rate: 1\n",
      "Stalemate rate: 0\n",
      "Num of move: tensor([3])\n",
      "Loss value: 0.9999989867210388, num of party: 20\n",
      "Win rate: 4\n",
      "Lose rate: 8\n",
      "Stalemate rate: 9\n",
      "Num of move: tensor([3])\n",
      "Loss value: 1.0000003576278687, num of party: 40\n",
      "Win rate: 7\n",
      "Lose rate: 14\n",
      "Stalemate rate: 20\n",
      "Num of move: tensor([3])\n",
      "Loss value: 1.0000003576278687, num of party: 60\n",
      "Win rate: 11\n",
      "Lose rate: 21\n",
      "Stalemate rate: 29\n",
      "Num of move: tensor([3])\n",
      "Loss value: 1.0000003576278687, num of party: 80\n",
      "Win rate: 13\n",
      "Lose rate: 25\n",
      "Stalemate rate: 43\n",
      "Num of move: tensor([3])\n",
      "Loss value: 1.0000003576278687, num of party: 100\n",
      "Win rate: 15\n",
      "Lose rate: 29\n",
      "Stalemate rate: 57\n",
      "Num of move: tensor([3])\n",
      "Loss value: 1.000001072883606, num of party: 120\n",
      "Win rate: 17\n",
      "Lose rate: 34\n",
      "Stalemate rate: 70\n",
      "Num of move: tensor([3])\n",
      "Loss value: 0.9999989867210388, num of party: 140\n",
      "Win rate: 22\n",
      "Lose rate: 40\n",
      "Stalemate rate: 79\n"
     ]
    },
    {
     "ename": "KeyboardInterrupt",
     "evalue": "",
     "output_type": "error",
     "traceback": [
      "\u001B[1;31m---------------------------------------------------------------------------\u001B[0m",
      "\u001B[1;31mKeyboardInterrupt\u001B[0m                         Traceback (most recent call last)",
      "Cell \u001B[1;32mIn [16], line 39\u001B[0m\n\u001B[0;32m     35\u001B[0m stockfish\u001B[38;5;241m.\u001B[39mset_board_fen(new_state)\n\u001B[0;32m     36\u001B[0m \u001B[38;5;28;01mtry\u001B[39;00m:\n\u001B[0;32m     37\u001B[0m     player_move, move_num \u001B[38;5;241m=\u001B[39m player\u001B[38;5;241m.\u001B[39mreturn_move(\n\u001B[0;32m     38\u001B[0m         new_array,\n\u001B[1;32m---> 39\u001B[0m         \u001B[43mstockfish\u001B[49m\u001B[38;5;241;43m.\u001B[39;49m\u001B[43mget_top_steps\u001B[49m\u001B[43m(\u001B[49m\u001B[43m)\u001B[49m \u001B[38;5;66;03m# todo\u001B[39;00m\n\u001B[0;32m     40\u001B[0m     )\n\u001B[0;32m     42\u001B[0m     stockfish\u001B[38;5;241m.\u001B[39mplayer_move(player_move)\n\u001B[0;32m     43\u001B[0m     new_state \u001B[38;5;241m=\u001B[39m stockfish\u001B[38;5;241m.\u001B[39mget_board_fen()\n",
      "File \u001B[1;32mE:\\re_course\\chess_app\\environment.py:74\u001B[0m, in \u001B[0;36mChessInterface.get_top_steps\u001B[1;34m(self, n)\u001B[0m\n\u001B[0;32m     73\u001B[0m \u001B[38;5;28;01mdef\u001B[39;00m \u001B[38;5;21mget_top_steps\u001B[39m(\u001B[38;5;28mself\u001B[39m, n\u001B[38;5;241m=\u001B[39m\u001B[38;5;241m5\u001B[39m):\n\u001B[1;32m---> 74\u001B[0m     steps \u001B[38;5;241m=\u001B[39m \u001B[38;5;28;43mself\u001B[39;49m\u001B[38;5;241;43m.\u001B[39;49m\u001B[43mstockfish\u001B[49m\u001B[38;5;241;43m.\u001B[39;49m\u001B[43mget_top_moves\u001B[49m\u001B[43m(\u001B[49m\u001B[43mn\u001B[49m\u001B[43m)\u001B[49m\n\u001B[0;32m     75\u001B[0m     array \u001B[38;5;241m=\u001B[39m np\u001B[38;5;241m.\u001B[39marray([])\n\u001B[0;32m     76\u001B[0m     \u001B[38;5;28;01mfor\u001B[39;00m step \u001B[38;5;129;01min\u001B[39;00m steps:\n",
      "File \u001B[1;32mE:\\re_course\\venv\\lib\\site-packages\\stockfish\\models.py:540\u001B[0m, in \u001B[0;36mStockfish.get_top_moves\u001B[1;34m(self, num_top_moves)\u001B[0m\n\u001B[0;32m    538\u001B[0m lines \u001B[38;5;241m=\u001B[39m []\n\u001B[0;32m    539\u001B[0m \u001B[38;5;28;01mwhile\u001B[39;00m \u001B[38;5;28;01mTrue\u001B[39;00m:\n\u001B[1;32m--> 540\u001B[0m     text \u001B[38;5;241m=\u001B[39m \u001B[38;5;28;43mself\u001B[39;49m\u001B[38;5;241;43m.\u001B[39;49m\u001B[43m_read_line\u001B[49m\u001B[43m(\u001B[49m\u001B[43m)\u001B[49m\n\u001B[0;32m    541\u001B[0m     splitted_text \u001B[38;5;241m=\u001B[39m text\u001B[38;5;241m.\u001B[39msplit(\u001B[38;5;124m\"\u001B[39m\u001B[38;5;124m \u001B[39m\u001B[38;5;124m\"\u001B[39m)\n\u001B[0;32m    542\u001B[0m     lines\u001B[38;5;241m.\u001B[39mappend(splitted_text)\n",
      "File \u001B[1;32mE:\\re_course\\venv\\lib\\site-packages\\stockfish\\models.py:161\u001B[0m, in \u001B[0;36mStockfish._read_line\u001B[1;34m(self)\u001B[0m\n\u001B[0;32m    159\u001B[0m \u001B[38;5;28;01mif\u001B[39;00m \u001B[38;5;28mself\u001B[39m\u001B[38;5;241m.\u001B[39m_stockfish\u001B[38;5;241m.\u001B[39mpoll() \u001B[38;5;129;01mis\u001B[39;00m \u001B[38;5;129;01mnot\u001B[39;00m \u001B[38;5;28;01mNone\u001B[39;00m:\n\u001B[0;32m    160\u001B[0m     \u001B[38;5;28;01mraise\u001B[39;00m StockfishException(\u001B[38;5;124m\"\u001B[39m\u001B[38;5;124mThe Stockfish process has crashed\u001B[39m\u001B[38;5;124m\"\u001B[39m)\n\u001B[1;32m--> 161\u001B[0m \u001B[38;5;28;01mreturn\u001B[39;00m \u001B[38;5;28;43mself\u001B[39;49m\u001B[38;5;241;43m.\u001B[39;49m\u001B[43m_stockfish\u001B[49m\u001B[38;5;241;43m.\u001B[39;49m\u001B[43mstdout\u001B[49m\u001B[38;5;241;43m.\u001B[39;49m\u001B[43mreadline\u001B[49m\u001B[43m(\u001B[49m\u001B[43m)\u001B[49m\u001B[38;5;241m.\u001B[39mstrip()\n",
      "File \u001B[1;32m~\\AppData\\Local\\Programs\\Python\\Python39\\lib\\encodings\\cp1251.py:22\u001B[0m, in \u001B[0;36mIncrementalDecoder.decode\u001B[1;34m(self, input, final)\u001B[0m\n\u001B[0;32m     21\u001B[0m \u001B[38;5;28;01mclass\u001B[39;00m \u001B[38;5;21;01mIncrementalDecoder\u001B[39;00m(codecs\u001B[38;5;241m.\u001B[39mIncrementalDecoder):\n\u001B[1;32m---> 22\u001B[0m     \u001B[38;5;28;01mdef\u001B[39;00m \u001B[38;5;21mdecode\u001B[39m(\u001B[38;5;28mself\u001B[39m, \u001B[38;5;28minput\u001B[39m, final\u001B[38;5;241m=\u001B[39m\u001B[38;5;28;01mFalse\u001B[39;00m):\n\u001B[0;32m     23\u001B[0m         \u001B[38;5;28;01mreturn\u001B[39;00m codecs\u001B[38;5;241m.\u001B[39mcharmap_decode(\u001B[38;5;28minput\u001B[39m,\u001B[38;5;28mself\u001B[39m\u001B[38;5;241m.\u001B[39merrors,decoding_table)[\u001B[38;5;241m0\u001B[39m]\n",
      "\u001B[1;31mKeyboardInterrupt\u001B[0m: "
     ]
    }
   ],
   "source": [
    "bc_win = 0\n",
    "wh_win = 0\n",
    "stockfish = ChessInterface(verbose=True, engine_path=r\"./chess_app/src/stockfish_15_x64_avx2.exe\")\n",
    "metrics_l = []\n",
    "metrics_w = []\n",
    "losses = []\n",
    "\n",
    "\n",
    "loss = None\n",
    "\n",
    "player.reset_actions()\n",
    "player.policy_net.train()\n",
    "for epoch in range(n_epochs):\n",
    "    print(f'\\nEpoch num: {epoch}\\n')\n",
    "    count_w_l = [0, 0, 0]\n",
    "    for num, (array, fen_string) in enumerate(zip(dataset.to_numpy(), fen_strings)):\n",
    "        # print(f'Party №{num + 857}')\n",
    "        # print(fen_string)\n",
    "        # init necessary for game\n",
    "        new_state = fen_string\n",
    "        new_array = array\n",
    "\n",
    "        move_num = None\n",
    "\n",
    "        black_win = False\n",
    "        white_win = False\n",
    "        stalemate = False\n",
    "        too_much_moves = False\n",
    "\n",
    "        stockfish.set_board_fen(new_state)\n",
    "        all_rewards = list()\n",
    "\n",
    "        for _ in range(4):\n",
    "            # player make move\n",
    "            stockfish.set_board_fen(new_state)\n",
    "            try:\n",
    "                player_move, move_num = player.return_move(\n",
    "                    new_array,\n",
    "                    stockfish.get_top_steps() # todo\n",
    "                )\n",
    "\n",
    "                stockfish.player_move(player_move)\n",
    "                new_state = stockfish.get_board_fen()\n",
    "\n",
    "                all_rewards.append(0)\n",
    "                # print(f'\\tPlayer move: {player_move}, num of move: {move_num}')\n",
    "                if is_checkmate(board, new_state):\n",
    "                    white_win = True\n",
    "                    break\n",
    "            except NotEnoughMovesExceptions:\n",
    "                # print('NotEnoughMovesExceptions')\n",
    "                if len(all_rewards) < 1:\n",
    "                    all_rewards.append(-1)\n",
    "                else:\n",
    "                    all_rewards[-1] = 1\n",
    "                black_win = True\n",
    "                break\n",
    "\n",
    "            # environment make move\n",
    "            try:\n",
    "                machine_move = stockfish.env_move()\n",
    "                new_state = stockfish.get_board_fen()\n",
    "                # print(f'\\tMachine move: {machine_move}')\n",
    "                new_array = loader.extractPos(new_state, -1, -1)\n",
    "                new_array = list(new_array.values())[3:]\n",
    "\n",
    "                if is_checkmate(board, new_state):\n",
    "                    black_win = True\n",
    "                    break\n",
    "\n",
    "            except ValueError as err:\n",
    "                # print('Произошел пат!!!!!!!!!!!!!')\n",
    "                stalemate = True\n",
    "                count_w_l[2] += 1\n",
    "                break\n",
    "\n",
    "        else:\n",
    "            # print('> 4 ходов')\n",
    "            count_w_l[2] += 1\n",
    "            too_much_moves = True\n",
    "\n",
    "\n",
    "        if black_win is True:\n",
    "            reward = -1\n",
    "            count_w_l[1] += 1\n",
    "        elif stalemate is True:\n",
    "            reward = - stalemate_reward\n",
    "        elif too_much_moves is True:\n",
    "            reward = 0.2\n",
    "        else:\n",
    "            reward = 1\n",
    "            count_w_l[0] += 1\n",
    "\n",
    "        all_rewards[-1] = reward\n",
    "        loss = player.update_policy(all_rewards)\n",
    "        if num % 20 == 0:\n",
    "            print(f'Num of move: {move_num}')\n",
    "            print(f'Loss value: {loss}, num of party: {num}')\n",
    "            print(f'Win rate: {count_w_l[0]}')\n",
    "            print(f'Lose rate: {count_w_l[1]}')\n",
    "            print(f'Stalemate rate: {count_w_l[2]}')\n",
    "\n",
    "            wandb.log({\n",
    "                'loss': loss,\n",
    "                'move_num': move_num,\n",
    "                'win_rate': count_w_l[0]/ len(fen_strings),\n",
    "                'lose_rate': count_w_l[1]/ len(fen_strings),\n",
    "                'stalemate_rate': count_w_l[2]/ len(fen_strings)\n",
    "             })\n",
    "\n",
    "            losses.append(loss)\n",
    "    wandb.log({\n",
    "        'loss_epoch': loss,\n",
    "        'win_rate_epoch': count_w_l[0]/ len(fen_strings),\n",
    "        'lose_rate_epoch': count_w_l[1]/ len(fen_strings),\n",
    "        'stalemate_rate_epoch': count_w_l[2]/ len(fen_strings)\n",
    "    })\n",
    "\n",
    "    metrics_l.append(count_w_l[1]/len(fen_strings))\n",
    "    metrics_w.append(count_w_l[0]/len(fen_strings))\n",
    "    print(f'Winrate {count_w_l[0]} \\t Loserate {count_w_l[1]}')\n",
    "    torch.save(player.policy_net.state_dict(), 'weight.pth')\n"
   ]
  },
  {
   "cell_type": "code",
   "execution_count": null,
   "outputs": [],
   "source": [
    "for param in policy_net.parameters():\n",
    "    print(param.grad)"
   ],
   "metadata": {
    "collapsed": false,
    "pycharm": {
     "name": "#%%\n"
    }
   }
  },
  {
   "cell_type": "code",
   "execution_count": null,
   "outputs": [],
   "source": [],
   "metadata": {
    "collapsed": false,
    "pycharm": {
     "name": "#%%\n"
    }
   }
  },
  {
   "cell_type": "markdown",
   "metadata": {
    "collapsed": false,
    "pycharm": {
     "name": "#%% md\n"
    }
   },
   "source": []
  }
 ],
 "metadata": {
  "kernelspec": {
   "display_name": "Python 3.8.10 ('.course_re': venv)",
   "language": "python",
   "name": "python3"
  },
  "language_info": {
   "codemirror_mode": {
    "name": "ipython",
    "version": 3
   },
   "file_extension": ".py",
   "mimetype": "text/x-python",
   "name": "python",
   "nbconvert_exporter": "python",
   "pygments_lexer": "ipython3",
   "version": "3.8.10"
  },
  "vscode": {
   "interpreter": {
    "hash": "cf1539642ed891428415602806b8f5bad9b8d9b38358d499da812ad12d2a3cac"
   }
  }
 },
 "nbformat": 4,
 "nbformat_minor": 0
}