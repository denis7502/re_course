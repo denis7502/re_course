{
 "cells": [
  {
   "cell_type": "code",
   "execution_count": 1,
   "metadata": {
    "collapsed": false,
    "pycharm": {
     "name": "#%%\n"
    }
   },
   "outputs": [],
   "source": [
    "import chess\n",
    "import torch\n",
    "\n",
    "from chess_app.environment import ChessInterface\n",
    "from chess_app.chess_exceptions import NotEnoughMovesExceptions\n",
    "from re_algoritms.agents import RandomAgent, QAgent\n",
    "from chess_app.dataset.loader import loaderChessPos, tanstsovVecLoader\n",
    "import chess.svg\n",
    "from tqdm import tqdm\n"
   ]
  },
  {
   "cell_type": "code",
   "execution_count": 2,
   "metadata": {
    "collapsed": false,
    "pycharm": {
     "name": "#%%\n"
    }
   },
   "outputs": [],
   "source": [
    "\n",
    "def is_checkmate(board, state):\n",
    "    board.set_fen(state)\n",
    "    return board.is_checkmate()\n"
   ]
  },
  {
   "cell_type": "code",
   "execution_count": 3,
   "metadata": {
    "collapsed": false,
    "pycharm": {
     "name": "#%%\n"
    }
   },
   "outputs": [],
   "source": [
    "from re_algoritms.dqn import GrandMasterNet\n",
    "from re_algoritms.agents import DQNAgent\n",
    "\n",
    "board = chess.Board()\n",
    "\n",
    "lr = 1e-2\n",
    "gamma = 0.7\n",
    "n_epochs = 100\n",
    "\n",
    "policy_net = GrandMasterNet(\n",
    "    board_vec_dim=68,\n",
    "    moves_vec_dim=5\n",
    ")\n",
    "player = DQNAgent(\n",
    "    lr=lr, gamma=gamma, model=policy_net\n",
    ")\n",
    "loader = tanstsovVecLoader(r'chess_app\\dataset\\result.json', r'chess_app\\dataset\\settings.json')\n",
    "loader.createDf()\n",
    "frac = 0.4\n",
    "dataset = loader.getAllData(frac=frac)\n",
    "fen_strings = dataset.iloc[:, 0]\n",
    "dataset = dataset.iloc[:, 1:]"
   ]
  },
  {
   "cell_type": "code",
   "execution_count": 4,
   "outputs": [
    {
     "data": {
      "text/plain": "      white_king_castle  white_queen_castle  black_king_castle  \\\n4142                  0                   0                  0   \n661                   0                   0                  0   \n7453                  0                   0                  0   \n1039                  0                   0                  0   \n7730                  0                   0                  0   \n...                 ...                 ...                ...   \n6900                  0                   0                  0   \n3121                  0                   0                  0   \n8109                  0                   0                  0   \n2419                  0                   0                  0   \n5389                  0                   0                  0   \n\n      black_queen_castle  a8  b8  c8  d8  e8  f8  ...  g2  h2  a1  b1  c1  d1  \\\n4142                   0   0   0   0   0   0   0  ...   0   0   0   0   0   0   \n661                    0   7  10   0   0   0   0  ...   0   0   0   0   0   0   \n7453                   0   0   9   0   0   7   0  ...   5   5   0   0   0   3   \n1039                   0   0   0   0   0   0   0  ...   0   0   1   0   0   0   \n7730                   0   9   0  10   0   9   7  ...   5   5   3   0   0   0   \n...                  ...  ..  ..  ..  ..  ..  ..  ...  ..  ..  ..  ..  ..  ..   \n6900                   0   0   9   0   0   9   0  ...   0   5   0   0   0   0   \n3121                   0   9   0   0   0   0   7  ...   0   5   0   1   0   0   \n8109                   0   0   0   0   0   0   9  ...   1   0   0   0   0   0   \n2419                   0   0   0   0   0   0   0  ...   0   0   0   0   0   0   \n5389                   0   7   0   9   0   0   0  ...   4   5   0   0   0   0   \n\n      e1  f1  g1  h1  \n4142   0   0   0   0  \n661    0   0   0   0  \n7453   0   0   1   0  \n1039   0   0   0   0  \n7730   0   0   1   0  \n...   ..  ..  ..  ..  \n6900   0   0   1   0  \n3121   3   0   0   0  \n8109   0   0   0   0  \n2419   0   0   0   0  \n5389   0   0   1   0  \n\n[962 rows x 68 columns]",
      "text/html": "<div>\n<style scoped>\n    .dataframe tbody tr th:only-of-type {\n        vertical-align: middle;\n    }\n\n    .dataframe tbody tr th {\n        vertical-align: top;\n    }\n\n    .dataframe thead th {\n        text-align: right;\n    }\n</style>\n<table border=\"1\" class=\"dataframe\">\n  <thead>\n    <tr style=\"text-align: right;\">\n      <th></th>\n      <th>white_king_castle</th>\n      <th>white_queen_castle</th>\n      <th>black_king_castle</th>\n      <th>black_queen_castle</th>\n      <th>a8</th>\n      <th>b8</th>\n      <th>c8</th>\n      <th>d8</th>\n      <th>e8</th>\n      <th>f8</th>\n      <th>...</th>\n      <th>g2</th>\n      <th>h2</th>\n      <th>a1</th>\n      <th>b1</th>\n      <th>c1</th>\n      <th>d1</th>\n      <th>e1</th>\n      <th>f1</th>\n      <th>g1</th>\n      <th>h1</th>\n    </tr>\n  </thead>\n  <tbody>\n    <tr>\n      <th>4142</th>\n      <td>0</td>\n      <td>0</td>\n      <td>0</td>\n      <td>0</td>\n      <td>0</td>\n      <td>0</td>\n      <td>0</td>\n      <td>0</td>\n      <td>0</td>\n      <td>0</td>\n      <td>...</td>\n      <td>0</td>\n      <td>0</td>\n      <td>0</td>\n      <td>0</td>\n      <td>0</td>\n      <td>0</td>\n      <td>0</td>\n      <td>0</td>\n      <td>0</td>\n      <td>0</td>\n    </tr>\n    <tr>\n      <th>661</th>\n      <td>0</td>\n      <td>0</td>\n      <td>0</td>\n      <td>0</td>\n      <td>7</td>\n      <td>10</td>\n      <td>0</td>\n      <td>0</td>\n      <td>0</td>\n      <td>0</td>\n      <td>...</td>\n      <td>0</td>\n      <td>0</td>\n      <td>0</td>\n      <td>0</td>\n      <td>0</td>\n      <td>0</td>\n      <td>0</td>\n      <td>0</td>\n      <td>0</td>\n      <td>0</td>\n    </tr>\n    <tr>\n      <th>7453</th>\n      <td>0</td>\n      <td>0</td>\n      <td>0</td>\n      <td>0</td>\n      <td>0</td>\n      <td>9</td>\n      <td>0</td>\n      <td>0</td>\n      <td>7</td>\n      <td>0</td>\n      <td>...</td>\n      <td>5</td>\n      <td>5</td>\n      <td>0</td>\n      <td>0</td>\n      <td>0</td>\n      <td>3</td>\n      <td>0</td>\n      <td>0</td>\n      <td>1</td>\n      <td>0</td>\n    </tr>\n    <tr>\n      <th>1039</th>\n      <td>0</td>\n      <td>0</td>\n      <td>0</td>\n      <td>0</td>\n      <td>0</td>\n      <td>0</td>\n      <td>0</td>\n      <td>0</td>\n      <td>0</td>\n      <td>0</td>\n      <td>...</td>\n      <td>0</td>\n      <td>0</td>\n      <td>1</td>\n      <td>0</td>\n      <td>0</td>\n      <td>0</td>\n      <td>0</td>\n      <td>0</td>\n      <td>0</td>\n      <td>0</td>\n    </tr>\n    <tr>\n      <th>7730</th>\n      <td>0</td>\n      <td>0</td>\n      <td>0</td>\n      <td>0</td>\n      <td>9</td>\n      <td>0</td>\n      <td>10</td>\n      <td>0</td>\n      <td>9</td>\n      <td>7</td>\n      <td>...</td>\n      <td>5</td>\n      <td>5</td>\n      <td>3</td>\n      <td>0</td>\n      <td>0</td>\n      <td>0</td>\n      <td>0</td>\n      <td>0</td>\n      <td>1</td>\n      <td>0</td>\n    </tr>\n    <tr>\n      <th>...</th>\n      <td>...</td>\n      <td>...</td>\n      <td>...</td>\n      <td>...</td>\n      <td>...</td>\n      <td>...</td>\n      <td>...</td>\n      <td>...</td>\n      <td>...</td>\n      <td>...</td>\n      <td>...</td>\n      <td>...</td>\n      <td>...</td>\n      <td>...</td>\n      <td>...</td>\n      <td>...</td>\n      <td>...</td>\n      <td>...</td>\n      <td>...</td>\n      <td>...</td>\n      <td>...</td>\n    </tr>\n    <tr>\n      <th>6900</th>\n      <td>0</td>\n      <td>0</td>\n      <td>0</td>\n      <td>0</td>\n      <td>0</td>\n      <td>9</td>\n      <td>0</td>\n      <td>0</td>\n      <td>9</td>\n      <td>0</td>\n      <td>...</td>\n      <td>0</td>\n      <td>5</td>\n      <td>0</td>\n      <td>0</td>\n      <td>0</td>\n      <td>0</td>\n      <td>0</td>\n      <td>0</td>\n      <td>1</td>\n      <td>0</td>\n    </tr>\n    <tr>\n      <th>3121</th>\n      <td>0</td>\n      <td>0</td>\n      <td>0</td>\n      <td>0</td>\n      <td>9</td>\n      <td>0</td>\n      <td>0</td>\n      <td>0</td>\n      <td>0</td>\n      <td>7</td>\n      <td>...</td>\n      <td>0</td>\n      <td>5</td>\n      <td>0</td>\n      <td>1</td>\n      <td>0</td>\n      <td>0</td>\n      <td>3</td>\n      <td>0</td>\n      <td>0</td>\n      <td>0</td>\n    </tr>\n    <tr>\n      <th>8109</th>\n      <td>0</td>\n      <td>0</td>\n      <td>0</td>\n      <td>0</td>\n      <td>0</td>\n      <td>0</td>\n      <td>0</td>\n      <td>0</td>\n      <td>0</td>\n      <td>9</td>\n      <td>...</td>\n      <td>1</td>\n      <td>0</td>\n      <td>0</td>\n      <td>0</td>\n      <td>0</td>\n      <td>0</td>\n      <td>0</td>\n      <td>0</td>\n      <td>0</td>\n      <td>0</td>\n    </tr>\n    <tr>\n      <th>2419</th>\n      <td>0</td>\n      <td>0</td>\n      <td>0</td>\n      <td>0</td>\n      <td>0</td>\n      <td>0</td>\n      <td>0</td>\n      <td>0</td>\n      <td>0</td>\n      <td>0</td>\n      <td>...</td>\n      <td>0</td>\n      <td>0</td>\n      <td>0</td>\n      <td>0</td>\n      <td>0</td>\n      <td>0</td>\n      <td>0</td>\n      <td>0</td>\n      <td>0</td>\n      <td>0</td>\n    </tr>\n    <tr>\n      <th>5389</th>\n      <td>0</td>\n      <td>0</td>\n      <td>0</td>\n      <td>0</td>\n      <td>7</td>\n      <td>0</td>\n      <td>9</td>\n      <td>0</td>\n      <td>0</td>\n      <td>0</td>\n      <td>...</td>\n      <td>4</td>\n      <td>5</td>\n      <td>0</td>\n      <td>0</td>\n      <td>0</td>\n      <td>0</td>\n      <td>0</td>\n      <td>0</td>\n      <td>1</td>\n      <td>0</td>\n    </tr>\n  </tbody>\n</table>\n<p>962 rows × 68 columns</p>\n</div>"
     },
     "execution_count": 4,
     "metadata": {},
     "output_type": "execute_result"
    }
   ],
   "source": [
    "dataset"
   ],
   "metadata": {
    "collapsed": false,
    "pycharm": {
     "name": "#%%\n"
    }
   }
  },
  {
   "cell_type": "code",
   "execution_count": 5,
   "metadata": {
    "collapsed": false,
    "pycharm": {
     "name": "#%%\n"
    }
   },
   "outputs": [
    {
     "name": "stdout",
     "output_type": "stream",
     "text": [
      "[ 0  0  0  0  0  0  0  0  0  0  0  0  0  0  0  0  0 11  0  0  0  0  0  0\n",
      "  0  0  0 11  0  0  0  0  0  1 11  7  0  0  0  0  4  4  0 11  0  0  0  0\n",
      "  0  0  0  9  0  0  0  0  0  0  0  0  0  0  0  0  0  0  0  0] 8/5p2/7p/5Kpk/4BB1p/7r/8/8 w - - 0 1\n"
     ]
    }
   ],
   "source": [
    "for array, fen_string in zip(dataset.to_numpy(), fen_strings):\n",
    "    # print(_)\n",
    "    print(array, fen_string)\n",
    "    break"
   ]
  },
  {
   "cell_type": "code",
   "execution_count": 6,
   "outputs": [
    {
     "name": "stderr",
     "output_type": "stream",
     "text": [
      "\u001B[34m\u001B[1mwandb\u001B[0m: Currently logged in as: \u001B[33mcrazy_historian\u001B[0m (\u001B[33mai_community\u001B[0m). Use \u001B[1m`wandb login --relogin`\u001B[0m to force relogin\n"
     ]
    },
    {
     "data": {
      "text/plain": "<IPython.core.display.HTML object>",
      "text/html": "Tracking run with wandb version 0.13.7"
     },
     "metadata": {},
     "output_type": "display_data"
    },
    {
     "data": {
      "text/plain": "<IPython.core.display.HTML object>",
      "text/html": "Run data is saved locally in <code>E:\\re_course\\wandb\\run-20221225_205826-23d9imvd</code>"
     },
     "metadata": {},
     "output_type": "display_data"
    },
    {
     "data": {
      "text/plain": "<IPython.core.display.HTML object>",
      "text/html": "Syncing run <strong><a href=\"https://wandb.ai/ai_community/chess-rl/runs/23d9imvd\" target=\"_blank\">gallant-snow-5</a></strong> to <a href=\"https://wandb.ai/ai_community/chess-rl\" target=\"_blank\">Weights & Biases</a> (<a href=\"https://wandb.me/run\" target=\"_blank\">docs</a>)<br/>"
     },
     "metadata": {},
     "output_type": "display_data"
    },
    {
     "data": {
      "text/plain": "[]"
     },
     "execution_count": 6,
     "metadata": {},
     "output_type": "execute_result"
    }
   ],
   "source": [
    "import wandb\n",
    "\n",
    "wandb.init(\n",
    "    project='chess-rl',\n",
    "    config={\n",
    "        'epochs': n_epochs,\n",
    "        'lr': lr,\n",
    "        'gamma': gamma,\n",
    "        'frac': frac,\n",
    "        'dataset_len': len(fen_strings)\n",
    "    }\n",
    ")\n",
    "\n",
    "wandb.run.name = f'BoardNet: {3}, MovesNet: {2}, OutputNet: {2}, activation: leaky-relu, lr={lr}, gamma={gamma}'\n",
    "\n",
    "wandb.define_metric(\"loss\", summary=\"min\")\n",
    "wandb.define_metric(\"loss_epoch\", summary=\"min\")\n",
    "\n",
    "wandb.define_metric(\"win_rate\", summary=\"max\")\n",
    "wandb.define_metric(\"win_rate_epoch\", summary=\"max\")\n",
    "\n",
    "wandb.define_metric(\"lose_rate\", summary=\"min\")\n",
    "wandb.define_metric(\"lose_rate_epoch\", summary=\"min\")\n",
    "\n",
    "wandb.define_metric('stalemate_rate', summary=\"min\")\n",
    "wandb.define_metric('stalemate_rate_epoch', summary=\"min\")\n",
    "\n",
    "wandb.watch(player.policy_net, log='all', log_freq=10)"
   ],
   "metadata": {
    "collapsed": false,
    "pycharm": {
     "name": "#%%\n"
    }
   }
  },
  {
   "cell_type": "code",
   "execution_count": 7,
   "outputs": [],
   "source": [
    "def check_gradients(model):\n",
    "    for params in model.parameters():\n",
    "        if params.grad is not None:\n",
    "            print(f'Mean: {torch.mean(params.grad.data.view(-1).detach())}')\n",
    "            print(f'STD: { torch.std(params.grad.data.view(-1).detach())}')\n",
    "            break"
   ],
   "metadata": {
    "collapsed": false,
    "pycharm": {
     "name": "#%%\n"
    }
   }
  },
  {
   "cell_type": "code",
   "execution_count": 8,
   "metadata": {
    "collapsed": false,
    "pycharm": {
     "name": "#%%\n"
    }
   },
   "outputs": [
    {
     "name": "stdout",
     "output_type": "stream",
     "text": [
      "\n",
      "Epoch num: 0\n",
      "\n",
      "Loss value: -5.659895896911621, num of party: 0\n",
      "Win rate: 0\n",
      "Lose rate: 1\n",
      "Stalemate rate: 0\n",
      "Loss value: 0.013653256930410862, num of party: 20\n",
      "Win rate: 12\n",
      "Lose rate: 4\n",
      "Stalemate rate: 5\n",
      "Loss value: 4.0531159584134e-07, num of party: 40\n",
      "Win rate: 32\n",
      "Lose rate: 4\n",
      "Stalemate rate: 5\n",
      "Loss value: 1.2078285180905368e-06, num of party: 60\n",
      "Win rate: 52\n",
      "Lose rate: 4\n",
      "Stalemate rate: 5\n",
      "Loss value: 1.1920930376163597e-07, num of party: 80\n",
      "Win rate: 70\n",
      "Lose rate: 5\n",
      "Stalemate rate: 6\n",
      "Loss value: 1.2078285180905368e-06, num of party: 100\n",
      "Win rate: 89\n",
      "Lose rate: 5\n",
      "Stalemate rate: 7\n",
      "Loss value: 1.1920930376163597e-07, num of party: 120\n",
      "Win rate: 108\n",
      "Lose rate: 6\n",
      "Stalemate rate: 7\n",
      "Loss value: 1.1920930376163597e-07, num of party: 140\n",
      "Win rate: 128\n",
      "Lose rate: 6\n",
      "Stalemate rate: 7\n",
      "Loss value: 1.1920930376163597e-07, num of party: 160\n",
      "Win rate: 147\n",
      "Lose rate: 7\n",
      "Stalemate rate: 7\n",
      "Loss value: 1.1920930376163597e-07, num of party: 180\n",
      "Win rate: 167\n",
      "Lose rate: 7\n",
      "Stalemate rate: 7\n",
      "Loss value: 1.2078285180905368e-06, num of party: 200\n",
      "Win rate: 187\n",
      "Lose rate: 7\n",
      "Stalemate rate: 7\n",
      "Loss value: 7.832051096556825e-07, num of party: 220\n",
      "Win rate: 205\n",
      "Lose rate: 9\n",
      "Stalemate rate: 7\n",
      "Loss value: 7.832051096556825e-07, num of party: 240\n",
      "Win rate: 225\n",
      "Lose rate: 9\n",
      "Stalemate rate: 7\n",
      "Loss value: 4.0531159584134e-07, num of party: 260\n",
      "Win rate: 245\n",
      "Lose rate: 9\n",
      "Stalemate rate: 7\n",
      "Loss value: 4.0531159584134e-07, num of party: 280\n",
      "Win rate: 263\n",
      "Lose rate: 11\n",
      "Stalemate rate: 7\n",
      "Loss value: 7.832051096556825e-07, num of party: 300\n",
      "Win rate: 282\n",
      "Lose rate: 11\n",
      "Stalemate rate: 8\n",
      "Loss value: 1.2078285180905368e-06, num of party: 320\n",
      "Win rate: 302\n",
      "Lose rate: 11\n",
      "Stalemate rate: 8\n",
      "Loss value: 1.2078285180905368e-06, num of party: 340\n",
      "Win rate: 322\n",
      "Lose rate: 11\n",
      "Stalemate rate: 8\n",
      "Loss value: 4.0531159584134e-07, num of party: 360\n",
      "Win rate: 342\n",
      "Lose rate: 11\n",
      "Stalemate rate: 8\n",
      "Loss value: 1.1920930376163597e-07, num of party: 380\n",
      "Win rate: 359\n",
      "Lose rate: 13\n",
      "Stalemate rate: 9\n",
      "Loss value: 1.1920930376163597e-07, num of party: 400\n",
      "Win rate: 379\n",
      "Lose rate: 13\n",
      "Stalemate rate: 9\n",
      "Loss value: 1.1920930376163597e-07, num of party: 420\n",
      "Win rate: 399\n",
      "Lose rate: 13\n",
      "Stalemate rate: 9\n",
      "Loss value: 4.0531159584134e-07, num of party: 440\n",
      "Win rate: 418\n",
      "Lose rate: 13\n",
      "Stalemate rate: 10\n",
      "Loss value: 1.2078285180905368e-06, num of party: 460\n",
      "Win rate: 437\n",
      "Lose rate: 14\n",
      "Stalemate rate: 10\n",
      "Loss value: 4.0531159584134e-07, num of party: 480\n",
      "Win rate: 455\n",
      "Lose rate: 16\n",
      "Stalemate rate: 10\n",
      "Loss value: 1.1920930376163597e-07, num of party: 500\n",
      "Win rate: 474\n",
      "Lose rate: 16\n",
      "Stalemate rate: 11\n",
      "Loss value: 1.2078285180905368e-06, num of party: 520\n",
      "Win rate: 493\n",
      "Lose rate: 17\n",
      "Stalemate rate: 11\n",
      "Loss value: 4.0531159584134e-07, num of party: 540\n",
      "Win rate: 513\n",
      "Lose rate: 17\n",
      "Stalemate rate: 11\n",
      "Loss value: 0.0, num of party: 560\n",
      "Win rate: 532\n",
      "Lose rate: 18\n",
      "Stalemate rate: 11\n",
      "Loss value: 1.1920930376163597e-07, num of party: 580\n",
      "Win rate: 552\n",
      "Lose rate: 18\n",
      "Stalemate rate: 11\n",
      "Loss value: 1.2078285180905368e-06, num of party: 600\n",
      "Win rate: 571\n",
      "Lose rate: 18\n",
      "Stalemate rate: 12\n",
      "Loss value: 4.0531159584134e-07, num of party: 620\n",
      "Win rate: 590\n",
      "Lose rate: 18\n",
      "Stalemate rate: 13\n",
      "Loss value: 1.2078285180905368e-06, num of party: 640\n",
      "Win rate: 610\n",
      "Lose rate: 18\n",
      "Stalemate rate: 13\n",
      "Loss value: 1.1920930376163597e-07, num of party: 660\n",
      "Win rate: 629\n",
      "Lose rate: 19\n",
      "Stalemate rate: 13\n",
      "Loss value: 7.832051096556825e-07, num of party: 680\n",
      "Win rate: 649\n",
      "Lose rate: 19\n",
      "Stalemate rate: 13\n",
      "Loss value: 1.2078285180905368e-06, num of party: 700\n",
      "Win rate: 669\n",
      "Lose rate: 19\n",
      "Stalemate rate: 13\n",
      "Loss value: 7.832051096556825e-07, num of party: 720\n",
      "Win rate: 689\n",
      "Lose rate: 19\n",
      "Stalemate rate: 13\n",
      "Loss value: 4.0531159584134e-07, num of party: 740\n",
      "Win rate: 709\n",
      "Lose rate: 19\n",
      "Stalemate rate: 13\n"
     ]
    },
    {
     "ename": "KeyboardInterrupt",
     "evalue": "",
     "output_type": "error",
     "traceback": [
      "\u001B[1;31m---------------------------------------------------------------------------\u001B[0m",
      "\u001B[1;31mKeyboardInterrupt\u001B[0m                         Traceback (most recent call last)",
      "Cell \u001B[1;32mIn [8], line 33\u001B[0m\n\u001B[0;32m     29\u001B[0m all_rewards \u001B[38;5;241m=\u001B[39m \u001B[38;5;28mlist\u001B[39m()\n\u001B[0;32m     31\u001B[0m \u001B[38;5;28;01mfor\u001B[39;00m _ \u001B[38;5;129;01min\u001B[39;00m \u001B[38;5;28mrange\u001B[39m(\u001B[38;5;241m4\u001B[39m):\n\u001B[0;32m     32\u001B[0m     \u001B[38;5;66;03m# player make move\u001B[39;00m\n\u001B[1;32m---> 33\u001B[0m     \u001B[43mstockfish\u001B[49m\u001B[38;5;241;43m.\u001B[39;49m\u001B[43mset_board_fen\u001B[49m\u001B[43m(\u001B[49m\u001B[43mnew_state\u001B[49m\u001B[43m)\u001B[49m\n\u001B[0;32m     34\u001B[0m     \u001B[38;5;28;01mtry\u001B[39;00m:\n\u001B[0;32m     35\u001B[0m         player_move, move_num \u001B[38;5;241m=\u001B[39m player\u001B[38;5;241m.\u001B[39mreturn_move(\n\u001B[0;32m     36\u001B[0m             new_array,\n\u001B[0;32m     37\u001B[0m             stockfish\u001B[38;5;241m.\u001B[39mget_top_steps() \u001B[38;5;66;03m# todo\u001B[39;00m\n\u001B[0;32m     38\u001B[0m         )\n",
      "File \u001B[1;32mE:\\re_course\\chess_app\\environment.py:57\u001B[0m, in \u001B[0;36mChessInterface.set_board_fen\u001B[1;34m(self, fen)\u001B[0m\n\u001B[0;32m     56\u001B[0m \u001B[38;5;28;01mdef\u001B[39;00m \u001B[38;5;21mset_board_fen\u001B[39m(\u001B[38;5;28mself\u001B[39m, fen):\n\u001B[1;32m---> 57\u001B[0m     \u001B[38;5;28;43mself\u001B[39;49m\u001B[38;5;241;43m.\u001B[39;49m\u001B[43mstockfish\u001B[49m\u001B[38;5;241;43m.\u001B[39;49m\u001B[43mset_fen_position\u001B[49m\u001B[43m(\u001B[49m\u001B[43mfen\u001B[49m\u001B[43m)\u001B[49m\n",
      "File \u001B[1;32mE:\\re_course\\venv\\lib\\site-packages\\stockfish\\models.py:207\u001B[0m, in \u001B[0;36mStockfish.set_fen_position\u001B[1;34m(self, fen_position, send_ucinewgame_token)\u001B[0m\n\u001B[0;32m    190\u001B[0m \u001B[38;5;28;01mdef\u001B[39;00m \u001B[38;5;21mset_fen_position\u001B[39m(\n\u001B[0;32m    191\u001B[0m     \u001B[38;5;28mself\u001B[39m, fen_position: \u001B[38;5;28mstr\u001B[39m, send_ucinewgame_token: \u001B[38;5;28mbool\u001B[39m \u001B[38;5;241m=\u001B[39m \u001B[38;5;28;01mTrue\u001B[39;00m\n\u001B[0;32m    192\u001B[0m ) \u001B[38;5;241m-\u001B[39m\u001B[38;5;241m>\u001B[39m \u001B[38;5;28;01mNone\u001B[39;00m:\n\u001B[0;32m    193\u001B[0m     \u001B[38;5;124;03m\"\"\"Sets current board position in Forsyth–Edwards notation (FEN).\u001B[39;00m\n\u001B[0;32m    194\u001B[0m \n\u001B[0;32m    195\u001B[0m \u001B[38;5;124;03m    Args:\u001B[39;00m\n\u001B[1;32m   (...)\u001B[0m\n\u001B[0;32m    205\u001B[0m \u001B[38;5;124;03m        None\u001B[39;00m\n\u001B[0;32m    206\u001B[0m \u001B[38;5;124;03m    \"\"\"\u001B[39;00m\n\u001B[1;32m--> 207\u001B[0m     \u001B[38;5;28;43mself\u001B[39;49m\u001B[38;5;241;43m.\u001B[39;49m\u001B[43m_prepare_for_new_position\u001B[49m\u001B[43m(\u001B[49m\u001B[43msend_ucinewgame_token\u001B[49m\u001B[43m)\u001B[49m\n\u001B[0;32m    208\u001B[0m     \u001B[38;5;28mself\u001B[39m\u001B[38;5;241m.\u001B[39m_put(\u001B[38;5;124mf\u001B[39m\u001B[38;5;124m\"\u001B[39m\u001B[38;5;124mposition fen \u001B[39m\u001B[38;5;132;01m{\u001B[39;00mfen_position\u001B[38;5;132;01m}\u001B[39;00m\u001B[38;5;124m\"\u001B[39m)\n",
      "File \u001B[1;32mE:\\re_course\\venv\\lib\\site-packages\\stockfish\\models.py:144\u001B[0m, in \u001B[0;36mStockfish._prepare_for_new_position\u001B[1;34m(self, send_ucinewgame_token)\u001B[0m\n\u001B[0;32m    142\u001B[0m \u001B[38;5;28;01mif\u001B[39;00m send_ucinewgame_token:\n\u001B[0;32m    143\u001B[0m     \u001B[38;5;28mself\u001B[39m\u001B[38;5;241m.\u001B[39m_put(\u001B[38;5;124m\"\u001B[39m\u001B[38;5;124mucinewgame\u001B[39m\u001B[38;5;124m\"\u001B[39m)\n\u001B[1;32m--> 144\u001B[0m \u001B[38;5;28;43mself\u001B[39;49m\u001B[38;5;241;43m.\u001B[39;49m\u001B[43m_is_ready\u001B[49m\u001B[43m(\u001B[49m\u001B[43m)\u001B[49m\n\u001B[0;32m    145\u001B[0m \u001B[38;5;28mself\u001B[39m\u001B[38;5;241m.\u001B[39minfo \u001B[38;5;241m=\u001B[39m \u001B[38;5;124m\"\u001B[39m\u001B[38;5;124m\"\u001B[39m\n",
      "File \u001B[1;32mE:\\re_course\\venv\\lib\\site-packages\\stockfish\\models.py:173\u001B[0m, in \u001B[0;36mStockfish._is_ready\u001B[1;34m(self)\u001B[0m\n\u001B[0;32m    171\u001B[0m \u001B[38;5;28;01mdef\u001B[39;00m \u001B[38;5;21m_is_ready\u001B[39m(\u001B[38;5;28mself\u001B[39m) \u001B[38;5;241m-\u001B[39m\u001B[38;5;241m>\u001B[39m \u001B[38;5;28;01mNone\u001B[39;00m:\n\u001B[0;32m    172\u001B[0m     \u001B[38;5;28mself\u001B[39m\u001B[38;5;241m.\u001B[39m_put(\u001B[38;5;124m\"\u001B[39m\u001B[38;5;124misready\u001B[39m\u001B[38;5;124m\"\u001B[39m)\n\u001B[1;32m--> 173\u001B[0m     \u001B[38;5;28;01mwhile\u001B[39;00m \u001B[38;5;28;43mself\u001B[39;49m\u001B[38;5;241;43m.\u001B[39;49m\u001B[43m_read_line\u001B[49m\u001B[43m(\u001B[49m\u001B[43m)\u001B[49m \u001B[38;5;241m!=\u001B[39m \u001B[38;5;124m\"\u001B[39m\u001B[38;5;124mreadyok\u001B[39m\u001B[38;5;124m\"\u001B[39m:\n\u001B[0;32m    174\u001B[0m         \u001B[38;5;28;01mpass\u001B[39;00m\n",
      "File \u001B[1;32mE:\\re_course\\venv\\lib\\site-packages\\stockfish\\models.py:161\u001B[0m, in \u001B[0;36mStockfish._read_line\u001B[1;34m(self)\u001B[0m\n\u001B[0;32m    159\u001B[0m \u001B[38;5;28;01mif\u001B[39;00m \u001B[38;5;28mself\u001B[39m\u001B[38;5;241m.\u001B[39m_stockfish\u001B[38;5;241m.\u001B[39mpoll() \u001B[38;5;129;01mis\u001B[39;00m \u001B[38;5;129;01mnot\u001B[39;00m \u001B[38;5;28;01mNone\u001B[39;00m:\n\u001B[0;32m    160\u001B[0m     \u001B[38;5;28;01mraise\u001B[39;00m StockfishException(\u001B[38;5;124m\"\u001B[39m\u001B[38;5;124mThe Stockfish process has crashed\u001B[39m\u001B[38;5;124m\"\u001B[39m)\n\u001B[1;32m--> 161\u001B[0m \u001B[38;5;28;01mreturn\u001B[39;00m \u001B[38;5;28;43mself\u001B[39;49m\u001B[38;5;241;43m.\u001B[39;49m\u001B[43m_stockfish\u001B[49m\u001B[38;5;241;43m.\u001B[39;49m\u001B[43mstdout\u001B[49m\u001B[38;5;241;43m.\u001B[39;49m\u001B[43mreadline\u001B[49m\u001B[43m(\u001B[49m\u001B[43m)\u001B[49m\u001B[38;5;241m.\u001B[39mstrip()\n",
      "File \u001B[1;32m~\\AppData\\Local\\Programs\\Python\\Python39\\lib\\encodings\\cp1251.py:22\u001B[0m, in \u001B[0;36mIncrementalDecoder.decode\u001B[1;34m(self, input, final)\u001B[0m\n\u001B[0;32m     21\u001B[0m \u001B[38;5;28;01mclass\u001B[39;00m \u001B[38;5;21;01mIncrementalDecoder\u001B[39;00m(codecs\u001B[38;5;241m.\u001B[39mIncrementalDecoder):\n\u001B[1;32m---> 22\u001B[0m     \u001B[38;5;28;01mdef\u001B[39;00m \u001B[38;5;21mdecode\u001B[39m(\u001B[38;5;28mself\u001B[39m, \u001B[38;5;28minput\u001B[39m, final\u001B[38;5;241m=\u001B[39m\u001B[38;5;28;01mFalse\u001B[39;00m):\n\u001B[0;32m     23\u001B[0m         \u001B[38;5;28;01mreturn\u001B[39;00m codecs\u001B[38;5;241m.\u001B[39mcharmap_decode(\u001B[38;5;28minput\u001B[39m,\u001B[38;5;28mself\u001B[39m\u001B[38;5;241m.\u001B[39merrors,decoding_table)[\u001B[38;5;241m0\u001B[39m]\n",
      "\u001B[1;31mKeyboardInterrupt\u001B[0m: "
     ]
    }
   ],
   "source": [
    "bc_win = 0\n",
    "wh_win = 0\n",
    "stockfish = ChessInterface(verbose=True, engine_path=r\"./chess_app/src/stockfish_15_x64_avx2.exe\")\n",
    "metrics_l = []\n",
    "metrics_w = []\n",
    "losses = []\n",
    "\n",
    "\n",
    "loss = None\n",
    "\n",
    "player.reset_actions()\n",
    "player.policy_net.train()\n",
    "for epoch in range(n_epochs):\n",
    "    print(f'\\nEpoch num: {epoch}\\n')\n",
    "    count_w_l = [0, 0, 0]\n",
    "    for num, (array, fen_string) in enumerate(zip(dataset.to_numpy(), fen_strings)):\n",
    "        # print(f'Party №{num + 857}')\n",
    "        # print(fen_string)\n",
    "        # init necessary for game\n",
    "        new_state = fen_string\n",
    "        new_array = array\n",
    "\n",
    "        black_win = False\n",
    "        white_win = False\n",
    "        stalemate = False\n",
    "        too_much_moves = False\n",
    "\n",
    "        stockfish.set_board_fen(new_state)\n",
    "        all_rewards = list()\n",
    "\n",
    "        for _ in range(4):\n",
    "            # player make move\n",
    "            stockfish.set_board_fen(new_state)\n",
    "            try:\n",
    "                player_move, move_num = player.return_move(\n",
    "                    new_array,\n",
    "                    stockfish.get_top_steps() # todo\n",
    "                )\n",
    "\n",
    "                stockfish.player_move(player_move)\n",
    "                new_state = stockfish.get_board_fen()\n",
    "\n",
    "                all_rewards.append(0)\n",
    "                # print(f'\\tPlayer move: {player_move}, num of move: {move_num}')\n",
    "                if is_checkmate(board, new_state):\n",
    "                    white_win = True\n",
    "                    break\n",
    "            except NotEnoughMovesExceptions:\n",
    "                # print('NotEnoughMovesExceptions')\n",
    "                if len(all_rewards) < 1:\n",
    "                    all_rewards.append(-1)\n",
    "                else:\n",
    "                    all_rewards[-1] = 1\n",
    "                black_win = True\n",
    "                break\n",
    "\n",
    "            # environment make move\n",
    "            try:\n",
    "                machine_move = stockfish.env_move()\n",
    "                new_state = stockfish.get_board_fen()\n",
    "                # print(f'\\tMachine move: {machine_move}')\n",
    "                new_array = loader.extractPos(new_state, -1, -1)\n",
    "                new_array = list(new_array.values())[3:]\n",
    "\n",
    "                if is_checkmate(board, new_state):\n",
    "                    black_win = True\n",
    "                    break\n",
    "\n",
    "            except ValueError as err:\n",
    "                # print('Произошел пат!!!!!!!!!!!!!')\n",
    "                stalemate = True\n",
    "                count_w_l[2] += 1\n",
    "                break\n",
    "\n",
    "        else:\n",
    "            # print('> 4 ходов')\n",
    "            count_w_l[2] += 1\n",
    "            too_much_moves = True\n",
    "\n",
    "\n",
    "        if black_win is True:\n",
    "            reward = -1\n",
    "            count_w_l[1] += 1\n",
    "        elif stalemate is True:\n",
    "            reward = - 0.1\n",
    "        elif too_much_moves is True:\n",
    "            reward = 0.2\n",
    "        else:\n",
    "            reward = 1\n",
    "            count_w_l[0] += 1\n",
    "\n",
    "        all_rewards[-1] = reward\n",
    "        loss = player.update_policy(all_rewards)\n",
    "        if num % 20 == 0:\n",
    "            print(f'Loss value: {loss}, num of party: {num}')\n",
    "            print(f'Win rate: {count_w_l[0]}')\n",
    "            print(f'Lose rate: {count_w_l[1]}')\n",
    "            print(f'Stalemate rate: {count_w_l[2]}')\n",
    "\n",
    "            wandb.log({\n",
    "                'loss': loss,\n",
    "                'win_rate': count_w_l[0]/ len(fen_strings),\n",
    "                'lose_rate': count_w_l[1]/ len(fen_strings),\n",
    "                'stalemate_rate': count_w_l[2]/ len(fen_strings)\n",
    "             })\n",
    "\n",
    "            losses.append(loss)\n",
    "    wandb.log({\n",
    "        'loss_epoch': loss,\n",
    "        'win_rate_epoch': count_w_l[0]/ len(fen_strings),\n",
    "        'lose_rate_epoch': count_w_l[1]/ len(fen_strings),\n",
    "        'stalemate_rate_epoch': count_w_l[2]/ len(fen_strings)\n",
    "    })\n",
    "\n",
    "    metrics_l.append(count_w_l[1]/len(fen_strings))\n",
    "    metrics_w.append(count_w_l[0]/len(fen_strings))\n",
    "    print(f'Winrate {count_w_l[0]} \\t Loserate {count_w_l[1]}')\n",
    "    torch.save(player.policy_net.state_dict(), 'weight.pth')\n"
   ]
  },
  {
   "cell_type": "code",
   "execution_count": null,
   "outputs": [],
   "source": [
    "for param in policy_net.parameters():\n",
    "    print(param.grad)"
   ],
   "metadata": {
    "collapsed": false,
    "pycharm": {
     "name": "#%%\n"
    }
   }
  },
  {
   "cell_type": "code",
   "execution_count": null,
   "outputs": [],
   "source": [],
   "metadata": {
    "collapsed": false,
    "pycharm": {
     "name": "#%%\n"
    }
   }
  },
  {
   "cell_type": "markdown",
   "metadata": {
    "collapsed": false,
    "pycharm": {
     "name": "#%% md\n"
    }
   },
   "source": []
  }
 ],
 "metadata": {
  "kernelspec": {
   "display_name": "Python 3.8.10 ('.course_re': venv)",
   "language": "python",
   "name": "python3"
  },
  "language_info": {
   "codemirror_mode": {
    "name": "ipython",
    "version": 3
   },
   "file_extension": ".py",
   "mimetype": "text/x-python",
   "name": "python",
   "nbconvert_exporter": "python",
   "pygments_lexer": "ipython3",
   "version": "3.8.10"
  },
  "vscode": {
   "interpreter": {
    "hash": "cf1539642ed891428415602806b8f5bad9b8d9b38358d499da812ad12d2a3cac"
   }
  }
 },
 "nbformat": 4,
 "nbformat_minor": 0
}