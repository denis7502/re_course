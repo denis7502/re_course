{
 "cells": [
  {
   "cell_type": "code",
   "execution_count": 1,
   "metadata": {
    "collapsed": false,
    "pycharm": {
     "name": "#%%\n"
    }
   },
   "outputs": [],
   "source": [
    "import chess\n",
    "import torch\n",
    "\n",
    "from chess_app.environment import ChessInterface\n",
    "from chess_app.chess_exceptions import NotEnoughMovesExceptions\n",
    "from re_algoritms.agents import RandomAgent, QAgent\n",
    "from chess_app.dataset.loader import loaderChessPos, tanstsovVecLoader\n",
    "import chess.svg\n",
    "from tqdm import tqdm\n"
   ]
  },
  {
   "cell_type": "code",
   "execution_count": 2,
   "metadata": {
    "collapsed": false,
    "pycharm": {
     "name": "#%%\n"
    }
   },
   "outputs": [],
   "source": [
    "\n",
    "def is_checkmate(board, state):\n",
    "    board.set_fen(state)\n",
    "    return board.is_checkmate()\n"
   ]
  },
  {
   "cell_type": "code",
   "execution_count": 3,
   "metadata": {
    "collapsed": false,
    "pycharm": {
     "name": "#%%\n"
    }
   },
   "outputs": [],
   "source": [
    "from re_algoritms.dqn import GrandMasterNet\n",
    "from re_algoritms.agents import DQNAgent\n",
    "\n",
    "board = chess.Board()\n",
    "\n",
    "lr = 1e-2\n",
    "gamma = 0.7\n",
    "n_epochs = 100\n",
    "\n",
    "policy_net = GrandMasterNet(\n",
    "    board_vec_dim=68,\n",
    "    moves_vec_dim=5\n",
    ")\n",
    "player = DQNAgent(\n",
    "    lr=lr, gamma=gamma, model=policy_net\n",
    ")\n",
    "loader = tanstsovVecLoader(r'chess_app\\dataset\\result.json', r'chess_app\\dataset\\settings.json')\n",
    "loader.createDf()\n",
    "frac = 1.0\n",
    "dataset = loader.getAllData(frac=frac)\n",
    "fen_strings = dataset.iloc[:, 0]\n",
    "dataset = dataset.iloc[:, 1:]"
   ]
  },
  {
   "cell_type": "code",
   "execution_count": 4,
   "outputs": [
    {
     "data": {
      "text/plain": "      white_king_castle  white_queen_castle  black_king_castle  \\\n4441                  0                   0                  1   \n7022                  0                   0                  0   \n479                   0                   0                  0   \n4504                  0                   0                  0   \n2456                  0                   0                  0   \n...                 ...                 ...                ...   \n9228                  0                   0                  0   \n1411                  1                   1                  0   \n5544                  0                   0                  0   \n7396                  0                   0                  0   \n2361                  0                   0                  0   \n\n      black_queen_castle  a8  b8  c8  d8  e8  f8  ...  g2  h2  a1  b1  c1  d1  \\\n4441                   1   9   0  10   8   7  10  ...   2   0   0   0   0   0   \n7022                   0   0   0   8   0  10   0  ...   5   5   0   0   0   0   \n479                    0   0   0   0   0   0   0  ...   0   0   0   0   0   0   \n4504                   0   3   0   0   0   0   2  ...   0   0   0   1   0   0   \n2456                   0   0  10   0   4   1   0  ...   0   0   0   0   0   0   \n...                  ...  ..  ..  ..  ..  ..  ..  ...  ..  ..  ..  ..  ..  ..   \n9228                   0   9   0  10   0   0   9  ...   5   5   0   0   0   0   \n1411                   0   9   0  10   8   0   9  ...   5   0   3   0   4   0   \n5544                   0   0   0   0   9   0   0  ...   5   5   0   0   0   0   \n7396                   0   0   0   0   0   0   4  ...   0   5   0   0   0   0   \n2361                   0   7   0   0   0   0   0  ...   0   0   0   0   0   0   \n\n      e1  f1  g1  h1  \n4441   1   0   0   0  \n7022   0   0   1   0  \n479    0   0   0   0  \n4504   0   0   0   0  \n2456   0   0   0   0  \n...   ..  ..  ..  ..  \n9228   0   3   1   0  \n1411   1   0   0   3  \n5544   3   0   1   0  \n7396   0   0   0   7  \n2361   0   0   0   0  \n\n[2406 rows x 68 columns]",
      "text/html": "<div>\n<style scoped>\n    .dataframe tbody tr th:only-of-type {\n        vertical-align: middle;\n    }\n\n    .dataframe tbody tr th {\n        vertical-align: top;\n    }\n\n    .dataframe thead th {\n        text-align: right;\n    }\n</style>\n<table border=\"1\" class=\"dataframe\">\n  <thead>\n    <tr style=\"text-align: right;\">\n      <th></th>\n      <th>white_king_castle</th>\n      <th>white_queen_castle</th>\n      <th>black_king_castle</th>\n      <th>black_queen_castle</th>\n      <th>a8</th>\n      <th>b8</th>\n      <th>c8</th>\n      <th>d8</th>\n      <th>e8</th>\n      <th>f8</th>\n      <th>...</th>\n      <th>g2</th>\n      <th>h2</th>\n      <th>a1</th>\n      <th>b1</th>\n      <th>c1</th>\n      <th>d1</th>\n      <th>e1</th>\n      <th>f1</th>\n      <th>g1</th>\n      <th>h1</th>\n    </tr>\n  </thead>\n  <tbody>\n    <tr>\n      <th>4441</th>\n      <td>0</td>\n      <td>0</td>\n      <td>1</td>\n      <td>1</td>\n      <td>9</td>\n      <td>0</td>\n      <td>10</td>\n      <td>8</td>\n      <td>7</td>\n      <td>10</td>\n      <td>...</td>\n      <td>2</td>\n      <td>0</td>\n      <td>0</td>\n      <td>0</td>\n      <td>0</td>\n      <td>0</td>\n      <td>1</td>\n      <td>0</td>\n      <td>0</td>\n      <td>0</td>\n    </tr>\n    <tr>\n      <th>7022</th>\n      <td>0</td>\n      <td>0</td>\n      <td>0</td>\n      <td>0</td>\n      <td>0</td>\n      <td>0</td>\n      <td>8</td>\n      <td>0</td>\n      <td>10</td>\n      <td>0</td>\n      <td>...</td>\n      <td>5</td>\n      <td>5</td>\n      <td>0</td>\n      <td>0</td>\n      <td>0</td>\n      <td>0</td>\n      <td>0</td>\n      <td>0</td>\n      <td>1</td>\n      <td>0</td>\n    </tr>\n    <tr>\n      <th>479</th>\n      <td>0</td>\n      <td>0</td>\n      <td>0</td>\n      <td>0</td>\n      <td>0</td>\n      <td>0</td>\n      <td>0</td>\n      <td>0</td>\n      <td>0</td>\n      <td>0</td>\n      <td>...</td>\n      <td>0</td>\n      <td>0</td>\n      <td>0</td>\n      <td>0</td>\n      <td>0</td>\n      <td>0</td>\n      <td>0</td>\n      <td>0</td>\n      <td>0</td>\n      <td>0</td>\n    </tr>\n    <tr>\n      <th>4504</th>\n      <td>0</td>\n      <td>0</td>\n      <td>0</td>\n      <td>0</td>\n      <td>3</td>\n      <td>0</td>\n      <td>0</td>\n      <td>0</td>\n      <td>0</td>\n      <td>2</td>\n      <td>...</td>\n      <td>0</td>\n      <td>0</td>\n      <td>0</td>\n      <td>1</td>\n      <td>0</td>\n      <td>0</td>\n      <td>0</td>\n      <td>0</td>\n      <td>0</td>\n      <td>0</td>\n    </tr>\n    <tr>\n      <th>2456</th>\n      <td>0</td>\n      <td>0</td>\n      <td>0</td>\n      <td>0</td>\n      <td>0</td>\n      <td>10</td>\n      <td>0</td>\n      <td>4</td>\n      <td>1</td>\n      <td>0</td>\n      <td>...</td>\n      <td>0</td>\n      <td>0</td>\n      <td>0</td>\n      <td>0</td>\n      <td>0</td>\n      <td>0</td>\n      <td>0</td>\n      <td>0</td>\n      <td>0</td>\n      <td>0</td>\n    </tr>\n    <tr>\n      <th>...</th>\n      <td>...</td>\n      <td>...</td>\n      <td>...</td>\n      <td>...</td>\n      <td>...</td>\n      <td>...</td>\n      <td>...</td>\n      <td>...</td>\n      <td>...</td>\n      <td>...</td>\n      <td>...</td>\n      <td>...</td>\n      <td>...</td>\n      <td>...</td>\n      <td>...</td>\n      <td>...</td>\n      <td>...</td>\n      <td>...</td>\n      <td>...</td>\n      <td>...</td>\n      <td>...</td>\n    </tr>\n    <tr>\n      <th>9228</th>\n      <td>0</td>\n      <td>0</td>\n      <td>0</td>\n      <td>0</td>\n      <td>9</td>\n      <td>0</td>\n      <td>10</td>\n      <td>0</td>\n      <td>0</td>\n      <td>9</td>\n      <td>...</td>\n      <td>5</td>\n      <td>5</td>\n      <td>0</td>\n      <td>0</td>\n      <td>0</td>\n      <td>0</td>\n      <td>0</td>\n      <td>3</td>\n      <td>1</td>\n      <td>0</td>\n    </tr>\n    <tr>\n      <th>1411</th>\n      <td>1</td>\n      <td>1</td>\n      <td>0</td>\n      <td>0</td>\n      <td>9</td>\n      <td>0</td>\n      <td>10</td>\n      <td>8</td>\n      <td>0</td>\n      <td>9</td>\n      <td>...</td>\n      <td>5</td>\n      <td>0</td>\n      <td>3</td>\n      <td>0</td>\n      <td>4</td>\n      <td>0</td>\n      <td>1</td>\n      <td>0</td>\n      <td>0</td>\n      <td>3</td>\n    </tr>\n    <tr>\n      <th>5544</th>\n      <td>0</td>\n      <td>0</td>\n      <td>0</td>\n      <td>0</td>\n      <td>0</td>\n      <td>0</td>\n      <td>0</td>\n      <td>9</td>\n      <td>0</td>\n      <td>0</td>\n      <td>...</td>\n      <td>5</td>\n      <td>5</td>\n      <td>0</td>\n      <td>0</td>\n      <td>0</td>\n      <td>0</td>\n      <td>3</td>\n      <td>0</td>\n      <td>1</td>\n      <td>0</td>\n    </tr>\n    <tr>\n      <th>7396</th>\n      <td>0</td>\n      <td>0</td>\n      <td>0</td>\n      <td>0</td>\n      <td>0</td>\n      <td>0</td>\n      <td>0</td>\n      <td>0</td>\n      <td>0</td>\n      <td>4</td>\n      <td>...</td>\n      <td>0</td>\n      <td>5</td>\n      <td>0</td>\n      <td>0</td>\n      <td>0</td>\n      <td>0</td>\n      <td>0</td>\n      <td>0</td>\n      <td>0</td>\n      <td>7</td>\n    </tr>\n    <tr>\n      <th>2361</th>\n      <td>0</td>\n      <td>0</td>\n      <td>0</td>\n      <td>0</td>\n      <td>7</td>\n      <td>0</td>\n      <td>0</td>\n      <td>0</td>\n      <td>0</td>\n      <td>0</td>\n      <td>...</td>\n      <td>0</td>\n      <td>0</td>\n      <td>0</td>\n      <td>0</td>\n      <td>0</td>\n      <td>0</td>\n      <td>0</td>\n      <td>0</td>\n      <td>0</td>\n      <td>0</td>\n    </tr>\n  </tbody>\n</table>\n<p>2406 rows × 68 columns</p>\n</div>"
     },
     "execution_count": 4,
     "metadata": {},
     "output_type": "execute_result"
    }
   ],
   "source": [
    "dataset"
   ],
   "metadata": {
    "collapsed": false,
    "pycharm": {
     "name": "#%%\n"
    }
   }
  },
  {
   "cell_type": "code",
   "execution_count": 5,
   "metadata": {
    "collapsed": false,
    "pycharm": {
     "name": "#%%\n"
    }
   },
   "outputs": [
    {
     "name": "stdout",
     "output_type": "stream",
     "text": [
      "[ 0  0  1  1  9  0 10  8  7 10 12  9 11 11 12 11 11 11 11  0  0  0  0 11\n",
      "  0  0  0 11  0  0  0  0  0  0  0  4  0  0  0  0  0  0  0  0  0  0  0  0\n",
      "  0  0  0  0  0  0  0  0  0  0  2  0  0  0  0  0  1  0  0  0] r1bqkbnr/ppnpppp1/3p3p/7B/8/8/6Q1/4K3 w kq - 0 1\n"
     ]
    }
   ],
   "source": [
    "for array, fen_string in zip(dataset.to_numpy(), fen_strings):\n",
    "    # print(_)\n",
    "    print(array, fen_string)\n",
    "    break"
   ]
  },
  {
   "cell_type": "code",
   "execution_count": 6,
   "outputs": [],
   "source": [
    "# import wandb\n",
    "#\n",
    "# wandb.init(\n",
    "#     project='chess-rl',\n",
    "#     config={\n",
    "#         'epochs': n_epochs,\n",
    "#         'lr': lr,\n",
    "#         'gamma': gamma,\n",
    "#         'frac': frac\n",
    "#     }\n",
    "# )\n",
    "#\n",
    "# # wandb.run.name = f'BoardNet: {3}, MovesNet: {2}, OutputNet: {2}, activation: leaky-relu, lr={lr}, gamma={gamma}'\n",
    "#\n",
    "# wandb.define_metric(\"loss\", summary=\"min\")\n",
    "# wandb.define_metric(\"win_rate\", summary=\"max\")\n",
    "# wandb.define_metric(\"lose_rate\", summary=\"min\")\n",
    "# wandb.define_metric('stalemate_rate', summary=\"min\")\n",
    "# wandb.watch(player.policy_net, log='all', log_freq=10)"
   ],
   "metadata": {
    "collapsed": false,
    "pycharm": {
     "name": "#%%\n"
    }
   }
  },
  {
   "cell_type": "code",
   "execution_count": 7,
   "outputs": [],
   "source": [
    "def check_gradients(model):\n",
    "    for params in model.parameters():\n",
    "        if params.grad is not None:\n",
    "            print(f'Mean: {torch.mean(params.grad.data.view(-1).detach())}')\n",
    "            print(f'STD: { torch.std(params.grad.data.view(-1).detach())}')\n",
    "            break"
   ],
   "metadata": {
    "collapsed": false,
    "pycharm": {
     "name": "#%%\n"
    }
   }
  },
  {
   "cell_type": "code",
   "execution_count": 8,
   "metadata": {
    "collapsed": false,
    "pycharm": {
     "name": "#%%\n"
    }
   },
   "outputs": [
    {
     "name": "stdout",
     "output_type": "stream",
     "text": [
      "\n",
      "Epoch num: 0\n",
      "\n"
     ]
    },
    {
     "name": "stderr",
     "output_type": "stream",
     "text": [
      "C:\\Users\\Максим\\AppData\\Local\\Temp\\ipykernel_5628\\1118352830.py:17: FutureWarning: The behavior of `series[i:j]` with an integer-dtype index is deprecated. In a future version, this will be treated as *label-based* indexing, consistent with e.g. `series[i]` lookups. To retain the old behavior, use `series.iloc[i:j]`. To get the future behavior, use `series.loc[i:j]`.\n",
      "  for num, (array, fen_string) in enumerate(zip(dataset.to_numpy()[:epoch_slice], fen_strings[:epoch_slice])):\n"
     ]
    },
    {
     "name": "stdout",
     "output_type": "stream",
     "text": [
      "Loss value: 2.0867767333984375, num of party: 9\n",
      "Win rate: 2\n",
      "Lose rate: 2\n",
      "Stalemate rate: 6\n",
      "Winrate 2 \t Loserate 2\n",
      "\n",
      "Epoch num: 1\n",
      "\n",
      "Loss value: 0.3438456356525421, num of party: 9\n",
      "Win rate: 2\n",
      "Lose rate: 3\n",
      "Stalemate rate: 5\n",
      "Winrate 2 \t Loserate 3\n",
      "\n",
      "Epoch num: 2\n",
      "\n",
      "Loss value: 0.00017084150749724358, num of party: 9\n",
      "Win rate: 10\n",
      "Lose rate: 0\n",
      "Stalemate rate: 0\n",
      "Winrate 10 \t Loserate 0\n",
      "\n",
      "Epoch num: 3\n",
      "\n",
      "Loss value: 5.960466182841628e-07, num of party: 9\n",
      "Win rate: 10\n",
      "Lose rate: 0\n",
      "Stalemate rate: 0\n",
      "Winrate 10 \t Loserate 0\n",
      "\n",
      "Epoch num: 4\n",
      "\n",
      "Loss value: 1.1920930376163597e-07, num of party: 9\n",
      "Win rate: 10\n",
      "Lose rate: 0\n",
      "Stalemate rate: 0\n",
      "Winrate 10 \t Loserate 0\n",
      "\n",
      "Epoch num: 5\n",
      "\n",
      "Loss value: 1.1920930376163597e-07, num of party: 9\n",
      "Win rate: 10\n",
      "Lose rate: 0\n",
      "Stalemate rate: 0\n",
      "Winrate 10 \t Loserate 0\n",
      "\n",
      "Epoch num: 6\n",
      "\n",
      "Loss value: 1.1920930376163597e-07, num of party: 9\n",
      "Win rate: 10\n",
      "Lose rate: 0\n",
      "Stalemate rate: 0\n",
      "Winrate 10 \t Loserate 0\n",
      "\n",
      "Epoch num: 7\n",
      "\n",
      "Loss value: 1.1920930376163597e-07, num of party: 9\n",
      "Win rate: 10\n",
      "Lose rate: 0\n",
      "Stalemate rate: 0\n",
      "Winrate 10 \t Loserate 0\n",
      "\n",
      "Epoch num: 8\n",
      "\n"
     ]
    },
    {
     "ename": "KeyboardInterrupt",
     "evalue": "",
     "output_type": "error",
     "traceback": [
      "\u001B[1;31m---------------------------------------------------------------------------\u001B[0m",
      "\u001B[1;31mKeyboardInterrupt\u001B[0m                         Traceback (most recent call last)",
      "Cell \u001B[1;32mIn [8], line 38\u001B[0m\n\u001B[0;32m     34\u001B[0m stockfish\u001B[38;5;241m.\u001B[39mset_board_fen(new_state)\n\u001B[0;32m     35\u001B[0m \u001B[38;5;28;01mtry\u001B[39;00m:\n\u001B[0;32m     36\u001B[0m     player_move, move_num \u001B[38;5;241m=\u001B[39m player\u001B[38;5;241m.\u001B[39mreturn_move(\n\u001B[0;32m     37\u001B[0m         new_array,\n\u001B[1;32m---> 38\u001B[0m         \u001B[43mstockfish\u001B[49m\u001B[38;5;241;43m.\u001B[39;49m\u001B[43mget_top_steps\u001B[49m\u001B[43m(\u001B[49m\u001B[43m)\u001B[49m \u001B[38;5;66;03m# todo\u001B[39;00m\n\u001B[0;32m     39\u001B[0m     )\n\u001B[0;32m     41\u001B[0m     stockfish\u001B[38;5;241m.\u001B[39mplayer_move(player_move)\n\u001B[0;32m     42\u001B[0m     new_state \u001B[38;5;241m=\u001B[39m stockfish\u001B[38;5;241m.\u001B[39mget_board_fen()\n",
      "File \u001B[1;32mE:\\re_course\\chess_app\\environment.py:74\u001B[0m, in \u001B[0;36mChessInterface.get_top_steps\u001B[1;34m(self, n)\u001B[0m\n\u001B[0;32m     73\u001B[0m \u001B[38;5;28;01mdef\u001B[39;00m \u001B[38;5;21mget_top_steps\u001B[39m(\u001B[38;5;28mself\u001B[39m, n\u001B[38;5;241m=\u001B[39m\u001B[38;5;241m5\u001B[39m):\n\u001B[1;32m---> 74\u001B[0m     steps \u001B[38;5;241m=\u001B[39m \u001B[38;5;28;43mself\u001B[39;49m\u001B[38;5;241;43m.\u001B[39;49m\u001B[43mstockfish\u001B[49m\u001B[38;5;241;43m.\u001B[39;49m\u001B[43mget_top_moves\u001B[49m\u001B[43m(\u001B[49m\u001B[43mn\u001B[49m\u001B[43m)\u001B[49m\n\u001B[0;32m     75\u001B[0m     array \u001B[38;5;241m=\u001B[39m np\u001B[38;5;241m.\u001B[39marray([])\n\u001B[0;32m     76\u001B[0m     \u001B[38;5;28;01mfor\u001B[39;00m step \u001B[38;5;129;01min\u001B[39;00m steps:\n",
      "File \u001B[1;32mE:\\re_course\\venv\\lib\\site-packages\\stockfish\\models.py:540\u001B[0m, in \u001B[0;36mStockfish.get_top_moves\u001B[1;34m(self, num_top_moves)\u001B[0m\n\u001B[0;32m    538\u001B[0m lines \u001B[38;5;241m=\u001B[39m []\n\u001B[0;32m    539\u001B[0m \u001B[38;5;28;01mwhile\u001B[39;00m \u001B[38;5;28;01mTrue\u001B[39;00m:\n\u001B[1;32m--> 540\u001B[0m     text \u001B[38;5;241m=\u001B[39m \u001B[38;5;28;43mself\u001B[39;49m\u001B[38;5;241;43m.\u001B[39;49m\u001B[43m_read_line\u001B[49m\u001B[43m(\u001B[49m\u001B[43m)\u001B[49m\n\u001B[0;32m    541\u001B[0m     splitted_text \u001B[38;5;241m=\u001B[39m text\u001B[38;5;241m.\u001B[39msplit(\u001B[38;5;124m\"\u001B[39m\u001B[38;5;124m \u001B[39m\u001B[38;5;124m\"\u001B[39m)\n\u001B[0;32m    542\u001B[0m     lines\u001B[38;5;241m.\u001B[39mappend(splitted_text)\n",
      "File \u001B[1;32mE:\\re_course\\venv\\lib\\site-packages\\stockfish\\models.py:161\u001B[0m, in \u001B[0;36mStockfish._read_line\u001B[1;34m(self)\u001B[0m\n\u001B[0;32m    159\u001B[0m \u001B[38;5;28;01mif\u001B[39;00m \u001B[38;5;28mself\u001B[39m\u001B[38;5;241m.\u001B[39m_stockfish\u001B[38;5;241m.\u001B[39mpoll() \u001B[38;5;129;01mis\u001B[39;00m \u001B[38;5;129;01mnot\u001B[39;00m \u001B[38;5;28;01mNone\u001B[39;00m:\n\u001B[0;32m    160\u001B[0m     \u001B[38;5;28;01mraise\u001B[39;00m StockfishException(\u001B[38;5;124m\"\u001B[39m\u001B[38;5;124mThe Stockfish process has crashed\u001B[39m\u001B[38;5;124m\"\u001B[39m)\n\u001B[1;32m--> 161\u001B[0m \u001B[38;5;28;01mreturn\u001B[39;00m \u001B[38;5;28;43mself\u001B[39;49m\u001B[38;5;241;43m.\u001B[39;49m\u001B[43m_stockfish\u001B[49m\u001B[38;5;241;43m.\u001B[39;49m\u001B[43mstdout\u001B[49m\u001B[38;5;241;43m.\u001B[39;49m\u001B[43mreadline\u001B[49m\u001B[43m(\u001B[49m\u001B[43m)\u001B[49m\u001B[38;5;241m.\u001B[39mstrip()\n",
      "File \u001B[1;32m~\\AppData\\Local\\Programs\\Python\\Python39\\lib\\encodings\\cp1251.py:22\u001B[0m, in \u001B[0;36mIncrementalDecoder.decode\u001B[1;34m(self, input, final)\u001B[0m\n\u001B[0;32m     21\u001B[0m \u001B[38;5;28;01mclass\u001B[39;00m \u001B[38;5;21;01mIncrementalDecoder\u001B[39;00m(codecs\u001B[38;5;241m.\u001B[39mIncrementalDecoder):\n\u001B[1;32m---> 22\u001B[0m     \u001B[38;5;28;01mdef\u001B[39;00m \u001B[38;5;21mdecode\u001B[39m(\u001B[38;5;28mself\u001B[39m, \u001B[38;5;28minput\u001B[39m, final\u001B[38;5;241m=\u001B[39m\u001B[38;5;28;01mFalse\u001B[39;00m):\n\u001B[0;32m     23\u001B[0m         \u001B[38;5;28;01mreturn\u001B[39;00m codecs\u001B[38;5;241m.\u001B[39mcharmap_decode(\u001B[38;5;28minput\u001B[39m,\u001B[38;5;28mself\u001B[39m\u001B[38;5;241m.\u001B[39merrors,decoding_table)[\u001B[38;5;241m0\u001B[39m]\n",
      "\u001B[1;31mKeyboardInterrupt\u001B[0m: "
     ]
    }
   ],
   "source": [
    "bc_win = 0\n",
    "wh_win = 0\n",
    "stockfish = ChessInterface(verbose=True, engine_path=r\"./chess_app/src/stockfish_15_x64_avx2.exe\")\n",
    "metrics_l = []\n",
    "metrics_w = []\n",
    "losses = []\n",
    "\n",
    "epoch_slice = 10\n",
    "\n",
    "loss = None\n",
    "\n",
    "player.reset_actions()\n",
    "player.policy_net.train()\n",
    "for epoch in range(n_epochs):\n",
    "    print(f'\\nEpoch num: {epoch}\\n')\n",
    "    count_w_l = [0, 0, 0]\n",
    "    for num, (array, fen_string) in enumerate(zip(dataset.to_numpy()[:epoch_slice], fen_strings[:epoch_slice])):\n",
    "        # print(f'Party №{num + 857}')\n",
    "        # print(fen_string)\n",
    "        # init necessary for game\n",
    "        new_state = fen_string\n",
    "        new_array = array\n",
    "\n",
    "        black_win = False\n",
    "        white_win = False\n",
    "        stalemate = False\n",
    "        too_much_moves = False\n",
    "\n",
    "        stockfish.set_board_fen(new_state)\n",
    "        all_rewards = list()\n",
    "\n",
    "        for _ in range(4):\n",
    "            # player make move\n",
    "            stockfish.set_board_fen(new_state)\n",
    "            try:\n",
    "                player_move, move_num = player.return_move(\n",
    "                    new_array,\n",
    "                    stockfish.get_top_steps() # todo\n",
    "                )\n",
    "\n",
    "                stockfish.player_move(player_move)\n",
    "                new_state = stockfish.get_board_fen()\n",
    "\n",
    "                all_rewards.append(0)\n",
    "                # print(f'\\tPlayer move: {player_move}, num of move: {move_num}')\n",
    "                if is_checkmate(board, new_state):\n",
    "                    white_win = True\n",
    "                    break\n",
    "            except NotEnoughMovesExceptions:\n",
    "                # print('NotEnoughMovesExceptions')\n",
    "                if len(all_rewards) < 1:\n",
    "                    all_rewards.append(-1)\n",
    "                else:\n",
    "                    all_rewards[-1] = 1\n",
    "                black_win = True\n",
    "                break\n",
    "\n",
    "            # environment make move\n",
    "            try:\n",
    "                machine_move = stockfish.env_move()\n",
    "                new_state = stockfish.get_board_fen()\n",
    "                # print(f'\\tMachine move: {machine_move}')\n",
    "                new_array = loader.extractPos(new_state, -1, -1)\n",
    "                new_array = list(new_array.values())[3:]\n",
    "\n",
    "                if is_checkmate(board, new_state):\n",
    "                    black_win = True\n",
    "                    break\n",
    "\n",
    "            except ValueError as err:\n",
    "                # print('Произошел пат!!!!!!!!!!!!!')\n",
    "                stalemate = True\n",
    "                count_w_l[2] += 1\n",
    "                break\n",
    "\n",
    "        else:\n",
    "            # print('> 4 ходов')\n",
    "            count_w_l[2] += 1\n",
    "            too_much_moves = True\n",
    "\n",
    "\n",
    "        if black_win is True:\n",
    "            reward = -1\n",
    "            count_w_l[1] += 1\n",
    "        elif stalemate is True:\n",
    "            reward = - 0.1\n",
    "        elif too_much_moves is True:\n",
    "            reward = 0.2\n",
    "        else:\n",
    "            reward = 1\n",
    "            count_w_l[0] += 1\n",
    "\n",
    "        all_rewards[-1] = reward\n",
    "        loss = player.update_policy(all_rewards)\n",
    "        if num % 2 == 0:\n",
    "            # print(f'Loss value: {loss}, num of party: {num}')\n",
    "            # print(f'Win rate: {count_w_l[0]}')\n",
    "            # print(f'Lose rate: {count_w_l[1]}')\n",
    "            # print(f'Stalemate rate: {count_w_l[2]}')\n",
    "            losses.append(loss)\n",
    "            # check_gradients(player.policy_net)\n",
    "    # wandb.log({\n",
    "    #         'loss': loss,\n",
    "    #         'win_rate': count_w_l[0]/epoch_slice,\n",
    "    #         'lose_rate': count_w_l[1]/epoch_slice,\n",
    "    #         'stalemate_rate': count_w_l[2]/epoch_slice\n",
    "    #     })\n",
    "    print(f'Loss value: {loss}, num of party: {num}')\n",
    "    print(f'Win rate: {count_w_l[0]}')\n",
    "    print(f'Lose rate: {count_w_l[1]}')\n",
    "    print(f'Stalemate rate: {count_w_l[2]}')\n",
    "\n",
    "    metrics_l.append(count_w_l[1]/len(fen_strings))\n",
    "    metrics_w.append(count_w_l[0]/len(fen_strings))\n",
    "    print(f'Winrate {count_w_l[0]} \\t Loserate {count_w_l[1]}')\n",
    "    torch.save(player.policy_net.state_dict(), 'weight.pth')\n"
   ]
  },
  {
   "cell_type": "code",
   "execution_count": null,
   "outputs": [],
   "source": [
    "for param in policy_net.parameters():\n",
    "    print(param.grad)"
   ],
   "metadata": {
    "collapsed": false,
    "pycharm": {
     "name": "#%%\n"
    }
   }
  },
  {
   "cell_type": "code",
   "execution_count": null,
   "outputs": [],
   "source": [],
   "metadata": {
    "collapsed": false,
    "pycharm": {
     "name": "#%%\n"
    }
   }
  },
  {
   "cell_type": "markdown",
   "metadata": {
    "collapsed": false,
    "pycharm": {
     "name": "#%% md\n"
    }
   },
   "source": []
  }
 ],
 "metadata": {
  "kernelspec": {
   "display_name": "Python 3.8.10 ('.course_re': venv)",
   "language": "python",
   "name": "python3"
  },
  "language_info": {
   "codemirror_mode": {
    "name": "ipython",
    "version": 3
   },
   "file_extension": ".py",
   "mimetype": "text/x-python",
   "name": "python",
   "nbconvert_exporter": "python",
   "pygments_lexer": "ipython3",
   "version": "3.8.10"
  },
  "vscode": {
   "interpreter": {
    "hash": "cf1539642ed891428415602806b8f5bad9b8d9b38358d499da812ad12d2a3cac"
   }
  }
 },
 "nbformat": 4,
 "nbformat_minor": 0
}