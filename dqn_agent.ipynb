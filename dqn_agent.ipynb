{
 "cells": [
  {
   "cell_type": "code",
   "execution_count": 1,
   "outputs": [],
   "source": [
    "import chess\n",
    "import torch\n",
    "\n",
    "from chess_app.environment import ChessInterface\n",
    "from re_algoritms.agents import RandomAgent, QAgent\n",
    "from chess_app.dataset.loader import loaderChessPos, tanstsovVecLoader\n",
    "import chess.svg\n",
    "from tqdm import tqdm\n"
   ],
   "metadata": {
    "collapsed": false,
    "pycharm": {
     "name": "#%%\n"
    }
   }
  },
  {
   "cell_type": "code",
   "execution_count": 2,
   "outputs": [],
   "source": [
    "\n",
    "def is_checkmate(board, state):\n",
    "    board.set_fen(state)\n",
    "    return board.is_checkmate()\n"
   ],
   "metadata": {
    "collapsed": false,
    "pycharm": {
     "name": "#%%\n"
    }
   }
  },
  {
   "cell_type": "code",
   "execution_count": 3,
   "outputs": [],
   "source": [
    "from re_algoritms.dqn import GrandMasterNet\n",
    "from re_algoritms.agents import DQNAgent\n",
    "\n",
    "board = chess.Board()\n",
    "\n",
    "e = 0.1\n",
    "lr = 0.3\n",
    "gamma = 0.3\n",
    "n_epochs = 100\n",
    "\n",
    "policy_net = GrandMasterNet(\n",
    "    board_vec_dim=68,\n",
    "    moves_vec_dim=5\n",
    ")\n",
    "player = DQNAgent(\n",
    "    lr=lr, gamma=gamma, model=policy_net\n",
    ")\n",
    "loader = tanstsovVecLoader(r'chess_app\\dataset\\result.json', r'chess_app\\dataset\\settings.json')\n",
    "loader.createDf()\n",
    "dataset, fen_strings = loader.getAllData()"
   ],
   "metadata": {
    "collapsed": false,
    "pycharm": {
     "name": "#%%\n"
    }
   }
  },
  {
   "cell_type": "code",
   "execution_count": 4,
   "outputs": [
    {
     "name": "stdout",
     "output_type": "stream",
     "text": [
      "[0 0 0 0 1 0 1 0 0 0 0 0 0 0 0 0 0 0 0 0 0 0 3 0 0 0 0 0 0 0 0 0 0 0 0 0 0\n",
      " 0 0 0 0 0 0 0 0 0 0 0 0 0 0 0 0 0 0 0 0 0 0 0 0 0 0 0 0 0 0 0] k1K5/8/2R5/8/8/8/8/8 w - - 0 1\n"
     ]
    }
   ],
   "source": [
    "for array, fen_string in zip(dataset.to_numpy(), fen_strings):\n",
    "    # print(_)\n",
    "    print(array, fen_string)\n",
    "    break"
   ],
   "metadata": {
    "collapsed": false,
    "pycharm": {
     "name": "#%%\n"
    }
   }
  },
  {
   "cell_type": "code",
   "execution_count": 5,
   "outputs": [],
   "source": [
    "# bc_win = 0\n",
    "# wh_win = 0\n",
    "# stockfish = ChessInterface(verbose=True, engine_path=r\"./chess_app/src/stockfish_15_x64_avx2.exe\")\n",
    "# for epoch in range(n_epochs):\n",
    "#     for cnt_to_finish in list(loader.games.keys()):\n",
    "#         for state in tqdm(loader.games[cnt_to_finish]):\n",
    "#             stockfish.stockfish.set_fen_position(state)\n",
    "#             # actions = list() # todo: выбранная вероятность\n",
    "#             rewards = list()     # ...\n",
    "#\n",
    "#             move_counter = 1\n",
    "#             reward = 0\n",
    "#             black_win = False\n",
    "#             white_win = False\n",
    "#             new_state = state\n",
    "#             b_state = None\n",
    "#             while not is_checkmate(board, new_state):\n",
    "#                 stockfish.stockfish.set_fen_position(new_state)\n",
    "#                 player_move = player.return_move(new_state, stockfish, e)\n",
    "#                 #print(f'Player move:{player_move}')\n",
    "#                 stockfish.player_move(player_move)\n",
    "#                 #new_state = stockfish.stockfish.get_fen_position()\n",
    "#             # actions.append(new_state) # ?\n",
    "#                 move_counter += 1\n",
    "#                 if move_counter > 5:\n",
    "#                     black_win = True\n",
    "#                     bc_win += 1\n",
    "#                     break\n",
    "#                 # actions.append(new_state)\n",
    "#\n",
    "#                 if is_checkmate(board, new_state):\n",
    "#                     wh_win += 1\n",
    "#                     white_win = True\n",
    "#                 else:\n",
    "#                     machine_move = stockfish.env_move()\n",
    "#                     new_state = stockfish.get_board_fen()\n",
    "#                     #print(f'Machine move:{machine_move}')\n",
    "#                 if is_checkmate(board, new_state) and not white_win:\n",
    "#                     bc_win += 1\n",
    "#                     black_win = True\n",
    "#                 print(actions)\n",
    "#\n",
    "#\n",
    "#\n",
    "#                 #print('---')\n",
    "#                 # break\n",
    "#\n",
    "#             if black_win is True:\n",
    "#                 reward = -1\n",
    "#             else:\n",
    "#                 reward = 1\n",
    "#\n",
    "#             player.update_policy(reward=reward)\n",
    "#             # break\n",
    "#         print(f'Win: {wh_win}\\t Lose: {bc_win}')"
   ],
   "metadata": {
    "collapsed": false,
    "pycharm": {
     "name": "#%%\n"
    }
   }
  },
  {
   "cell_type": "code",
   "execution_count": 6,
   "outputs": [
    {
     "name": "stderr",
     "output_type": "stream",
     "text": [
      "0it [00:00, ?it/s]"
     ]
    },
    {
     "name": "stdout",
     "output_type": "stream",
     "text": [
      "3616\n",
      "3837\n",
      "3626\n",
      "3676\n",
      "3632\n",
      "torch.Size([1, 68]) torch.Size([1, 5])\n"
     ]
    },
    {
     "name": "stderr",
     "output_type": "stream",
     "text": [
      "0it [00:00, ?it/s]\n"
     ]
    },
    {
     "ename": "IndexError",
     "evalue": "index 3 is out of bounds for dimension 0 with size 1",
     "output_type": "error",
     "traceback": [
      "\u001B[1;31m---------------------------------------------------------------------------\u001B[0m",
      "\u001B[1;31mIndexError\u001B[0m                                Traceback (most recent call last)",
      "Cell \u001B[1;32mIn [6], line 19\u001B[0m\n\u001B[0;32m     16\u001B[0m \u001B[38;5;28;01mfor\u001B[39;00m _ \u001B[38;5;129;01min\u001B[39;00m \u001B[38;5;28mrange\u001B[39m(\u001B[38;5;241m5\u001B[39m):\n\u001B[0;32m     17\u001B[0m     \u001B[38;5;66;03m# player make move\u001B[39;00m\n\u001B[0;32m     18\u001B[0m     stockfish\u001B[38;5;241m.\u001B[39mset_board_fen(new_state)\n\u001B[1;32m---> 19\u001B[0m     player_move \u001B[38;5;241m=\u001B[39m \u001B[43mplayer\u001B[49m\u001B[38;5;241;43m.\u001B[39;49m\u001B[43mreturn_move\u001B[49m\u001B[43m(\u001B[49m\n\u001B[0;32m     20\u001B[0m \u001B[43m        \u001B[49m\u001B[43mnew_array\u001B[49m\u001B[43m,\u001B[49m\n\u001B[0;32m     21\u001B[0m \u001B[43m        \u001B[49m\u001B[43mstockfish\u001B[49m\u001B[38;5;241;43m.\u001B[39;49m\u001B[43mget_top_steps\u001B[49m\u001B[43m(\u001B[49m\u001B[43m)\u001B[49m\u001B[43m \u001B[49m\u001B[38;5;66;43;03m# todo\u001B[39;49;00m\n\u001B[0;32m     22\u001B[0m \u001B[43m    \u001B[49m\u001B[43m)\u001B[49m\n\u001B[0;32m     23\u001B[0m     stockfish\u001B[38;5;241m.\u001B[39mplayer_move(player_move)\n\u001B[0;32m     25\u001B[0m     all_rewards\u001B[38;5;241m.\u001B[39mappend(\u001B[38;5;241m0\u001B[39m)\n",
      "File \u001B[1;32mE:\\re_course\\re_algoritms\\agents.py:221\u001B[0m, in \u001B[0;36mDQNAgent.return_move\u001B[1;34m(self, state, good_moves)\u001B[0m\n\u001B[0;32m    218\u001B[0m move_num \u001B[38;5;241m=\u001B[39m torch\u001B[38;5;241m.\u001B[39margmax(out, dim\u001B[38;5;241m=\u001B[39m\u001B[38;5;241m1\u001B[39m)\n\u001B[0;32m    219\u001B[0m \u001B[38;5;28mself\u001B[39m\u001B[38;5;241m.\u001B[39mactions\u001B[38;5;241m.\u001B[39mappend(out)\n\u001B[1;32m--> 221\u001B[0m \u001B[38;5;28;01mreturn\u001B[39;00m \u001B[43mgood_moves\u001B[49m\u001B[43m[\u001B[49m\u001B[43mmove_num\u001B[49m\u001B[43m]\u001B[49m\n",
      "\u001B[1;31mIndexError\u001B[0m: index 3 is out of bounds for dimension 0 with size 1"
     ]
    }
   ],
   "source": [
    "bc_win = 0\n",
    "wh_win = 0\n",
    "stockfish = ChessInterface(verbose=True, engine_path=r\"./chess_app/src/stockfish_15_x64_avx2.exe\")\n",
    "for epoch in range(n_epochs):\n",
    "    for array, fen_string in tqdm(zip(dataset.to_numpy(), fen_strings)):\n",
    "        # init necessary for game\n",
    "        new_state = fen_string\n",
    "        new_array = array\n",
    "\n",
    "        black_win = False\n",
    "        white_win = False\n",
    "\n",
    "        stockfish.set_board_fen(new_state)\n",
    "        all_rewards = list()\n",
    "\n",
    "        for _ in range(5):\n",
    "            # player make move\n",
    "            stockfish.set_board_fen(new_state)\n",
    "            player_move = player.return_move(\n",
    "                new_array,\n",
    "                stockfish.get_top_steps() # todo\n",
    "            )\n",
    "            stockfish.player_move(player_move)\n",
    "\n",
    "            all_rewards.append(0)\n",
    "\n",
    "            if is_checkmate(board, new_state):\n",
    "                white_win = True\n",
    "                break\n",
    "\n",
    "            # environment make move\n",
    "            machine_move = stockfish.env_move()\n",
    "            new_state = stockfish.get_board_fen()\n",
    "\n",
    "            new_array = loader.extractPos(new_state, -1, -1)\n",
    "            new_array = new_array.values()[3:]\n",
    "\n",
    "            if is_checkmate(board, new_state):\n",
    "                black_win = True\n",
    "                break\n",
    "        else:\n",
    "            black_win = True\n",
    "\n",
    "\n",
    "        if black_win is True:\n",
    "            reward = -1\n",
    "        else:\n",
    "            reward = 1\n",
    "\n",
    "        all_rewards.append(reward)\n",
    "        player.update_policy(all_rewards)"
   ],
   "metadata": {
    "collapsed": false,
    "pycharm": {
     "name": "#%%\n"
    }
   }
  },
  {
   "cell_type": "markdown",
   "source": [],
   "metadata": {
    "collapsed": false,
    "pycharm": {
     "name": "#%% md\n"
    }
   }
  }
 ],
 "metadata": {
  "kernelspec": {
   "display_name": "Python 3.8.10 ('.course_re': venv)",
   "language": "python",
   "name": "python3"
  },
  "language_info": {
   "codemirror_mode": {
    "name": "ipython",
    "version": 3
   },
   "file_extension": ".py",
   "mimetype": "text/x-python",
   "name": "python",
   "nbconvert_exporter": "python",
   "pygments_lexer": "ipython3",
   "version": "3.8.10"
  },
  "vscode": {
   "interpreter": {
    "hash": "cf1539642ed891428415602806b8f5bad9b8d9b38358d499da812ad12d2a3cac"
   }
  }
 },
 "nbformat": 4,
 "nbformat_minor": 0
}