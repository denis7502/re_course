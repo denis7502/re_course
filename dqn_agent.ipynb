{
 "cells": [
  {
   "cell_type": "code",
   "execution_count": 1,
   "metadata": {
    "collapsed": false,
    "pycharm": {
     "name": "#%%\n"
    }
   },
   "outputs": [
    {
     "name": "stderr",
     "output_type": "stream",
     "text": [
      "c:\\my_prj\\re_course\\.course_re\\lib\\site-packages\\tqdm\\auto.py:22: TqdmWarning: IProgress not found. Please update jupyter and ipywidgets. See https://ipywidgets.readthedocs.io/en/stable/user_install.html\n",
      "  from .autonotebook import tqdm as notebook_tqdm\n"
     ]
    }
   ],
   "source": [
    "import chess\n",
    "import torch\n",
    "\n",
    "from chess_app.environment import ChessInterface\n",
    "from chess_app.chess_exceptions import NotEnoughMovesExceptions\n",
    "from re_algoritms.agents import RandomAgent, QAgent\n",
    "from chess_app.dataset.loader import loaderChessPos, tanstsovVecLoader\n",
    "import chess.svg\n",
    "from tqdm import tqdm\n"
   ]
  },
  {
   "cell_type": "code",
   "execution_count": 2,
   "metadata": {
    "collapsed": false,
    "pycharm": {
     "name": "#%%\n"
    }
   },
   "outputs": [],
   "source": [
    "\n",
    "def is_checkmate(board, state):\n",
    "    board.set_fen(state)\n",
    "    return board.is_checkmate()\n"
   ]
  },
  {
   "cell_type": "code",
   "execution_count": 3,
   "metadata": {
    "collapsed": false,
    "pycharm": {
     "name": "#%%\n"
    }
   },
   "outputs": [],
   "source": [
    "from re_algoritms.dqn import GrandMasterNet\n",
    "from re_algoritms.agents import DQNAgent\n",
    "\n",
    "board = chess.Board()\n",
    "\n",
    "e = 0.1\n",
    "lr = 0.3\n",
    "gamma = 0.3\n",
    "n_epochs = 100\n",
    "\n",
    "policy_net = GrandMasterNet(\n",
    "    board_vec_dim=68,\n",
    "    moves_vec_dim=5\n",
    ")\n",
    "player = DQNAgent(\n",
    "    lr=lr, gamma=gamma, model=policy_net\n",
    ")\n",
    "loader = tanstsovVecLoader(r'chess_app\\dataset\\result.json', r'chess_app\\dataset\\settings.json')\n",
    "loader.createDf()\n",
    "dataset, fen_strings = loader.getAllData()"
   ]
  },
  {
   "cell_type": "code",
   "execution_count": 4,
   "metadata": {
    "collapsed": false,
    "pycharm": {
     "name": "#%%\n"
    }
   },
   "outputs": [
    {
     "name": "stdout",
     "output_type": "stream",
     "text": [
      "[0 0 0 0 7 0 1 0 0 0 0 0 0 0 0 0 0 0 0 0 0 0 3 0 0 0 0 0 0 0 0 0 0 0 0 0 0\n",
      " 0 0 0 0 0 0 0 0 0 0 0 0 0 0 0 0 0 0 0 0 0 0 0 0 0 0 0 0 0 0 0] k1K5/8/2R5/8/8/8/8/8 w - - 0 1\n"
     ]
    }
   ],
   "source": [
    "for array, fen_string in zip(dataset.to_numpy(), fen_strings):\n",
    "    # print(_)\n",
    "    print(array, fen_string)\n",
    "    break"
   ]
  },
  {
   "cell_type": "code",
   "execution_count": 5,
   "metadata": {
    "collapsed": false,
    "pycharm": {
     "name": "#%%\n"
    }
   },
   "outputs": [],
   "source": [
    "# bc_win = 0\n",
    "# wh_win = 0\n",
    "# stockfish = ChessInterface(verbose=True, engine_path=r\"./chess_app/src/stockfish_15_x64_avx2.exe\")\n",
    "# for epoch in range(n_epochs):\n",
    "#     for cnt_to_finish in list(loader.games.keys()):\n",
    "#         for state in tqdm(loader.games[cnt_to_finish]):\n",
    "#             stockfish.stockfish.set_fen_position(state)\n",
    "#             # actions = list() # todo: выбранная вероятность\n",
    "#             rewards = list()     # ...\n",
    "#\n",
    "#             move_counter = 1\n",
    "#             reward = 0\n",
    "#             black_win = False\n",
    "#             white_win = False\n",
    "#             new_state = state\n",
    "#             b_state = None\n",
    "#             while not is_checkmate(board, new_state):\n",
    "#                 stockfish.stockfish.set_fen_position(new_state)\n",
    "#                 player_move = player.return_move(new_state, stockfish, e)\n",
    "#                 #print(f'Player move:{player_move}')\n",
    "#                 stockfish.player_move(player_move)\n",
    "#                 #new_state = stockfish.stockfish.get_fen_position()\n",
    "#             # actions.append(new_state) # ?\n",
    "#                 move_counter += 1\n",
    "#                 if move_counter > 5:\n",
    "#                     black_win = True\n",
    "#                     bc_win += 1\n",
    "#                     break\n",
    "#                 # actions.append(new_state)\n",
    "#\n",
    "#                 if is_checkmate(board, new_state):\n",
    "#                     wh_win += 1\n",
    "#                     white_win = True\n",
    "#                 else:\n",
    "#                     machine_move = stockfish.env_move()\n",
    "#                     new_state = stockfish.get_board_fen()\n",
    "#                     #print(f'Machine move:{machine_move}')\n",
    "#                 if is_checkmate(board, new_state) and not white_win:\n",
    "#                     bc_win += 1\n",
    "#                     black_win = True\n",
    "#                 print(actions)\n",
    "#\n",
    "#\n",
    "#\n",
    "#                 #print('---')\n",
    "#                 # break\n",
    "#\n",
    "#             if black_win is True:\n",
    "#                 reward = -1\n",
    "#             else:\n",
    "#                 reward = 1\n",
    "#\n",
    "#             player.update_policy(reward=reward)\n",
    "#             # break\n",
    "#         print(f'Win: {wh_win}\\t Lose: {bc_win}')"
   ]
  },
  {
   "cell_type": "code",
   "execution_count": 6,
   "metadata": {
    "collapsed": false,
    "pycharm": {
     "name": "#%%\n"
    }
   },
   "outputs": [],
   "source": [
    "# bc_win = 0\n",
    "# wh_win = 0\n",
    "# stockfish = ChessInterface(verbose=True, engine_path=r\"./chess_app/src/stockfish_15_x64_avx2.exe\")\n",
    "# for epoch in range(n_epochs):\n",
    "#     for array, fen_string in tqdm(zip(dataset.to_numpy(), fen_strings)):\n",
    "#         # init necessary for game\n",
    "#         new_state = fen_string\n",
    "#         new_array = array\n",
    "#\n",
    "#         black_win = False\n",
    "#         white_win = False\n",
    "#\n",
    "#         stockfish.set_board_fen(new_state)\n",
    "#         all_rewards = list()\n",
    "#\n",
    "#         for _ in range(5):\n",
    "#             # player make move\n",
    "#             stockfish.set_board_fen(new_state)\n",
    "#             player_move = player.return_move(\n",
    "#                 new_array,\n",
    "#                 stockfish.get_top_steps() # todo\n",
    "#             )\n",
    "#             stockfish.player_move(player_move)\n",
    "#\n",
    "#             all_rewards.append(0)\n",
    "#\n",
    "#             if is_checkmate(board, new_state):\n",
    "#                 white_win = True\n",
    "#                 break\n",
    "#\n",
    "#             # environment make move\n",
    "#             machine_move = stockfish.env_move()\n",
    "#             new_state = stockfish.get_board_fen()\n",
    "#\n",
    "#             new_array = loader.extractPos(new_state, -1, -1)\n",
    "#             new_array = new_array.values()[3:]\n",
    "#\n",
    "#             if is_checkmate(board, new_state):\n",
    "#                 black_win = True\n",
    "#                 break\n",
    "#         else:\n",
    "#             black_win = True\n",
    "#\n",
    "#\n",
    "#         if black_win is True:\n",
    "#             reward = -1\n",
    "#         else:\n",
    "#             reward = 1\n",
    "#\n",
    "#         all_rewards.append(reward)\n",
    "#         player.update_policy(all_rewards)"
   ]
  },
  {
   "cell_type": "code",
   "execution_count": 7,
   "metadata": {
    "collapsed": false,
    "pycharm": {
     "name": "#%%\n"
    }
   },
   "outputs": [],
   "source": [
    "# bc_win = 0\n",
    "# wh_win = 0\n",
    "# stockfish = ChessInterface(verbose=True, engine_path=r\"./chess_app/src/stockfish_15_x64_avx2.exe\")\n",
    "# for epoch in range(n_epochs):\n",
    "#     for cnt_to_finish in list(loader.games.keys()):\n",
    "#         for state in tqdm(loader.games[cnt_to_finish]):\n",
    "#             stockfish.stockfish.set_fen_position(state)\n",
    "#             # actions = list() # todo: выбранная вероятность\n",
    "#             rewards = list()     # ...\n",
    "#\n",
    "#             move_counter = 1\n",
    "#             reward = 0\n",
    "#             black_win = False\n",
    "#             white_win = False\n",
    "#             new_state = state\n",
    "#             b_state = None\n",
    "#             while not is_checkmate(board, new_state):\n",
    "#                 stockfish.stockfish.set_fen_position(new_state)\n",
    "#                 player_move = player.return_move(new_state, stockfish, e)\n",
    "#                 #print(f'Player move:{player_move}')\n",
    "#                 stockfish.player_move(player_move)\n",
    "#                 #new_state = stockfish.stockfish.get_fen_position()\n",
    "#             # actions.append(new_state) # ?\n",
    "#                 move_counter += 1\n",
    "#                 if move_counter > 5:\n",
    "#                     black_win = True\n",
    "#                     bc_win += 1\n",
    "#                     break\n",
    "#                 # actions.append(new_state)\n",
    "#\n",
    "#                 if is_checkmate(board, new_state):\n",
    "#                     wh_win += 1\n",
    "#                     white_win = True\n",
    "#                 else:\n",
    "#                     machine_move = stockfish.env_move()\n",
    "#                     new_state = stockfish.get_board_fen()\n",
    "#                     #print(f'Machine move:{machine_move}')\n",
    "#                 if is_checkmate(board, new_state) and not white_win:\n",
    "#                     bc_win += 1\n",
    "#                     black_win = True\n",
    "#                 print(actions)\n",
    "#\n",
    "#\n",
    "#\n",
    "#                 #print('---')\n",
    "#                 # break\n",
    "#\n",
    "#             if black_win is True:\n",
    "#                 reward = -1\n",
    "#             else:\n",
    "#                 reward = 1\n",
    "#\n",
    "#             player.update_policy(reward=reward)\n",
    "#             # break\n",
    "#         print(f'Win: {wh_win}\\t Lose: {bc_win}')"
   ]
  },
  {
   "cell_type": "code",
   "execution_count": 12,
   "metadata": {
    "collapsed": false,
    "pycharm": {
     "name": "#%%\n"
    }
   },
   "outputs": [
    {
     "name": "stdout",
     "output_type": "stream",
     "text": [
      "Epoch num: 0\n"
     ]
    },
    {
     "name": "stderr",
     "output_type": "stream",
     "text": [
      "C:\\Users\\kopyl\\AppData\\Local\\Temp\\ipykernel_21860\\1638990745.py:14: FutureWarning: The behavior of `series[i:j]` with an integer-dtype index is deprecated. In a future version, this will be treated as *label-based* indexing, consistent with e.g. `series[i]` lookups. To retain the old behavior, use `series.iloc[i:j]`. To get the future behavior, use `series.loc[i:j]`.\n",
      "  for num, (array, fen_string) in enumerate(zip(dataset.to_numpy()[:2], fen_strings[:2])):\n"
     ]
    },
    {
     "name": "stdout",
     "output_type": "stream",
     "text": [
      "Winrate 1 \t Loserate 1\n",
      "Epoch num: 1\n",
      "Winrate 1 \t Loserate 1\n",
      "Epoch num: 2\n",
      "Winrate 1 \t Loserate 1\n",
      "Epoch num: 3\n"
     ]
    },
    {
     "ename": "KeyboardInterrupt",
     "evalue": "",
     "output_type": "error",
     "traceback": [
      "\u001b[1;31m---------------------------------------------------------------------------\u001b[0m",
      "\u001b[1;31mKeyboardInterrupt\u001b[0m                         Traceback (most recent call last)",
      "Cell \u001b[1;32mIn [12], line 30\u001b[0m\n\u001b[0;32m     26\u001b[0m all_rewards \u001b[39m=\u001b[39m \u001b[39mlist\u001b[39m()\n\u001b[0;32m     28\u001b[0m \u001b[39mfor\u001b[39;00m _ \u001b[39min\u001b[39;00m \u001b[39mrange\u001b[39m(\u001b[39m5\u001b[39m):\n\u001b[0;32m     29\u001b[0m     \u001b[39m# player make move\u001b[39;00m\n\u001b[1;32m---> 30\u001b[0m     stockfish\u001b[39m.\u001b[39;49mset_board_fen(new_state)\n\u001b[0;32m     31\u001b[0m     \u001b[39mtry\u001b[39;00m:\n\u001b[0;32m     32\u001b[0m         player_move \u001b[39m=\u001b[39m player\u001b[39m.\u001b[39mreturn_move(\n\u001b[0;32m     33\u001b[0m             new_array,\n\u001b[0;32m     34\u001b[0m             stockfish\u001b[39m.\u001b[39mget_top_steps() \u001b[39m# todo\u001b[39;00m\n\u001b[0;32m     35\u001b[0m         )\n",
      "File \u001b[1;32mc:\\my_prj\\re_course\\chess_app\\environment.py:57\u001b[0m, in \u001b[0;36mChessInterface.set_board_fen\u001b[1;34m(self, fen)\u001b[0m\n\u001b[0;32m     56\u001b[0m \u001b[39mdef\u001b[39;00m \u001b[39mset_board_fen\u001b[39m(\u001b[39mself\u001b[39m, fen):\n\u001b[1;32m---> 57\u001b[0m     \u001b[39mself\u001b[39;49m\u001b[39m.\u001b[39;49mstockfish\u001b[39m.\u001b[39;49mset_fen_position(fen)\n",
      "File \u001b[1;32mc:\\my_prj\\re_course\\.course_re\\lib\\site-packages\\stockfish\\models.py:207\u001b[0m, in \u001b[0;36mStockfish.set_fen_position\u001b[1;34m(self, fen_position, send_ucinewgame_token)\u001b[0m\n\u001b[0;32m    190\u001b[0m \u001b[39mdef\u001b[39;00m \u001b[39mset_fen_position\u001b[39m(\n\u001b[0;32m    191\u001b[0m     \u001b[39mself\u001b[39m, fen_position: \u001b[39mstr\u001b[39m, send_ucinewgame_token: \u001b[39mbool\u001b[39m \u001b[39m=\u001b[39m \u001b[39mTrue\u001b[39;00m\n\u001b[0;32m    192\u001b[0m ) \u001b[39m-\u001b[39m\u001b[39m>\u001b[39m \u001b[39mNone\u001b[39;00m:\n\u001b[0;32m    193\u001b[0m     \u001b[39m\"\"\"Sets current board position in Forsyth–Edwards notation (FEN).\u001b[39;00m\n\u001b[0;32m    194\u001b[0m \n\u001b[0;32m    195\u001b[0m \u001b[39m    Args:\u001b[39;00m\n\u001b[1;32m   (...)\u001b[0m\n\u001b[0;32m    205\u001b[0m \u001b[39m        None\u001b[39;00m\n\u001b[0;32m    206\u001b[0m \u001b[39m    \"\"\"\u001b[39;00m\n\u001b[1;32m--> 207\u001b[0m     \u001b[39mself\u001b[39;49m\u001b[39m.\u001b[39;49m_prepare_for_new_position(send_ucinewgame_token)\n\u001b[0;32m    208\u001b[0m     \u001b[39mself\u001b[39m\u001b[39m.\u001b[39m_put(\u001b[39mf\u001b[39m\u001b[39m\"\u001b[39m\u001b[39mposition fen \u001b[39m\u001b[39m{\u001b[39;00mfen_position\u001b[39m}\u001b[39;00m\u001b[39m\"\u001b[39m)\n",
      "File \u001b[1;32mc:\\my_prj\\re_course\\.course_re\\lib\\site-packages\\stockfish\\models.py:144\u001b[0m, in \u001b[0;36mStockfish._prepare_for_new_position\u001b[1;34m(self, send_ucinewgame_token)\u001b[0m\n\u001b[0;32m    142\u001b[0m \u001b[39mif\u001b[39;00m send_ucinewgame_token:\n\u001b[0;32m    143\u001b[0m     \u001b[39mself\u001b[39m\u001b[39m.\u001b[39m_put(\u001b[39m\"\u001b[39m\u001b[39mucinewgame\u001b[39m\u001b[39m\"\u001b[39m)\n\u001b[1;32m--> 144\u001b[0m \u001b[39mself\u001b[39;49m\u001b[39m.\u001b[39;49m_is_ready()\n\u001b[0;32m    145\u001b[0m \u001b[39mself\u001b[39m\u001b[39m.\u001b[39minfo \u001b[39m=\u001b[39m \u001b[39m\"\u001b[39m\u001b[39m\"\u001b[39m\n",
      "File \u001b[1;32mc:\\my_prj\\re_course\\.course_re\\lib\\site-packages\\stockfish\\models.py:173\u001b[0m, in \u001b[0;36mStockfish._is_ready\u001b[1;34m(self)\u001b[0m\n\u001b[0;32m    171\u001b[0m \u001b[39mdef\u001b[39;00m \u001b[39m_is_ready\u001b[39m(\u001b[39mself\u001b[39m) \u001b[39m-\u001b[39m\u001b[39m>\u001b[39m \u001b[39mNone\u001b[39;00m:\n\u001b[0;32m    172\u001b[0m     \u001b[39mself\u001b[39m\u001b[39m.\u001b[39m_put(\u001b[39m\"\u001b[39m\u001b[39misready\u001b[39m\u001b[39m\"\u001b[39m)\n\u001b[1;32m--> 173\u001b[0m     \u001b[39mwhile\u001b[39;00m \u001b[39mself\u001b[39;49m\u001b[39m.\u001b[39;49m_read_line() \u001b[39m!=\u001b[39m \u001b[39m\"\u001b[39m\u001b[39mreadyok\u001b[39m\u001b[39m\"\u001b[39m:\n\u001b[0;32m    174\u001b[0m         \u001b[39mpass\u001b[39;00m\n",
      "File \u001b[1;32mc:\\my_prj\\re_course\\.course_re\\lib\\site-packages\\stockfish\\models.py:161\u001b[0m, in \u001b[0;36mStockfish._read_line\u001b[1;34m(self)\u001b[0m\n\u001b[0;32m    159\u001b[0m \u001b[39mif\u001b[39;00m \u001b[39mself\u001b[39m\u001b[39m.\u001b[39m_stockfish\u001b[39m.\u001b[39mpoll() \u001b[39mis\u001b[39;00m \u001b[39mnot\u001b[39;00m \u001b[39mNone\u001b[39;00m:\n\u001b[0;32m    160\u001b[0m     \u001b[39mraise\u001b[39;00m StockfishException(\u001b[39m\"\u001b[39m\u001b[39mThe Stockfish process has crashed\u001b[39m\u001b[39m\"\u001b[39m)\n\u001b[1;32m--> 161\u001b[0m \u001b[39mreturn\u001b[39;00m \u001b[39mself\u001b[39;49m\u001b[39m.\u001b[39;49m_stockfish\u001b[39m.\u001b[39;49mstdout\u001b[39m.\u001b[39;49mreadline()\u001b[39m.\u001b[39mstrip()\n",
      "File \u001b[1;32m~\\AppData\\Local\\Programs\\Python\\Python38\\lib\\encodings\\cp1251.py:22\u001b[0m, in \u001b[0;36mIncrementalDecoder.decode\u001b[1;34m(self, input, final)\u001b[0m\n\u001b[0;32m     21\u001b[0m \u001b[39mclass\u001b[39;00m \u001b[39mIncrementalDecoder\u001b[39;00m(codecs\u001b[39m.\u001b[39mIncrementalDecoder):\n\u001b[1;32m---> 22\u001b[0m     \u001b[39mdef\u001b[39;00m \u001b[39mdecode\u001b[39m(\u001b[39mself\u001b[39m, \u001b[39minput\u001b[39m, final\u001b[39m=\u001b[39m\u001b[39mFalse\u001b[39;00m):\n\u001b[0;32m     23\u001b[0m         \u001b[39mreturn\u001b[39;00m codecs\u001b[39m.\u001b[39mcharmap_decode(\u001b[39minput\u001b[39m,\u001b[39mself\u001b[39m\u001b[39m.\u001b[39merrors,decoding_table)[\u001b[39m0\u001b[39m]\n",
      "\u001b[1;31mKeyboardInterrupt\u001b[0m: "
     ]
    }
   ],
   "source": [
    "\n",
    "policy_net = GrandMasterNet(\n",
    "    board_vec_dim=68,\n",
    "    moves_vec_dim=5\n",
    ")\n",
    "\n",
    "bc_win = 0\n",
    "wh_win = 0\n",
    "stockfish = ChessInterface(verbose=True, engine_path=r\"./chess_app/src/stockfish_15_x64_avx2.exe\")\n",
    "metrics_l = []\n",
    "metrics_w = []\n",
    "for epoch in range(n_epochs):\n",
    "    print(f'Epoch num: {epoch}')\n",
    "    count_w_l = [0, 0]\n",
    "    for num, (array, fen_string) in enumerate(zip(dataset.to_numpy(), fen_strings)):\n",
    "        # print(f'Party №{num + 857}')\n",
    "        # print(fen_string)\n",
    "        # init necessary for game\n",
    "        player.actions = list()\n",
    "        new_state = fen_string\n",
    "        new_array = array\n",
    "\n",
    "        black_win = False\n",
    "        white_win = False\n",
    "\n",
    "        stockfish.set_board_fen(new_state)\n",
    "        all_rewards = list()\n",
    "\n",
    "        for _ in range(5):\n",
    "            # player make move\n",
    "            stockfish.set_board_fen(new_state)\n",
    "            try:\n",
    "                player_move = player.return_move(\n",
    "                    new_array,\n",
    "                    stockfish.get_top_steps() # todo\n",
    "                )\n",
    "\n",
    "                stockfish.player_move(player_move)\n",
    "                new_state = stockfish.get_board_fen()\n",
    "\n",
    "                all_rewards.append(0)\n",
    "                # print(f'\\tPlayer move: {player_move}')\n",
    "                if is_checkmate(board, new_state):\n",
    "                    white_win = True\n",
    "                    break\n",
    "            except NotEnoughMovesExceptions:\n",
    "                # print('NotEnoughMovesExceptions')\n",
    "                if len(all_rewards) < 1:\n",
    "                    all_rewards.append(-1)\n",
    "                else:\n",
    "                    all_rewards[-1] = 1\n",
    "                black_win = True\n",
    "                break\n",
    "\n",
    "            # environment make move\n",
    "            try:\n",
    "                machine_move = stockfish.env_move()\n",
    "                new_state = stockfish.get_board_fen()\n",
    "                # print(f'\\tMachine move: {machine_move}')\n",
    "                new_array = loader.extractPos(new_state, -1, -1)\n",
    "                new_array = list(new_array.values())[3:]\n",
    "\n",
    "                if is_checkmate(board, new_state):\n",
    "                    black_win = True\n",
    "                    break\n",
    "\n",
    "            except ValueError as err:\n",
    "                #print('Произошел пат!!!!!!!!!!!!!')\n",
    "                black_win = True\n",
    "                break\n",
    "\n",
    "        else:\n",
    "            # print('> 4 ходов')\n",
    "            black_win = True\n",
    "\n",
    "\n",
    "        if black_win is True:\n",
    "            reward = -1\n",
    "            count_w_l[1] += 1\n",
    "        else:\n",
    "            reward = 1\n",
    "            count_w_l[0] += 1\n",
    "\n",
    "        all_rewards[-1] = reward\n",
    "        player.update_policy(all_rewards)\n",
    "    metrics_l.append(count_w_l[1]/len(fen_strings))\n",
    "    metrics_w.append(count_w_l[0]/len(fen_strings))\n",
    "    print(f'Winrate {count_w_l[0]} \\t Loserate {count_w_l[1]}')\n",
    "    torch.save(player.policy_net.state_dict(), 'weight.pth')\n",
    "    "
   ]
  },
  {
   "cell_type": "markdown",
   "metadata": {
    "collapsed": false,
    "pycharm": {
     "name": "#%% md\n"
    }
   },
   "source": []
  }
 ],
 "metadata": {
  "kernelspec": {
   "display_name": "Python 3.8.10 ('.course_re': venv)",
   "language": "python",
   "name": "python3"
  },
  "language_info": {
   "codemirror_mode": {
    "name": "ipython",
    "version": 3
   },
   "file_extension": ".py",
   "mimetype": "text/x-python",
   "name": "python",
   "nbconvert_exporter": "python",
   "pygments_lexer": "ipython3",
   "version": "3.8.10"
  },
  "vscode": {
   "interpreter": {
    "hash": "cf1539642ed891428415602806b8f5bad9b8d9b38358d499da812ad12d2a3cac"
   }
  }
 },
 "nbformat": 4,
 "nbformat_minor": 0
}
