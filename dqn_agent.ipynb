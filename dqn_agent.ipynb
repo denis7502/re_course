{
 "cells": [
  {
   "cell_type": "code",
   "execution_count": 2,
   "outputs": [],
   "source": [
    "import chess\n",
    "\n",
    "from chess_app.environment import ChessInterface\n",
    "from re_algoritms.agents import RandomAgent, QAgent\n",
    "from chess_app.dataset.loader import loaderChessPos, tanstsovVecLoader\n",
    "import chess.svg\n",
    "from tqdm import tqdm\n"
   ],
   "metadata": {
    "collapsed": false,
    "pycharm": {
     "name": "#%%\n"
    }
   }
  },
  {
   "cell_type": "code",
   "execution_count": 3,
   "outputs": [],
   "source": [
    "\n",
    "def is_checkmate(board, state):\n",
    "    board.set_fen(state)\n",
    "    return board.is_checkmate()\n"
   ],
   "metadata": {
    "collapsed": false,
    "pycharm": {
     "name": "#%%\n"
    }
   }
  },
  {
   "cell_type": "code",
   "execution_count": 18,
   "outputs": [],
   "source": [
    "from re_algoritms.dqn import GrandMasterNet\n",
    "from re_algoritms.agents import DQNAgent\n",
    "\n",
    "board = chess.Board()\n",
    "\n",
    "e = 0.1\n",
    "lr = 0.3\n",
    "gamma = 0.3\n",
    "n_epochs = 100\n",
    "\n",
    "policy_net = GrandMasterNet(\n",
    "    board_vec_dim=70,\n",
    "    moves_vec_dim=5\n",
    ")\n",
    "player = DQNAgent(\n",
    "    lr=lr, gamma=gamma, model=policy_net\n",
    ")\n",
    "loader = tanstsovVecLoader(r'chess_app\\dataset\\result.json', r'chess_app\\dataset\\settings.json')\n",
    "loader.createDf()\n",
    "dataset = loader.getAllData()"
   ],
   "metadata": {
    "collapsed": false,
    "pycharm": {
     "name": "#%%\n"
    }
   }
  },
  {
   "cell_type": "code",
   "execution_count": 17,
   "outputs": [
    {
     "name": "stdout",
     "output_type": "stream",
     "text": [
      "[0 0 0 0 7 0 1 0 0 0 0 0 0 0 0 0 0 0 0 0 0 0 3 0 0 0 0 0 0 0 0 0 0 0 0 0 0\n",
      " 0 0 0 0 0 0 0 0 0 0 0 0 0 0 0 0 0 0 0 0 0 0 0 0 0 0 0 0 0 0 0] <class 'numpy.ndarray'>\n"
     ]
    }
   ],
   "source": [
    "for row in loader.getAllData().to_numpy():\n",
    "    print(row, type(row))\n",
    "    break"
   ],
   "metadata": {
    "collapsed": false,
    "pycharm": {
     "name": "#%%\n"
    }
   }
  },
  {
   "cell_type": "code",
   "execution_count": null,
   "outputs": [],
   "source": [
    "# bc_win = 0\n",
    "# wh_win = 0\n",
    "# stockfish = ChessInterface(verbose=True, engine_path=r\"./chess_app/src/stockfish_15_x64_avx2.exe\")\n",
    "# for epoch in range(n_epochs):\n",
    "#     for cnt_to_finish in list(loader.games.keys()):\n",
    "#         for state in tqdm(loader.games[cnt_to_finish]):\n",
    "#             stockfish.stockfish.set_fen_position(state)\n",
    "#             # actions = list() # todo: выбранная вероятность\n",
    "#             rewards = list()     # ...\n",
    "#\n",
    "#             move_counter = 1\n",
    "#             reward = 0\n",
    "#             black_win = False\n",
    "#             white_win = False\n",
    "#             new_state = state\n",
    "#             b_state = None\n",
    "#             while not is_checkmate(board, new_state):\n",
    "#                 stockfish.stockfish.set_fen_position(new_state)\n",
    "#                 player_move = player.return_move(new_state, stockfish, e)\n",
    "#                 #print(f'Player move:{player_move}')\n",
    "#                 stockfish.player_move(player_move)\n",
    "#                 #new_state = stockfish.stockfish.get_fen_position()\n",
    "#             # actions.append(new_state) # ?\n",
    "#                 move_counter += 1\n",
    "#                 if move_counter > 5:\n",
    "#                     black_win = True\n",
    "#                     bc_win += 1\n",
    "#                     break\n",
    "#                 # actions.append(new_state)\n",
    "#\n",
    "#                 if is_checkmate(board, new_state):\n",
    "#                     wh_win += 1\n",
    "#                     white_win = True\n",
    "#                 else:\n",
    "#                     machine_move = stockfish.env_move()\n",
    "#                     new_state = stockfish.get_board_fen()\n",
    "#                     #print(f'Machine move:{machine_move}')\n",
    "#                 if is_checkmate(board, new_state) and not white_win:\n",
    "#                     bc_win += 1\n",
    "#                     black_win = True\n",
    "#                 print(actions)\n",
    "#\n",
    "#\n",
    "#\n",
    "#                 #print('---')\n",
    "#                 # break\n",
    "#\n",
    "#             if black_win is True:\n",
    "#                 reward = -1\n",
    "#             else:\n",
    "#                 reward = 1\n",
    "#\n",
    "#             player.update_policy(reward=reward)\n",
    "#             # break\n",
    "#         print(f'Win: {wh_win}\\t Lose: {bc_win}')"
   ],
   "metadata": {
    "collapsed": false,
    "pycharm": {
     "name": "#%%\n"
    }
   }
  },
  {
   "cell_type": "code",
   "execution_count": 19,
   "outputs": [
    {
     "ename": "NameError",
     "evalue": "name 'da' is not defined",
     "output_type": "error",
     "traceback": [
      "\u001B[1;31m---------------------------------------------------------------------------\u001B[0m",
      "\u001B[1;31mNameError\u001B[0m                                 Traceback (most recent call last)",
      "Cell \u001B[1;32mIn [19], line 5\u001B[0m\n\u001B[0;32m      3\u001B[0m stockfish \u001B[38;5;241m=\u001B[39m ChessInterface(verbose\u001B[38;5;241m=\u001B[39m\u001B[38;5;28;01mTrue\u001B[39;00m, engine_path\u001B[38;5;241m=\u001B[39m\u001B[38;5;124mr\u001B[39m\u001B[38;5;124m\"\u001B[39m\u001B[38;5;124m./chess_app/src/stockfish_15_x64_avx2.exe\u001B[39m\u001B[38;5;124m\"\u001B[39m)\n\u001B[0;32m      4\u001B[0m \u001B[38;5;28;01mfor\u001B[39;00m epoch \u001B[38;5;129;01min\u001B[39;00m \u001B[38;5;28mrange\u001B[39m(n_epochs):\n\u001B[1;32m----> 5\u001B[0m     \u001B[38;5;28;01mfor\u001B[39;00m state \u001B[38;5;129;01min\u001B[39;00m tqdm(\u001B[43mda\u001B[49m):\n\u001B[0;32m      6\u001B[0m         new_state \u001B[38;5;241m=\u001B[39m state\n\u001B[0;32m      7\u001B[0m         \u001B[38;5;66;03m# init necessary for game\u001B[39;00m\n",
      "\u001B[1;31mNameError\u001B[0m: name 'da' is not defined"
     ]
    }
   ],
   "source": [
    "bc_win = 0\n",
    "wh_win = 0\n",
    "stockfish = ChessInterface(verbose=True, engine_path=r\"./chess_app/src/stockfish_15_x64_avx2.exe\")\n",
    "for epoch in range(n_epochs):\n",
    "    for state in tqdm(dataset.to_numpy()):\n",
    "        new_state = state\n",
    "        # init necessary for game\n",
    "\n",
    "        black_win = False\n",
    "        white_win = False\n",
    "\n",
    "        stockfish.set_board_fen(state)\n",
    "        all_rewards = list()\n",
    "\n",
    "        for _ in range(5):\n",
    "            # player make move\n",
    "            stockfish.set_board_fen(new_state)\n",
    "            player_move = player.return_move(\n",
    "                state,\n",
    "                stockfish.get_top_steps() # todo\n",
    "            )\n",
    "            stockfish.player_move(player_move)\n",
    "\n",
    "            all_rewards.append(0)\n",
    "\n",
    "            if is_checkmate(board, new_state):\n",
    "                white_win = True\n",
    "                break\n",
    "\n",
    "            # environment make move\n",
    "            machine_move = stockfish.env_move()\n",
    "            new_state = stockfish.get_board_fen()\n",
    "\n",
    "            if is_checkmate(board, new_state):\n",
    "                black_win = True\n",
    "                break\n",
    "        else:\n",
    "            black_win = True\n",
    "\n",
    "\n",
    "        if black_win is True:\n",
    "            reward = -1\n",
    "        else:\n",
    "            reward = 1\n",
    "\n",
    "        player.update_policy(reward=all_rewards)"
   ],
   "metadata": {
    "collapsed": false,
    "pycharm": {
     "name": "#%%\n"
    }
   }
  },
  {
   "cell_type": "markdown",
   "source": [],
   "metadata": {
    "collapsed": false,
    "pycharm": {
     "name": "#%% md\n"
    }
   }
  }
 ],
 "metadata": {
  "kernelspec": {
   "display_name": "Python 3.8.10 ('.course_re': venv)",
   "language": "python",
   "name": "python3"
  },
  "language_info": {
   "codemirror_mode": {
    "name": "ipython",
    "version": 3
   },
   "file_extension": ".py",
   "mimetype": "text/x-python",
   "name": "python",
   "nbconvert_exporter": "python",
   "pygments_lexer": "ipython3",
   "version": "3.8.10"
  },
  "vscode": {
   "interpreter": {
    "hash": "cf1539642ed891428415602806b8f5bad9b8d9b38358d499da812ad12d2a3cac"
   }
  }
 },
 "nbformat": 4,
 "nbformat_minor": 0
}