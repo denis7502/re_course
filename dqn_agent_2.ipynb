{
 "cells": [
  {
   "cell_type": "code",
   "execution_count": 1,
   "metadata": {
    "collapsed": false,
    "pycharm": {
     "name": "#%%\n"
    }
   },
   "outputs": [],
   "source": [
    "import chess\n",
    "import torch\n",
    "\n",
    "from chess_app.environment import ChessInterface\n",
    "from chess_app.chess_exceptions import NotEnoughMovesExceptions\n",
    "from re_algoritms.agents import RandomAgent, QAgent\n",
    "from chess_app.dataset.loader import loaderChessPos, tanstsovVecLoader\n",
    "import chess.svg\n",
    "from tqdm import tqdm\n"
   ]
  },
  {
   "cell_type": "code",
   "execution_count": 2,
   "metadata": {
    "collapsed": false,
    "pycharm": {
     "name": "#%%\n"
    }
   },
   "outputs": [],
   "source": [
    "board = chess.Board()\n",
    "\n",
    "def is_checkmate(board, state):\n",
    "    board.set_fen(state)\n",
    "    return board.is_checkmate()\n"
   ]
  },
  {
   "cell_type": "markdown",
   "source": [
    "# Hyperparameters"
   ],
   "metadata": {
    "collapsed": false,
    "pycharm": {
     "name": "#%% md\n"
    }
   }
  },
  {
   "cell_type": "code",
   "execution_count": 3,
   "outputs": [],
   "source": [
    "frac = 0.01\n",
    "\n",
    "lr = 1e-2\n",
    "gamma = 0.96\n",
    "n_epochs = 100\n",
    "max_moves = 4\n",
    "\n",
    "stalemate_reward = 0.1\n",
    "too_much_reward = -0.6"
   ],
   "metadata": {
    "collapsed": false,
    "pycharm": {
     "name": "#%%\n"
    }
   }
  },
  {
   "cell_type": "markdown",
   "source": [
    "# DQN Agent and dataset"
   ],
   "metadata": {
    "collapsed": false,
    "pycharm": {
     "name": "#%% md\n"
    }
   }
  },
  {
   "cell_type": "code",
   "execution_count": 4,
   "outputs": [],
   "source": [
    "from re_algoritms.dqn import GrandMasterNet\n",
    "from re_algoritms.agents import DQNAgent\n",
    "\n",
    "policy_net = GrandMasterNet(\n",
    "    board_vec_dim=68,\n",
    "    moves_vec_dim=5\n",
    ")\n",
    "player = DQNAgent(\n",
    "    lr=lr, gamma=gamma, model=policy_net\n",
    ")\n",
    "\n",
    "loader = tanstsovVecLoader(r'chess_app\\dataset\\result.json', r'chess_app\\dataset\\settings.json')\n",
    "loader.createDf()\n",
    "\n",
    "dataset = loader.getAllData(frac=frac)\n",
    "fen_strings = dataset.iloc[:, 0]\n",
    "dataset = dataset.iloc[:, 1:]"
   ],
   "metadata": {
    "collapsed": false,
    "pycharm": {
     "name": "#%%\n"
    }
   }
  },
  {
   "cell_type": "markdown",
   "source": [
    "# wandb logging"
   ],
   "metadata": {
    "collapsed": false,
    "pycharm": {
     "name": "#%% md\n"
    }
   }
  },
  {
   "cell_type": "code",
   "execution_count": 5,
   "outputs": [
    {
     "name": "stderr",
     "output_type": "stream",
     "text": [
      "\u001B[34m\u001B[1mwandb\u001B[0m: Currently logged in as: \u001B[33mcrazy_historian\u001B[0m (\u001B[33mai_community\u001B[0m). Use \u001B[1m`wandb login --relogin`\u001B[0m to force relogin\n"
     ]
    },
    {
     "data": {
      "text/plain": "<IPython.core.display.HTML object>",
      "text/html": "Tracking run with wandb version 0.13.7"
     },
     "metadata": {},
     "output_type": "display_data"
    },
    {
     "data": {
      "text/plain": "<IPython.core.display.HTML object>",
      "text/html": "Run data is saved locally in <code>E:\\re_course\\wandb\\run-20221227_002151-56pbq2f4</code>"
     },
     "metadata": {},
     "output_type": "display_data"
    },
    {
     "data": {
      "text/plain": "<IPython.core.display.HTML object>",
      "text/html": "Syncing run <strong><a href=\"https://wandb.ai/ai_community/chess-rl/runs/56pbq2f4\" target=\"_blank\">devoted-wildflower-26</a></strong> to <a href=\"https://wandb.ai/ai_community/chess-rl\" target=\"_blank\">Weights & Biases</a> (<a href=\"https://wandb.me/run\" target=\"_blank\">docs</a>)<br/>"
     },
     "metadata": {},
     "output_type": "display_data"
    },
    {
     "data": {
      "text/plain": "[]"
     },
     "execution_count": 5,
     "metadata": {},
     "output_type": "execute_result"
    }
   ],
   "source": [
    "import wandb\n",
    "\n",
    "wandb.init(\n",
    "    project='chess-rl',\n",
    "    config={\n",
    "        'epochs': n_epochs,\n",
    "        'lr': lr,\n",
    "        'max_moves': max_moves,\n",
    "        'gamma': gamma,\n",
    "        'frac': frac,\n",
    "        'dataset_len': len(fen_strings),\n",
    "        'loss_func': '1 - torch.mean(torch.mul(self.actions, rewards))'\n",
    "    }\n",
    ")\n",
    "\n",
    "wandb.run.name = f'BoardNet: {3}, MovesNet: {2}, OutputNet: {2},' \\\n",
    "                 f'activation: leaky-relu,' \\\n",
    "                 f'lr={lr},' \\\n",
    "                 f'gamma={gamma},' \\\n",
    "                 f'shuffle,' \\\n",
    "                 f'stalemate_reward={stalemate_reward},' \\\n",
    "                 f'too_much_reward={too_much_reward}'\n",
    "\n",
    "wandb.define_metric(\"epochs\")\n",
    "\n",
    "wandb.define_metric(\"loss\", summary=\"min\")\n",
    "wandb.define_metric(\"loss_epoch\", summary=\"min\")\n",
    "\n",
    "wandb.define_metric('move_num')\n",
    "\n",
    "wandb.define_metric(\"win_rate\", summary=\"max\")\n",
    "wandb.define_metric(\"win_rate_epoch\", summary=\"max\")\n",
    "\n",
    "wandb.define_metric(\"lose_rate\", summary=\"min\")\n",
    "wandb.define_metric(\"lose_rate_epoch\", summary=\"min\")\n",
    "\n",
    "wandb.define_metric('stalemate_rate', summary=\"min\")\n",
    "wandb.define_metric('stalemate_rate_epoch', summary=\"min\")\n",
    "\n",
    "wandb.define_metric('too_much_rate', summary=\"min\")\n",
    "wandb.define_metric('too_much_rate_epoch', summary=\"min\")\n",
    "\n",
    "wandb.watch(player.policy_net, log='all', log_freq=10)"
   ],
   "metadata": {
    "collapsed": false,
    "pycharm": {
     "name": "#%%\n"
    }
   }
  },
  {
   "cell_type": "markdown",
   "source": [
    "# Learning (or Training)"
   ],
   "metadata": {
    "collapsed": false,
    "pycharm": {
     "name": "#%% md\n"
    }
   }
  },
  {
   "cell_type": "code",
   "execution_count": 6,
   "outputs": [
    {
     "name": "stdout",
     "output_type": "stream",
     "text": [
      "\n",
      "Epoch num: 0\n",
      "\n",
      "\n",
      "Epoch num: 1\n",
      "\n",
      "\n",
      "Epoch num: 2\n",
      "\n",
      "\n",
      "Epoch num: 3\n",
      "\n",
      "\n",
      "Epoch num: 4\n",
      "\n",
      "\n",
      "Epoch num: 5\n",
      "\n",
      "\n",
      "Epoch num: 6\n",
      "\n",
      "\n",
      "Epoch num: 7\n",
      "\n",
      "\n",
      "Epoch num: 8\n",
      "\n",
      "\n",
      "Epoch num: 9\n",
      "\n",
      "\n",
      "Epoch num: 10\n",
      "\n",
      "\n",
      "Epoch num: 11\n",
      "\n",
      "\n",
      "Epoch num: 12\n",
      "\n",
      "\n",
      "Epoch num: 13\n",
      "\n",
      "\n",
      "Epoch num: 14\n",
      "\n",
      "\n",
      "Epoch num: 15\n",
      "\n",
      "\n",
      "Epoch num: 16\n",
      "\n",
      "\n",
      "Epoch num: 17\n",
      "\n",
      "\n",
      "Epoch num: 18\n",
      "\n",
      "\n",
      "Epoch num: 19\n",
      "\n",
      "\n",
      "Epoch num: 20\n",
      "\n",
      "\n",
      "Epoch num: 21\n",
      "\n",
      "\n",
      "Epoch num: 22\n",
      "\n",
      "\n",
      "Epoch num: 23\n",
      "\n",
      "\n",
      "Epoch num: 24\n",
      "\n",
      "\n",
      "Epoch num: 25\n",
      "\n",
      "\n",
      "Epoch num: 26\n",
      "\n",
      "\n",
      "Epoch num: 27\n",
      "\n",
      "\n",
      "Epoch num: 28\n",
      "\n",
      "\n",
      "Epoch num: 29\n",
      "\n",
      "\n",
      "Epoch num: 30\n",
      "\n",
      "\n",
      "Epoch num: 31\n",
      "\n",
      "\n",
      "Epoch num: 32\n",
      "\n",
      "\n",
      "Epoch num: 33\n",
      "\n",
      "\n",
      "Epoch num: 34\n",
      "\n",
      "\n",
      "Epoch num: 35\n",
      "\n",
      "\n",
      "Epoch num: 36\n",
      "\n",
      "\n",
      "Epoch num: 37\n",
      "\n",
      "\n",
      "Epoch num: 38\n",
      "\n",
      "\n",
      "Epoch num: 39\n",
      "\n",
      "\n",
      "Epoch num: 40\n",
      "\n",
      "\n",
      "Epoch num: 41\n",
      "\n",
      "\n",
      "Epoch num: 42\n",
      "\n",
      "\n",
      "Epoch num: 43\n",
      "\n",
      "\n",
      "Epoch num: 44\n",
      "\n",
      "\n",
      "Epoch num: 45\n",
      "\n",
      "\n",
      "Epoch num: 46\n",
      "\n",
      "\n",
      "Epoch num: 47\n",
      "\n",
      "\n",
      "Epoch num: 48\n",
      "\n",
      "\n",
      "Epoch num: 49\n",
      "\n",
      "\n",
      "Epoch num: 50\n",
      "\n",
      "\n",
      "Epoch num: 51\n",
      "\n",
      "\n",
      "Epoch num: 52\n",
      "\n",
      "\n",
      "Epoch num: 53\n",
      "\n",
      "\n",
      "Epoch num: 54\n",
      "\n",
      "\n",
      "Epoch num: 55\n",
      "\n",
      "\n",
      "Epoch num: 56\n",
      "\n",
      "\n",
      "Epoch num: 57\n",
      "\n",
      "\n",
      "Epoch num: 58\n",
      "\n",
      "\n",
      "Epoch num: 59\n",
      "\n",
      "\n",
      "Epoch num: 60\n",
      "\n",
      "\n",
      "Epoch num: 61\n",
      "\n",
      "\n",
      "Epoch num: 62\n",
      "\n",
      "\n",
      "Epoch num: 63\n",
      "\n",
      "\n",
      "Epoch num: 64\n",
      "\n",
      "\n",
      "Epoch num: 65\n",
      "\n",
      "\n",
      "Epoch num: 66\n",
      "\n",
      "\n",
      "Epoch num: 67\n",
      "\n",
      "\n",
      "Epoch num: 68\n",
      "\n",
      "\n",
      "Epoch num: 69\n",
      "\n",
      "\n",
      "Epoch num: 70\n",
      "\n",
      "\n",
      "Epoch num: 71\n",
      "\n",
      "\n",
      "Epoch num: 72\n",
      "\n",
      "\n",
      "Epoch num: 73\n",
      "\n"
     ]
    },
    {
     "ename": "KeyboardInterrupt",
     "evalue": "",
     "output_type": "error",
     "traceback": [
      "\u001B[1;31m---------------------------------------------------------------------------\u001B[0m",
      "\u001B[1;31mKeyboardInterrupt\u001B[0m                         Traceback (most recent call last)",
      "Cell \u001B[1;32mIn [6], line 35\u001B[0m\n\u001B[0;32m     31\u001B[0m stockfish\u001B[38;5;241m.\u001B[39mset_board_fen(new_state)\n\u001B[0;32m     32\u001B[0m \u001B[38;5;28;01mtry\u001B[39;00m:\n\u001B[0;32m     33\u001B[0m     player_move, move_num \u001B[38;5;241m=\u001B[39m player\u001B[38;5;241m.\u001B[39mreturn_move(\n\u001B[0;32m     34\u001B[0m         new_array,\n\u001B[1;32m---> 35\u001B[0m         \u001B[43mstockfish\u001B[49m\u001B[38;5;241;43m.\u001B[39;49m\u001B[43mget_top_steps\u001B[49m\u001B[43m(\u001B[49m\u001B[43m)\u001B[49m \u001B[38;5;66;03m# todo\u001B[39;00m\n\u001B[0;32m     36\u001B[0m     )\n\u001B[0;32m     37\u001B[0m     wandb\u001B[38;5;241m.\u001B[39mlog({\u001B[38;5;124m'\u001B[39m\u001B[38;5;124mmove_num\u001B[39m\u001B[38;5;124m'\u001B[39m: move_num})\n\u001B[0;32m     38\u001B[0m     stockfish\u001B[38;5;241m.\u001B[39mplayer_move(player_move)\n",
      "File \u001B[1;32mE:\\re_course\\chess_app\\environment.py:74\u001B[0m, in \u001B[0;36mChessInterface.get_top_steps\u001B[1;34m(self, n)\u001B[0m\n\u001B[0;32m     73\u001B[0m \u001B[38;5;28;01mdef\u001B[39;00m \u001B[38;5;21mget_top_steps\u001B[39m(\u001B[38;5;28mself\u001B[39m, n\u001B[38;5;241m=\u001B[39m\u001B[38;5;241m5\u001B[39m):\n\u001B[1;32m---> 74\u001B[0m     steps \u001B[38;5;241m=\u001B[39m \u001B[38;5;28;43mself\u001B[39;49m\u001B[38;5;241;43m.\u001B[39;49m\u001B[43mstockfish\u001B[49m\u001B[38;5;241;43m.\u001B[39;49m\u001B[43mget_top_moves\u001B[49m\u001B[43m(\u001B[49m\u001B[43mn\u001B[49m\u001B[43m)\u001B[49m\n\u001B[0;32m     75\u001B[0m     array \u001B[38;5;241m=\u001B[39m np\u001B[38;5;241m.\u001B[39marray([])\n\u001B[0;32m     76\u001B[0m     \u001B[38;5;28;01mfor\u001B[39;00m step \u001B[38;5;129;01min\u001B[39;00m steps:\n",
      "File \u001B[1;32mE:\\re_course\\venv\\lib\\site-packages\\stockfish\\models.py:540\u001B[0m, in \u001B[0;36mStockfish.get_top_moves\u001B[1;34m(self, num_top_moves)\u001B[0m\n\u001B[0;32m    538\u001B[0m lines \u001B[38;5;241m=\u001B[39m []\n\u001B[0;32m    539\u001B[0m \u001B[38;5;28;01mwhile\u001B[39;00m \u001B[38;5;28;01mTrue\u001B[39;00m:\n\u001B[1;32m--> 540\u001B[0m     text \u001B[38;5;241m=\u001B[39m \u001B[38;5;28;43mself\u001B[39;49m\u001B[38;5;241;43m.\u001B[39;49m\u001B[43m_read_line\u001B[49m\u001B[43m(\u001B[49m\u001B[43m)\u001B[49m\n\u001B[0;32m    541\u001B[0m     splitted_text \u001B[38;5;241m=\u001B[39m text\u001B[38;5;241m.\u001B[39msplit(\u001B[38;5;124m\"\u001B[39m\u001B[38;5;124m \u001B[39m\u001B[38;5;124m\"\u001B[39m)\n\u001B[0;32m    542\u001B[0m     lines\u001B[38;5;241m.\u001B[39mappend(splitted_text)\n",
      "File \u001B[1;32mE:\\re_course\\venv\\lib\\site-packages\\stockfish\\models.py:161\u001B[0m, in \u001B[0;36mStockfish._read_line\u001B[1;34m(self)\u001B[0m\n\u001B[0;32m    159\u001B[0m \u001B[38;5;28;01mif\u001B[39;00m \u001B[38;5;28mself\u001B[39m\u001B[38;5;241m.\u001B[39m_stockfish\u001B[38;5;241m.\u001B[39mpoll() \u001B[38;5;129;01mis\u001B[39;00m \u001B[38;5;129;01mnot\u001B[39;00m \u001B[38;5;28;01mNone\u001B[39;00m:\n\u001B[0;32m    160\u001B[0m     \u001B[38;5;28;01mraise\u001B[39;00m StockfishException(\u001B[38;5;124m\"\u001B[39m\u001B[38;5;124mThe Stockfish process has crashed\u001B[39m\u001B[38;5;124m\"\u001B[39m)\n\u001B[1;32m--> 161\u001B[0m \u001B[38;5;28;01mreturn\u001B[39;00m \u001B[38;5;28;43mself\u001B[39;49m\u001B[38;5;241;43m.\u001B[39;49m\u001B[43m_stockfish\u001B[49m\u001B[38;5;241;43m.\u001B[39;49m\u001B[43mstdout\u001B[49m\u001B[38;5;241;43m.\u001B[39;49m\u001B[43mreadline\u001B[49m\u001B[43m(\u001B[49m\u001B[43m)\u001B[49m\u001B[38;5;241m.\u001B[39mstrip()\n",
      "File \u001B[1;32m~\\AppData\\Local\\Programs\\Python\\Python39\\lib\\encodings\\cp1251.py:22\u001B[0m, in \u001B[0;36mIncrementalDecoder.decode\u001B[1;34m(self, input, final)\u001B[0m\n\u001B[0;32m     21\u001B[0m \u001B[38;5;28;01mclass\u001B[39;00m \u001B[38;5;21;01mIncrementalDecoder\u001B[39;00m(codecs\u001B[38;5;241m.\u001B[39mIncrementalDecoder):\n\u001B[1;32m---> 22\u001B[0m     \u001B[38;5;28;01mdef\u001B[39;00m \u001B[38;5;21mdecode\u001B[39m(\u001B[38;5;28mself\u001B[39m, \u001B[38;5;28minput\u001B[39m, final\u001B[38;5;241m=\u001B[39m\u001B[38;5;28;01mFalse\u001B[39;00m):\n\u001B[0;32m     23\u001B[0m         \u001B[38;5;28;01mreturn\u001B[39;00m codecs\u001B[38;5;241m.\u001B[39mcharmap_decode(\u001B[38;5;28minput\u001B[39m,\u001B[38;5;28mself\u001B[39m\u001B[38;5;241m.\u001B[39merrors,decoding_table)[\u001B[38;5;241m0\u001B[39m]\n",
      "\u001B[1;31mKeyboardInterrupt\u001B[0m: "
     ]
    }
   ],
   "source": [
    "bc_win = 0\n",
    "wh_win = 0\n",
    "stockfish = ChessInterface(verbose=True, engine_path=r\"./chess_app/src/stockfish_15_x64_avx2.exe\")\n",
    "\n",
    "loss = None\n",
    "\n",
    "player.reset_actions()\n",
    "player.policy_net.train()\n",
    "\n",
    "for epoch in range(n_epochs):\n",
    "    print(f'\\nEpoch num: {epoch}\\n')\n",
    "    count_w_l = [0, 0, 0, 0]\n",
    "    for num, (array, fen_string) in enumerate(zip(dataset.to_numpy(), fen_strings)):\n",
    "        # print(fen_string)\n",
    "        # init necessary for game\n",
    "        new_state = fen_string\n",
    "        new_array = array\n",
    "\n",
    "        move_num = None\n",
    "\n",
    "        black_win = False\n",
    "        white_win = False\n",
    "        stalemate = False\n",
    "        too_much_moves = False\n",
    "\n",
    "        stockfish.set_board_fen(new_state)\n",
    "        all_rewards = list()\n",
    "\n",
    "        for _ in range(max_moves):\n",
    "            # player make move\n",
    "            stockfish.set_board_fen(new_state)\n",
    "            try:\n",
    "                player_move, move_num = player.return_move(\n",
    "                    new_array,\n",
    "                    stockfish.get_top_steps() # todo\n",
    "                )\n",
    "                wandb.log({'move_num': move_num})\n",
    "                stockfish.player_move(player_move)\n",
    "                new_state = stockfish.get_board_fen()\n",
    "\n",
    "                all_rewards.append(0)\n",
    "                # print(f'\\tPlayer move: {player_move}, num of move: {move_num}')\n",
    "                if is_checkmate(board, new_state):\n",
    "                    white_win = True\n",
    "                    break\n",
    "            except NotEnoughMovesExceptions:\n",
    "                # print('NotEnoughMovesExceptions')\n",
    "                if len(all_rewards) < 1:\n",
    "                    all_rewards.append(-1)\n",
    "                else:\n",
    "                    all_rewards[-1] = 1\n",
    "                black_win = True\n",
    "                break\n",
    "\n",
    "            # environment make move\n",
    "            try:\n",
    "                machine_move = stockfish.env_move()\n",
    "                new_state = stockfish.get_board_fen()\n",
    "                # print(f'\\tMachine move: {machine_move}')\n",
    "                new_array = loader.extractPos(new_state, -1, -1)\n",
    "                new_array = list(new_array.values())[3:]\n",
    "\n",
    "                if is_checkmate(board, new_state):\n",
    "                    black_win = True\n",
    "                    break\n",
    "\n",
    "            except ValueError as err:\n",
    "                # print('Произошел пат!!!!!!!!!!!!!')\n",
    "                stalemate = True\n",
    "                break\n",
    "\n",
    "        else:\n",
    "            # print(f'> {max_moves}  ходов')\n",
    "            too_much_moves = True\n",
    "\n",
    "\n",
    "        if black_win is True:\n",
    "            reward = -1\n",
    "            count_w_l[1] += 1\n",
    "        elif stalemate is True:\n",
    "            reward = stalemate_reward\n",
    "            count_w_l[2] += 1\n",
    "        elif too_much_moves is True:\n",
    "            reward = too_much_reward\n",
    "            count_w_l[3] += 1\n",
    "        else:\n",
    "            reward = 1\n",
    "            count_w_l[0] += 1\n",
    "\n",
    "        all_rewards[-1] = reward\n",
    "        loss = player.update_policy(all_rewards)\n",
    "        # if num % 20 == 0 and num != 0:\n",
    "        #     print(f'Num of move: {move_num}')\n",
    "        #     print(f'Loss value: {loss}, num of party: {num}')\n",
    "        #     print(f'Win rate: {count_w_l[0]}')\n",
    "        #     print(f'Lose rate: {count_w_l[1]}')\n",
    "        #     print(f'Stalemate rate: {count_w_l[2]}')\n",
    "        #     print(f'Too much moves rate: {count_w_l[3]}')\n",
    "        if num != 0:\n",
    "            wandb.log({\n",
    "                'loss': loss,\n",
    "                'win_rate': count_w_l[0]/ num,\n",
    "                'lose_rate': count_w_l[1]/ num,\n",
    "                'stalemate_rate': count_w_l[2]/ num,\n",
    "                'too_much_rate': count_w_l[3]/ num,\n",
    "             })\n",
    "    wandb.log({\n",
    "        'epochs': n_epochs,\n",
    "        'loss_epoch': loss,\n",
    "        'win_rate_epoch': count_w_l[0]/ len(fen_strings),\n",
    "        'lose_rate_epoch': count_w_l[1]/ len(fen_strings),\n",
    "        'stalemate_rate_epoch': count_w_l[2]/ len(fen_strings),\n",
    "        'too_much_rate_epoch': count_w_l[3]/ len(fen_strings),\n",
    "    })\n",
    "    torch.save(player.policy_net.state_dict(), 'weight_2.pth')\n"
   ],
   "metadata": {
    "collapsed": false,
    "pycharm": {
     "name": "#%%\n"
    }
   }
  },
  {
   "cell_type": "markdown",
   "metadata": {
    "collapsed": false,
    "pycharm": {
     "name": "#%% md\n"
    }
   },
   "source": []
  }
 ],
 "metadata": {
  "kernelspec": {
   "display_name": "Python 3.8.10 ('.course_re': venv)",
   "language": "python",
   "name": "python3"
  },
  "language_info": {
   "codemirror_mode": {
    "name": "ipython",
    "version": 3
   },
   "file_extension": ".py",
   "mimetype": "text/x-python",
   "name": "python",
   "nbconvert_exporter": "python",
   "pygments_lexer": "ipython3",
   "version": "3.8.10"
  },
  "vscode": {
   "interpreter": {
    "hash": "cf1539642ed891428415602806b8f5bad9b8d9b38358d499da812ad12d2a3cac"
   }
  }
 },
 "nbformat": 4,
 "nbformat_minor": 0
}