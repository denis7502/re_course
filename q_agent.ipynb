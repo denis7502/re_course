{
 "cells": [
  {
   "cell_type": "code",
   "execution_count": 1,
   "outputs": [],
   "source": [
    "import chess\n",
    "\n",
    "from chess_app.environment import ChessInterface\n",
    "from re_algoritms.agents import RandomAgent, QAgent\n",
    "from chess_app.dataset.loader import loaderChessPos\n",
    "import chess.svg\n",
    "from tqdm import tqdm\n"
   ],
   "metadata": {
    "collapsed": false,
    "pycharm": {
     "name": "#%%\n"
    }
   }
  },
  {
   "cell_type": "code",
   "execution_count": 2,
   "outputs": [
    {
     "name": "stdout",
     "output_type": "stream",
     "text": [
      "(1, 20)\n",
      "[[ 0.          0.          0.          0.          0.          0.33333333\n",
      "   0.         -0.33333333  0.33333333  0.          0.          0.33333333\n",
      "   0.          0.          0.         -0.33333333  0.          0.\n",
      "  -0.66666667  0.        ]]\n"
     ]
    }
   ],
   "source": [
    "from sklearn.feature_extraction.text import HashingVectorizer\n",
    "# list of text documents\n",
    "text = [\"The quick brown fox jumped over the lazy dog.\"]\n",
    "# create the transform\n",
    "vectorizer = HashingVectorizer(n_features=20)\n",
    "# encode document\n",
    "vector = vectorizer.transform(text)\n",
    "# summarize encoded vector\n",
    "print(vector.shape)\n",
    "print(vector.toarray())"
   ],
   "metadata": {
    "collapsed": false,
    "pycharm": {
     "name": "#%%\n"
    }
   }
  },
  {
   "cell_type": "code",
   "execution_count": 27,
   "outputs": [
    {
     "ename": "AssertionError",
     "evalue": "",
     "output_type": "error",
     "traceback": [
      "\u001B[1;31m---------------------------------------------------------------------------\u001B[0m",
      "\u001B[1;31mAssertionError\u001B[0m                            Traceback (most recent call last)",
      "Cell \u001B[1;32mIn [27], line 9\u001B[0m\n\u001B[0;32m      6\u001B[0m vec1 \u001B[38;5;241m=\u001B[39m vectorizer\u001B[38;5;241m.\u001B[39mtransform([fen_string])\u001B[38;5;241m.\u001B[39mtoarray()\n\u001B[0;32m      7\u001B[0m vec2 \u001B[38;5;241m=\u001B[39m vectorizer\u001B[38;5;241m.\u001B[39mtransform([fen_string_2])\u001B[38;5;241m.\u001B[39mtoarray()\n\u001B[1;32m----> 9\u001B[0m \u001B[38;5;28;01massert\u001B[39;00m np\u001B[38;5;241m.\u001B[39marray_equal(vec1, vec2)\n",
      "\u001B[1;31mAssertionError\u001B[0m: "
     ]
    }
   ],
   "source": [
    "import numpy as np\n",
    "\n",
    "fen_string = 'rnbqkbnr/pppp1ppp/4p3/8/4P3/8/PPPP1PPP/RNBQKBNR w KQkq - 0 2'\n",
    "fen_string_2 = 'rnbqkbnr/pppp1ppp/4p3/8/4P3/8/PPPP1PPP/rNBQKBNR w KQkq - 0 2'\n",
    "vectorizer = HashingVectorizer(n_features=32, lowercase=False, analyzer='char')\n",
    "vec1 = vectorizer.transform([fen_string]).toarray()\n",
    "vec2 = vectorizer.transform([fen_string_2]).toarray()\n",
    "\n",
    "assert np.array_equal(vec1, vec2)"
   ],
   "metadata": {
    "collapsed": false,
    "pycharm": {
     "name": "#%%\n"
    }
   }
  },
  {
   "cell_type": "code",
   "execution_count": 89,
   "outputs": [
    {
     "name": "stdout",
     "output_type": "stream",
     "text": [
      "[[0. 0. 0. 1. 0.]] [[0. 0. 1. 0. 0.]]\n"
     ]
    },
    {
     "ename": "AssertionError",
     "evalue": "",
     "output_type": "error",
     "traceback": [
      "\u001B[1;31m---------------------------------------------------------------------------\u001B[0m",
      "\u001B[1;31mAssertionError\u001B[0m                            Traceback (most recent call last)",
      "Cell \u001B[1;32mIn [89], line 8\u001B[0m\n\u001B[0;32m      5\u001B[0m vec2 \u001B[38;5;241m=\u001B[39m vectorizer\u001B[38;5;241m.\u001B[39mtransform([move2])\u001B[38;5;241m.\u001B[39mtoarray()\n\u001B[0;32m      7\u001B[0m \u001B[38;5;28mprint\u001B[39m(vec1, vec2)\n\u001B[1;32m----> 8\u001B[0m \u001B[38;5;28;01massert\u001B[39;00m np\u001B[38;5;241m.\u001B[39marray_equal(vec1, vec2)\n",
      "\u001B[1;31mAssertionError\u001B[0m: "
     ]
    }
   ],
   "source": [
    "move1 = 'a2a5'\n",
    "move2 = 'a2a9'\n",
    "vectorizer = HashingVectorizer(n_features=5, lowercase=False, analyzer='word')\n",
    "vec1 = vectorizer.transform([move1]).toarray()\n",
    "vec2 = vectorizer.transform([move2]).toarray()\n",
    "\n",
    "print(vec1, vec2)\n",
    "assert np.array_equal(vec1, vec2)"
   ],
   "metadata": {
    "collapsed": false,
    "pycharm": {
     "name": "#%%\n"
    }
   }
  },
  {
   "cell_type": "code",
   "execution_count": 102,
   "outputs": [
    {
     "name": "stdout",
     "output_type": "stream",
     "text": [
      "2133\n"
     ]
    },
    {
     "data": {
      "text/plain": "0.13141314131413143"
     },
     "execution_count": 102,
     "metadata": {},
     "output_type": "execute_result"
    }
   ],
   "source": [
    "def move_to_number(move: str) -> float:\n",
    "    letters = ['a', 'b', 'c', 'd', 'e', 'f', 'g', 'h']\n",
    "    nums = [str(i + 1) for i in range(len(letters))]\n",
    "    letters_to_num = dict(zip(letters, nums))\n",
    "\n",
    "    move = list(move)\n",
    "    move[0] = letters_to_num[move[0]]\n",
    "    move[2] = letters_to_num[move[2]]\n",
    "    move = ''.join(move)\n",
    "    print(move)\n",
    "\n",
    "    move = int(move)\n",
    "\n",
    "    return (move - 1111) / (8888 - 1111)\n",
    "\n",
    "move_to_number('b1c3')"
   ],
   "metadata": {
    "collapsed": false,
    "pycharm": {
     "name": "#%%\n"
    }
   }
  },
  {
   "cell_type": "code",
   "execution_count": 2,
   "outputs": [],
   "source": [
    "\n",
    "def is_checkmate(board, state):\n",
    "    board.set_fen(state)\n",
    "    return board.is_checkmate()\n"
   ],
   "metadata": {
    "collapsed": false,
    "pycharm": {
     "name": "#%%\n"
    }
   }
  },
  {
   "cell_type": "code",
   "execution_count": 3,
   "outputs": [],
   "source": [
    "board = chess.Board()\n",
    "\n",
    "\n",
    "e = 0.1\n",
    "lr = 0.3\n",
    "gamma = 0.3\n",
    "n_epochs = 100\n",
    "player = QAgent(lr, gamma)\n",
    "loader = loaderChessPos(r'./chess_app/dataset')"
   ],
   "metadata": {
    "collapsed": false,
    "pycharm": {
     "name": "#%%\n"
    }
   }
  },
  {
   "cell_type": "code",
   "execution_count": 4,
   "outputs": [
    {
     "name": "stderr",
     "output_type": "stream",
     "text": [
      "  0%|          | 0/1217 [00:00<?, ?it/s]\n"
     ]
    },
    {
     "ename": "KeyError",
     "evalue": "'k1K5/8/2R5/8/8/8/8/8 w - - 0 1'",
     "output_type": "error",
     "traceback": [
      "\u001B[1;31m---------------------------------------------------------------------------\u001B[0m",
      "\u001B[1;31mKeyError\u001B[0m                                  Traceback (most recent call last)",
      "Cell \u001B[1;32mIn [4], line 18\u001B[0m\n\u001B[0;32m     16\u001B[0m \u001B[38;5;28;01mwhile\u001B[39;00m \u001B[38;5;129;01mnot\u001B[39;00m is_checkmate(board, new_state):\n\u001B[0;32m     17\u001B[0m     stockfish\u001B[38;5;241m.\u001B[39mstockfish\u001B[38;5;241m.\u001B[39mset_fen_position(new_state)\n\u001B[1;32m---> 18\u001B[0m     player_move \u001B[38;5;241m=\u001B[39m \u001B[43mplayer\u001B[49m\u001B[38;5;241;43m.\u001B[39;49m\u001B[43mreturn_move\u001B[49m\u001B[43m(\u001B[49m\u001B[43mnew_state\u001B[49m\u001B[43m,\u001B[49m\u001B[43m \u001B[49m\u001B[43mstockfish\u001B[49m\u001B[43m,\u001B[49m\u001B[43m \u001B[49m\u001B[43me\u001B[49m\u001B[43m)\u001B[49m\n\u001B[0;32m     19\u001B[0m     \u001B[38;5;66;03m#print(f'Player move:{player_move}')\u001B[39;00m\n\u001B[0;32m     20\u001B[0m     stockfish\u001B[38;5;241m.\u001B[39mplayer_move(player_move)\n",
      "File \u001B[1;32mC:\\Study\\Projects\\re_course\\re_algoritms\\agents.py:127\u001B[0m, in \u001B[0;36mQAgent.return_move\u001B[1;34m(self, state, stockfish, e)\u001B[0m\n\u001B[0;32m    125\u001B[0m     \u001B[38;5;28;01mreturn\u001B[39;00m move\n\u001B[0;32m    126\u001B[0m \u001B[38;5;28;01melse\u001B[39;00m:\n\u001B[1;32m--> 127\u001B[0m     \u001B[38;5;28;01mreturn\u001B[39;00m \u001B[38;5;28mstr\u001B[39m(\u001B[38;5;28;43mself\u001B[39;49m\u001B[38;5;241;43m.\u001B[39;49m\u001B[43mget_move_with_max_qvalue\u001B[49m\u001B[43m(\u001B[49m\u001B[43mstate\u001B[49m\u001B[43m)\u001B[49m)\n",
      "File \u001B[1;32mC:\\Study\\Projects\\re_course\\re_algoritms\\agents.py:174\u001B[0m, in \u001B[0;36mQAgent.get_move_with_max_qvalue\u001B[1;34m(self, state)\u001B[0m\n\u001B[0;32m    173\u001B[0m \u001B[38;5;28;01mdef\u001B[39;00m \u001B[38;5;21mget_move_with_max_qvalue\u001B[39m(\u001B[38;5;28mself\u001B[39m, state):\n\u001B[1;32m--> 174\u001B[0m     moves \u001B[38;5;241m=\u001B[39m \u001B[38;5;28;43mself\u001B[39;49m\u001B[38;5;241;43m.\u001B[39;49m\u001B[43mq_table\u001B[49m\u001B[43m[\u001B[49m\u001B[43mstate\u001B[49m\u001B[43m]\u001B[49m\n\u001B[0;32m    175\u001B[0m     max_q_move \u001B[38;5;241m=\u001B[39m \u001B[38;5;28mmax\u001B[39m(moves, key\u001B[38;5;241m=\u001B[39mmoves\u001B[38;5;241m.\u001B[39mget)\n\u001B[0;32m    176\u001B[0m     \u001B[38;5;28;01mreturn\u001B[39;00m \u001B[38;5;28mstr\u001B[39m(\u001B[38;5;28mself\u001B[39m\u001B[38;5;241m.\u001B[39mq_table[state][max_q_move]\u001B[38;5;241m.\u001B[39mmove)\n",
      "\u001B[1;31mKeyError\u001B[0m: 'k1K5/8/2R5/8/8/8/8/8 w - - 0 1'"
     ]
    }
   ],
   "source": [
    "bc_win = 0\n",
    "wh_win = 0\n",
    "stockfish = ChessInterface(verbose=True, engine_path=r\"./chess_app/src/stockfish_15_x64_avx2.exe\")\n",
    "for epoch in range(n_epochs):\n",
    "    for cnt_to_finish in list(loader.games.keys()):\n",
    "        for state in tqdm(loader.games[cnt_to_finish]):\n",
    "            stockfish.stockfish.set_fen_position(state)\n",
    "            actions = list()\n",
    "\n",
    "            move_counter = 1\n",
    "            reward = 0\n",
    "            black_win = False\n",
    "            white_win = False\n",
    "            new_state = state\n",
    "            b_state = None\n",
    "            while not is_checkmate(board, new_state):\n",
    "                stockfish.stockfish.set_fen_position(new_state)\n",
    "                player_move = player.return_move(new_state, stockfish, e)\n",
    "                #print(f'Player move:{player_move}')\n",
    "                stockfish.player_move(player_move)\n",
    "                #new_state = stockfish.stockfish.get_fen_position()\n",
    "            # actions.append(new_state) # ?\n",
    "                move_counter += 1\n",
    "                if move_counter > 5:\n",
    "                    black_win = True\n",
    "                    bc_win += 1\n",
    "                    break\n",
    "                actions.append(new_state)\n",
    "\n",
    "                if is_checkmate(board, new_state):\n",
    "                    wh_win += 1\n",
    "                    white_win = True\n",
    "                else:\n",
    "                    machine_move = stockfish.env_move()\n",
    "                    new_state = stockfish.get_board_fen()\n",
    "                    #print(f'Machine move:{machine_move}')\n",
    "                if is_checkmate(board, new_state) and not white_win:\n",
    "                    bc_win += 1\n",
    "                    black_win = True\n",
    "                print(actions)\n",
    "\n",
    "                    \n",
    "\n",
    "                #print('---')\n",
    "                # break\n",
    "\n",
    "            if black_win is True:\n",
    "                reward = -1\n",
    "            else:\n",
    "                reward = 1\n",
    "            print(player.q_table[actions[-2]])\n",
    "            player.calculate_qvalue(actions, reward=reward)\n",
    "            # break\n",
    "        print(f'Win: {wh_win}\\t Lose: {bc_win}')\n"
   ],
   "metadata": {
    "collapsed": false,
    "pycharm": {
     "name": "#%%\n"
    }
   }
  },
  {
   "cell_type": "markdown",
   "source": [],
   "metadata": {
    "collapsed": false,
    "pycharm": {
     "name": "#%% md\n"
    }
   }
  },
  {
   "cell_type": "code",
   "execution_count": null,
   "outputs": [],
   "source": [
    "player.q_table"
   ],
   "metadata": {
    "collapsed": false,
    "pycharm": {
     "name": "#%%\n"
    }
   }
  },
  {
   "cell_type": "code",
   "execution_count": null,
   "outputs": [],
   "source": [
    "board.set_fen(state)"
   ],
   "metadata": {
    "collapsed": false,
    "pycharm": {
     "name": "#%%\n"
    }
   }
  },
  {
   "cell_type": "code",
   "execution_count": null,
   "outputs": [],
   "source": [
    "board"
   ],
   "metadata": {
    "collapsed": false,
    "pycharm": {
     "name": "#%%\n"
    }
   }
  },
  {
   "cell_type": "code",
   "execution_count": null,
   "outputs": [],
   "source": [
    "state = stockfish.reset()\n",
    "board.set_fen(state)\n",
    "board.push_san('e2e4')\n",
    "board"
   ],
   "metadata": {
    "collapsed": false,
    "pycharm": {
     "name": "#%%\n"
    }
   }
  },
  {
   "cell_type": "code",
   "execution_count": null,
   "outputs": [],
   "source": [
    "brd = chess.Board()\n",
    "brd.push_san('e2e4')\n",
    "brd.push_san('e7e6')\n",
    "brd"
   ],
   "metadata": {
    "collapsed": false,
    "pycharm": {
     "name": "#%%\n"
    }
   }
  },
  {
   "cell_type": "code",
   "execution_count": null,
   "outputs": [],
   "source": [
    "brd.fen()"
   ],
   "metadata": {
    "collapsed": false,
    "pycharm": {
     "name": "#%%\n"
    }
   }
  },
  {
   "cell_type": "code",
   "execution_count": null,
   "outputs": [],
   "source": [
    "player.q_table"
   ],
   "metadata": {
    "collapsed": false,
    "pycharm": {
     "name": "#%%\n"
    }
   }
  }
 ],
 "metadata": {
  "kernelspec": {
   "display_name": "Python 3.8.10 ('.course_re': venv)",
   "language": "python",
   "name": "python3"
  },
  "language_info": {
   "codemirror_mode": {
    "name": "ipython",
    "version": 3
   },
   "file_extension": ".py",
   "mimetype": "text/x-python",
   "name": "python",
   "nbconvert_exporter": "python",
   "pygments_lexer": "ipython3",
   "version": "3.8.10"
  },
  "vscode": {
   "interpreter": {
    "hash": "cf1539642ed891428415602806b8f5bad9b8d9b38358d499da812ad12d2a3cac"
   }
  }
 },
 "nbformat": 4,
 "nbformat_minor": 0
}