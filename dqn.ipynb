{
 "cells": [
  {
   "cell_type": "code",
   "execution_count": 9,
   "metadata": {
    "pycharm": {
     "name": "#%%\n"
    }
   },
   "outputs": [],
   "source": [
    "import torch\n",
    "import torch.nn as nn\n",
    "import random\n",
    "import numpy as np\n",
    "import torch.distributions.categorical as cat"
   ]
  },
  {
   "cell_type": "code",
   "execution_count": 5,
   "metadata": {
    "pycharm": {
     "name": "#%%\n"
    }
   },
   "outputs": [],
   "source": [
    "class Policy(nn.Module):\n",
    "    def __init__(self):\n",
    "        super(Policy, self).__init__()\n",
    "        self.l1 = nn.Linear(9, 16, bias=True)\n",
    "        self.l2 = nn.Linear(16, 16, bias=True)\n",
    "        self.l3 = nn.Linear(16, 16, bias=True)\n",
    "        self.l4 = nn.Linear(16, 16, bias=True)\n",
    "        self.l5 = nn.Linear(16, 9, bias=False)\n",
    "\n",
    "        self.gamma = 0.96\n",
    "        self.learning_rate = 1*10**(-4)\n",
    "        \n",
    "        # Episode policy and reward history \n",
    "        self.policy_history = torch.autograd.Variable(torch.Tensor(), requires_grad = True)\n",
    "        self.reward_episode = []\n",
    "        # Overall reward and loss history\n",
    "        self.reward_history = []\n",
    "        self.loss_history = []\n",
    "\n",
    "    def forward(self, x):\n",
    "    \tmodel = torch.nn.Sequential(\n",
    "\t\t\tself.l1,\n",
    "\t\t\tnn.Tanh(),\n",
    "\t\t\tself.l2,\n",
    "\t\t\tnn.Tanh(),\n",
    "\t\t\tself.l3,\n",
    "\t\t\tnn.Tanh(),\n",
    "\t\t\tself.l4,\n",
    "\t\t\tnn.Tanh(),\n",
    "\t\t\tself.l5,\n",
    "\t\t\tnn.Softmax(dim=-1),\n",
    "    \t\t)\n",
    "    \treturn model(x)\n"
   ]
  },
  {
   "cell_type": "code",
   "execution_count": 26,
   "metadata": {
    "pycharm": {
     "name": "#%%\n"
    }
   },
   "outputs": [],
   "source": [
    "def select_action(state, policy, E):\n",
    "\n",
    "    #if random.random() < 0.1:\n",
    "    #\taction = np.array(random.choice(np.where(state == 0)[0]))\n",
    "    #\tactions = torch.from_numpy(action).type(torch.FloatTensor).reshape(1)\n",
    "    #else:\n",
    "    state = torch.from_numpy(state).type(torch.FloatTensor)\n",
    "    state = policy(torch.autograd.Variable(state))\n",
    "    print(state.shape)\n",
    "    c = cat.Categorical(state)\n",
    "    action = c.sample()\n",
    "    actions = c.log_prob(action)\n",
    "    actions = actions.unsqueeze(0)\n",
    "    if policy.policy_history.dim() > 0:\n",
    "        policy.policy_history = torch.cat([policy.policy_history, actions])\n",
    "    else:\n",
    "        policy.policy_history = (actions)\n",
    "    return action"
   ]
  },
  {
   "cell_type": "code",
   "execution_count": 29,
   "metadata": {
    "pycharm": {
     "name": "#%%\n"
    }
   },
   "outputs": [],
   "source": [
    "state = np.random.random((8,8))"
   ]
  },
  {
   "cell_type": "code",
   "execution_count": 30,
   "metadata": {
    "pycharm": {
     "name": "#%%\n"
    }
   },
   "outputs": [
    {
     "data": {
      "text/plain": [
       "array([[0.90839956, 0.06577263, 0.15133751, 0.08473626, 0.14643948,\n",
       "        0.75446274, 0.02025808, 0.52643415],\n",
       "       [0.68821504, 0.10836304, 0.49599774, 0.58321862, 0.25650437,\n",
       "        0.97216165, 0.2797234 , 0.28351155],\n",
       "       [0.9344961 , 0.76928161, 0.99344895, 0.70249731, 0.68028733,\n",
       "        0.02849469, 0.21232267, 0.90789863],\n",
       "       [0.89909638, 0.33311137, 0.52001213, 0.85334055, 0.46106895,\n",
       "        0.97514226, 0.19738283, 0.02086991],\n",
       "       [0.72824542, 0.69394229, 0.23137344, 0.75482203, 0.85275196,\n",
       "        0.67650224, 0.22368763, 0.74405521],\n",
       "       [0.50181119, 0.50894592, 0.67404171, 0.68500416, 0.73975792,\n",
       "        0.91761145, 0.73082377, 0.19509215],\n",
       "       [0.09018387, 0.42807647, 0.96503408, 0.20449753, 0.14310203,\n",
       "        0.91232165, 0.5995748 , 0.57091318],\n",
       "       [0.23703849, 0.50181196, 0.69067712, 0.65630291, 0.5741036 ,\n",
       "        0.13526447, 0.55228623, 0.21714244]])"
      ]
     },
     "execution_count": 30,
     "metadata": {},
     "output_type": "execute_result"
    }
   ],
   "source": [
    "state"
   ]
  },
  {
   "cell_type": "code",
   "execution_count": 11,
   "metadata": {
    "pycharm": {
     "name": "#%%\n"
    }
   },
   "outputs": [],
   "source": [
    "policy = Policy()"
   ]
  },
  {
   "cell_type": "code",
   "execution_count": 31,
   "metadata": {
    "pycharm": {
     "name": "#%%\n"
    }
   },
   "outputs": [
    {
     "ename": "RuntimeError",
     "evalue": "mat1 and mat2 shapes cannot be multiplied (8x8 and 9x16)",
     "output_type": "error",
     "traceback": [
      "\u001B[1;31m---------------------------------------------------------------------------\u001B[0m",
      "\u001B[1;31mRuntimeError\u001B[0m                              Traceback (most recent call last)",
      "Cell \u001B[1;32mIn [31], line 1\u001B[0m\n\u001B[1;32m----> 1\u001B[0m select_action(state, policy, \u001B[39m0.1\u001B[39;49m)\n",
      "Cell \u001B[1;32mIn [26], line 8\u001B[0m, in \u001B[0;36mselect_action\u001B[1;34m(state, policy, E)\u001B[0m\n\u001B[0;32m      1\u001B[0m \u001B[39mdef\u001B[39;00m \u001B[39mselect_action\u001B[39m(state, policy, E):\n\u001B[0;32m      2\u001B[0m \n\u001B[0;32m      3\u001B[0m     \u001B[39m#if random.random() < 0.1:\u001B[39;00m\n\u001B[0;32m      4\u001B[0m     \u001B[39m#\taction = np.array(random.choice(np.where(state == 0)[0]))\u001B[39;00m\n\u001B[0;32m      5\u001B[0m     \u001B[39m#\tactions = torch.from_numpy(action).type(torch.FloatTensor).reshape(1)\u001B[39;00m\n\u001B[0;32m      6\u001B[0m     \u001B[39m#else:\u001B[39;00m\n\u001B[0;32m      7\u001B[0m     state \u001B[39m=\u001B[39m torch\u001B[39m.\u001B[39mfrom_numpy(state)\u001B[39m.\u001B[39mtype(torch\u001B[39m.\u001B[39mFloatTensor)\n\u001B[1;32m----> 8\u001B[0m     state \u001B[39m=\u001B[39m policy(torch\u001B[39m.\u001B[39;49mautograd\u001B[39m.\u001B[39;49mVariable(state))\n\u001B[0;32m      9\u001B[0m     \u001B[39mprint\u001B[39m(state\u001B[39m.\u001B[39mshape)\n\u001B[0;32m     10\u001B[0m     c \u001B[39m=\u001B[39m cat\u001B[39m.\u001B[39mCategorical(state)\n",
      "File \u001B[1;32mc:\\my_prj\\re_course\\.course_re\\lib\\site-packages\\torch\\nn\\modules\\module.py:1190\u001B[0m, in \u001B[0;36mModule._call_impl\u001B[1;34m(self, *input, **kwargs)\u001B[0m\n\u001B[0;32m   1186\u001B[0m \u001B[39m# If we don't have any hooks, we want to skip the rest of the logic in\u001B[39;00m\n\u001B[0;32m   1187\u001B[0m \u001B[39m# this function, and just call forward.\u001B[39;00m\n\u001B[0;32m   1188\u001B[0m \u001B[39mif\u001B[39;00m \u001B[39mnot\u001B[39;00m (\u001B[39mself\u001B[39m\u001B[39m.\u001B[39m_backward_hooks \u001B[39mor\u001B[39;00m \u001B[39mself\u001B[39m\u001B[39m.\u001B[39m_forward_hooks \u001B[39mor\u001B[39;00m \u001B[39mself\u001B[39m\u001B[39m.\u001B[39m_forward_pre_hooks \u001B[39mor\u001B[39;00m _global_backward_hooks\n\u001B[0;32m   1189\u001B[0m         \u001B[39mor\u001B[39;00m _global_forward_hooks \u001B[39mor\u001B[39;00m _global_forward_pre_hooks):\n\u001B[1;32m-> 1190\u001B[0m     \u001B[39mreturn\u001B[39;00m forward_call(\u001B[39m*\u001B[39;49m\u001B[39minput\u001B[39;49m, \u001B[39m*\u001B[39;49m\u001B[39m*\u001B[39;49mkwargs)\n\u001B[0;32m   1191\u001B[0m \u001B[39m# Do not call functions when jit is used\u001B[39;00m\n\u001B[0;32m   1192\u001B[0m full_backward_hooks, non_full_backward_hooks \u001B[39m=\u001B[39m [], []\n",
      "Cell \u001B[1;32mIn [5], line 33\u001B[0m, in \u001B[0;36mPolicy.forward\u001B[1;34m(self, x)\u001B[0m\n\u001B[0;32m     20\u001B[0m     \u001B[39mdef\u001B[39;00m \u001B[39mforward\u001B[39m(\u001B[39mself\u001B[39m, x):\n\u001B[0;32m     21\u001B[0m     \tmodel \u001B[39m=\u001B[39m torch\u001B[39m.\u001B[39mnn\u001B[39m.\u001B[39mSequential(\n\u001B[0;32m     22\u001B[0m \t\t\t\u001B[39mself\u001B[39m\u001B[39m.\u001B[39ml1,\n\u001B[0;32m     23\u001B[0m \t\t\tnn\u001B[39m.\u001B[39mTanh(),\n\u001B[1;32m   (...)\u001B[0m\n\u001B[0;32m     31\u001B[0m \t\t\tnn\u001B[39m.\u001B[39mSoftmax(dim\u001B[39m=\u001B[39m\u001B[39m-\u001B[39m\u001B[39m1\u001B[39m),\n\u001B[0;32m     32\u001B[0m     \t\t)\n\u001B[1;32m---> 33\u001B[0m     \t\u001B[39mreturn\u001B[39;00m model(x)\n",
      "File \u001B[1;32mc:\\my_prj\\re_course\\.course_re\\lib\\site-packages\\torch\\nn\\modules\\module.py:1190\u001B[0m, in \u001B[0;36mModule._call_impl\u001B[1;34m(self, *input, **kwargs)\u001B[0m\n\u001B[0;32m   1186\u001B[0m \u001B[39m# If we don't have any hooks, we want to skip the rest of the logic in\u001B[39;00m\n\u001B[0;32m   1187\u001B[0m \u001B[39m# this function, and just call forward.\u001B[39;00m\n\u001B[0;32m   1188\u001B[0m \u001B[39mif\u001B[39;00m \u001B[39mnot\u001B[39;00m (\u001B[39mself\u001B[39m\u001B[39m.\u001B[39m_backward_hooks \u001B[39mor\u001B[39;00m \u001B[39mself\u001B[39m\u001B[39m.\u001B[39m_forward_hooks \u001B[39mor\u001B[39;00m \u001B[39mself\u001B[39m\u001B[39m.\u001B[39m_forward_pre_hooks \u001B[39mor\u001B[39;00m _global_backward_hooks\n\u001B[0;32m   1189\u001B[0m         \u001B[39mor\u001B[39;00m _global_forward_hooks \u001B[39mor\u001B[39;00m _global_forward_pre_hooks):\n\u001B[1;32m-> 1190\u001B[0m     \u001B[39mreturn\u001B[39;00m forward_call(\u001B[39m*\u001B[39;49m\u001B[39minput\u001B[39;49m, \u001B[39m*\u001B[39;49m\u001B[39m*\u001B[39;49mkwargs)\n\u001B[0;32m   1191\u001B[0m \u001B[39m# Do not call functions when jit is used\u001B[39;00m\n\u001B[0;32m   1192\u001B[0m full_backward_hooks, non_full_backward_hooks \u001B[39m=\u001B[39m [], []\n",
      "File \u001B[1;32mc:\\my_prj\\re_course\\.course_re\\lib\\site-packages\\torch\\nn\\modules\\container.py:204\u001B[0m, in \u001B[0;36mSequential.forward\u001B[1;34m(self, input)\u001B[0m\n\u001B[0;32m    202\u001B[0m \u001B[39mdef\u001B[39;00m \u001B[39mforward\u001B[39m(\u001B[39mself\u001B[39m, \u001B[39minput\u001B[39m):\n\u001B[0;32m    203\u001B[0m     \u001B[39mfor\u001B[39;00m module \u001B[39min\u001B[39;00m \u001B[39mself\u001B[39m:\n\u001B[1;32m--> 204\u001B[0m         \u001B[39minput\u001B[39m \u001B[39m=\u001B[39m module(\u001B[39minput\u001B[39;49m)\n\u001B[0;32m    205\u001B[0m     \u001B[39mreturn\u001B[39;00m \u001B[39minput\u001B[39m\n",
      "File \u001B[1;32mc:\\my_prj\\re_course\\.course_re\\lib\\site-packages\\torch\\nn\\modules\\module.py:1190\u001B[0m, in \u001B[0;36mModule._call_impl\u001B[1;34m(self, *input, **kwargs)\u001B[0m\n\u001B[0;32m   1186\u001B[0m \u001B[39m# If we don't have any hooks, we want to skip the rest of the logic in\u001B[39;00m\n\u001B[0;32m   1187\u001B[0m \u001B[39m# this function, and just call forward.\u001B[39;00m\n\u001B[0;32m   1188\u001B[0m \u001B[39mif\u001B[39;00m \u001B[39mnot\u001B[39;00m (\u001B[39mself\u001B[39m\u001B[39m.\u001B[39m_backward_hooks \u001B[39mor\u001B[39;00m \u001B[39mself\u001B[39m\u001B[39m.\u001B[39m_forward_hooks \u001B[39mor\u001B[39;00m \u001B[39mself\u001B[39m\u001B[39m.\u001B[39m_forward_pre_hooks \u001B[39mor\u001B[39;00m _global_backward_hooks\n\u001B[0;32m   1189\u001B[0m         \u001B[39mor\u001B[39;00m _global_forward_hooks \u001B[39mor\u001B[39;00m _global_forward_pre_hooks):\n\u001B[1;32m-> 1190\u001B[0m     \u001B[39mreturn\u001B[39;00m forward_call(\u001B[39m*\u001B[39;49m\u001B[39minput\u001B[39;49m, \u001B[39m*\u001B[39;49m\u001B[39m*\u001B[39;49mkwargs)\n\u001B[0;32m   1191\u001B[0m \u001B[39m# Do not call functions when jit is used\u001B[39;00m\n\u001B[0;32m   1192\u001B[0m full_backward_hooks, non_full_backward_hooks \u001B[39m=\u001B[39m [], []\n",
      "File \u001B[1;32mc:\\my_prj\\re_course\\.course_re\\lib\\site-packages\\torch\\nn\\modules\\linear.py:114\u001B[0m, in \u001B[0;36mLinear.forward\u001B[1;34m(self, input)\u001B[0m\n\u001B[0;32m    113\u001B[0m \u001B[39mdef\u001B[39;00m \u001B[39mforward\u001B[39m(\u001B[39mself\u001B[39m, \u001B[39minput\u001B[39m: Tensor) \u001B[39m-\u001B[39m\u001B[39m>\u001B[39m Tensor:\n\u001B[1;32m--> 114\u001B[0m     \u001B[39mreturn\u001B[39;00m F\u001B[39m.\u001B[39;49mlinear(\u001B[39minput\u001B[39;49m, \u001B[39mself\u001B[39;49m\u001B[39m.\u001B[39;49mweight, \u001B[39mself\u001B[39;49m\u001B[39m.\u001B[39;49mbias)\n",
      "\u001B[1;31mRuntimeError\u001B[0m: mat1 and mat2 shapes cannot be multiplied (8x8 and 9x16)"
     ]
    }
   ],
   "source": [
    "select_action(state, policy, 0.1)"
   ]
  }
 ],
 "metadata": {
  "kernelspec": {
   "display_name": "Python 3.8.10 ('.course_re': venv)",
   "language": "python",
   "name": "python3"
  },
  "language_info": {
   "codemirror_mode": {
    "name": "ipython",
    "version": 3
   },
   "file_extension": ".py",
   "mimetype": "text/x-python",
   "name": "python",
   "nbconvert_exporter": "python",
   "pygments_lexer": "ipython3",
   "version": "3.8.10"
  },
  "orig_nbformat": 4,
  "vscode": {
   "interpreter": {
    "hash": "cf1539642ed891428415602806b8f5bad9b8d9b38358d499da812ad12d2a3cac"
   }
  }
 },
 "nbformat": 4,
 "nbformat_minor": 2
}